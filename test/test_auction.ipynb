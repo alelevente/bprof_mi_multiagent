{
 "cells": [
  {
   "cell_type": "markdown",
   "id": "bffd7cfa",
   "metadata": {},
   "source": [
    "# **Testing the Auction module**"
   ]
  },
  {
   "cell_type": "code",
   "execution_count": 49,
   "id": "d14336a6",
   "metadata": {},
   "outputs": [
    {
     "data": {
      "text/plain": [
       "<module 'auction' from '../auction.py'>"
      ]
     },
     "execution_count": 49,
     "metadata": {},
     "output_type": "execute_result"
    }
   ],
   "source": [
    "import sys\n",
    "import numpy as np\n",
    "from importlib import reload\n",
    "sys.path.append(\"../\")\n",
    "\n",
    "import auction\n",
    "reload(auction)"
   ]
  },
  {
   "cell_type": "markdown",
   "id": "f5a836ee",
   "metadata": {},
   "source": [
    "## **Functionality testing**"
   ]
  },
  {
   "cell_type": "markdown",
   "id": "61c1f595",
   "metadata": {},
   "source": [
    "### Small sample"
   ]
  },
  {
   "cell_type": "code",
   "execution_count": 50,
   "id": "fb6ac72b",
   "metadata": {},
   "outputs": [],
   "source": [
    "starting_prices = np.random.normal(300, 15, 10)\n",
    "\n",
    "def preference_function(current_prices):\n",
    "    return np.argmin(current_prices)"
   ]
  },
  {
   "cell_type": "code",
   "execution_count": 52,
   "id": "d45a5135",
   "metadata": {},
   "outputs": [],
   "source": [
    "auctions = [auction.Auctioneer(starting_prices[i], 10) for i in range(10)]\n",
    "buyers = [auction.Buyer(auctions, 5000, preference_function) for i in range(10)]"
   ]
  },
  {
   "cell_type": "code",
   "execution_count": 53,
   "id": "a4a39959",
   "metadata": {},
   "outputs": [],
   "source": [
    "result = auction.run_auctions(auctions, buyers)"
   ]
  },
  {
   "cell_type": "code",
   "execution_count": 54,
   "id": "5b412ce2",
   "metadata": {},
   "outputs": [
    {
     "data": {
      "text/plain": [
       "[{'auction_index': 4, 'buyer_index': 2, 'price': 295.3617983360573},\n",
       " {'auction_index': 9, 'buyer_index': 3, 'price': 296.8404787707831},\n",
       " {'auction_index': 3, 'buyer_index': 6, 'price': 307.9757010244889},\n",
       " {'auction_index': 5, 'buyer_index': 4, 'price': 306.98039433301926},\n",
       " {'auction_index': 6, 'buyer_index': 5, 'price': 307.0874325979114},\n",
       " {'auction_index': 0, 'buyer_index': 0, 'price': 313.69020521278185},\n",
       " {'auction_index': 1, 'buyer_index': 8, 'price': 317.514739603201},\n",
       " {'auction_index': 2, 'buyer_index': 9, 'price': 320.6626967246292},\n",
       " {'auction_index': 7, 'buyer_index': 1, 'price': 313.89790796537113},\n",
       " {'auction_index': 8, 'buyer_index': 7, 'price': 314.1105261659304}]"
      ]
     },
     "execution_count": 54,
     "metadata": {},
     "output_type": "execute_result"
    }
   ],
   "source": [
    "result"
   ]
  },
  {
   "cell_type": "markdown",
   "id": "249169d6",
   "metadata": {},
   "source": [
    "### Bigger sample"
   ]
  }
 ],
 "metadata": {
  "kernelspec": {
   "display_name": "Python 3",
   "language": "python",
   "name": "python3"
  },
  "language_info": {
   "codemirror_mode": {
    "name": "ipython",
    "version": 3
   },
   "file_extension": ".py",
   "mimetype": "text/x-python",
   "name": "python",
   "nbconvert_exporter": "python",
   "pygments_lexer": "ipython3",
   "version": "3.7.3"
  }
 },
 "nbformat": 4,
 "nbformat_minor": 5
}
