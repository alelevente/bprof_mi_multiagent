{
 "cells": [
  {
   "cell_type": "markdown",
   "id": "635b2775",
   "metadata": {},
   "source": [
    "# **Parking lot generation**\n",
    "\n",
    "This notebook is used to create the basic simulation. Basic simulation consists of:\n",
    "- randomized network\n",
    "- with randomized parking lots (capacity for 400 vehicles)\n",
    "- 400 random vehicle trips\n",
    "- which terminates in parking lots\n",
    "- parking rerouters to everyone find a parking lot\n",
    "\n",
    "**Prerequisites:**\n",
    "1. Install [Eclipse SUMO](https://www.eclipse.org/sumo/)\n",
    "2. Set the SUMO_HOME variable"
   ]
  },
  {
   "cell_type": "code",
   "execution_count": 1,
   "id": "75834c61",
   "metadata": {},
   "outputs": [],
   "source": [
    "import xml.etree.ElementTree as ET\n",
    "from xml.dom import minidom\n",
    "import numpy as np\n",
    "import os"
   ]
  },
  {
   "cell_type": "code",
   "execution_count": 9,
   "id": "4e11b0dc",
   "metadata": {},
   "outputs": [],
   "source": [
    "SUMO_HOME = \"/usr/share/sumo\""
   ]
  },
  {
   "cell_type": "markdown",
   "id": "7fb1a0d0",
   "metadata": {},
   "source": [
    "## **Generating a random SUMO network**"
   ]
  },
  {
   "cell_type": "code",
   "execution_count": 2,
   "id": "ecdec25a",
   "metadata": {},
   "outputs": [
    {
     "data": {
      "text/plain": [
       "0"
      ]
     },
     "execution_count": 2,
     "metadata": {},
     "output_type": "execute_result"
    }
   ],
   "source": [
    "os.system(\"netgenerate --rand -o ../network.net.xml --rand.iterations=50\")"
   ]
  },
  {
   "cell_type": "markdown",
   "id": "15b4c2b7",
   "metadata": {},
   "source": [
    "## **Creating random trips for the SUMO simulation**"
   ]
  },
  {
   "cell_type": "code",
   "execution_count": 11,
   "id": "ed2e42fb",
   "metadata": {},
   "outputs": [
    {
     "data": {
      "text/plain": [
       "0"
      ]
     },
     "execution_count": 11,
     "metadata": {},
     "output_type": "execute_result"
    }
   ],
   "source": [
    "os.system('''python3 %s/tools/randomTrips.py -n ../network.net.xml -o flows.xml --begin 0 --end 1 --flows 400 --jtrrouter --trip-attributes 'departPos=\"random\" departSpeed=\"max\"' '''%SUMO_HOME)"
   ]
  },
  {
   "cell_type": "code",
   "execution_count": 13,
   "id": "a0d756eb",
   "metadata": {},
   "outputs": [
    {
     "data": {
      "text/plain": [
       "0"
      ]
     },
     "execution_count": 13,
     "metadata": {},
     "output_type": "execute_result"
    }
   ],
   "source": [
    "os.system(\"jtrrouter -c flow_gen.jtrrcfg --vtype-output ../vtype.xml\")"
   ]
  },
  {
   "cell_type": "markdown",
   "id": "4b3103e1",
   "metadata": {},
   "source": [
    "## **Generating parking lots**"
   ]
  },
  {
   "cell_type": "markdown",
   "id": "47809c99",
   "metadata": {},
   "source": [
    "### Reading SUMO network"
   ]
  },
  {
   "cell_type": "code",
   "execution_count": 14,
   "id": "b56a7fe8",
   "metadata": {},
   "outputs": [],
   "source": [
    "tree = ET.parse('../network.net.xml')\n",
    "root = tree.getroot()"
   ]
  },
  {
   "cell_type": "code",
   "execution_count": 15,
   "id": "c34d0427",
   "metadata": {},
   "outputs": [],
   "source": [
    "edge_ids = []\n",
    "lengths = []\n",
    "for neighbor in root.findall('edge'):\n",
    "    if neighbor.attrib[\"id\"][0] != \":\":\n",
    "        edge_ids.append(neighbor.attrib[\"id\"])\n",
    "        for lane in neighbor.findall(\"lane\"):\n",
    "            lengths.append(lane.attrib[\"length\"])"
   ]
  },
  {
   "cell_type": "code",
   "execution_count": 16,
   "id": "2c92147e",
   "metadata": {},
   "outputs": [],
   "source": [
    "edge_ids = np.array(edge_ids)\n",
    "lengths = np.array(lengths)"
   ]
  },
  {
   "cell_type": "markdown",
   "id": "1502a0f3",
   "metadata": {},
   "source": [
    "### Writing parking lots"
   ]
  },
  {
   "cell_type": "code",
   "execution_count": 17,
   "id": "7e2ddfb9",
   "metadata": {},
   "outputs": [],
   "source": [
    "num_cars = 400 #how many cars are in the simulation\n",
    "parking_lot_length = 6 #how long a parking lot shall be, given in meters\n",
    "save_to = \"../parkings.add.xml\" #where to save parking description file"
   ]
  },
  {
   "cell_type": "code",
   "execution_count": 18,
   "id": "be9aa810",
   "metadata": {},
   "outputs": [
    {
     "data": {
      "text/plain": [
       "<DOM Element: additionals at 0x7f346b89f470>"
      ]
     },
     "execution_count": 18,
     "metadata": {},
     "output_type": "execute_result"
    }
   ],
   "source": [
    "#creating the corresponding xml document:\n",
    "write_root = minidom.Document()\n",
    "\n",
    "xml = write_root.createElement(\"additionals\")\n",
    "write_root.appendChild(xml)"
   ]
  },
  {
   "cell_type": "code",
   "execution_count": 20,
   "id": "c83b9574",
   "metadata": {},
   "outputs": [],
   "source": [
    "#selecting edges for the parking lots:\n",
    "generated_lots = 0\n",
    "gen_ids = []\n",
    "#generate at least enough parking lots for the vehicles:\n",
    "while generated_lots < num_cars:\n",
    "    i = np.random.choice(a=range(0, len(edge_ids)), size=1)[0]\n",
    "    if not(\"pl%s\"%edge_ids[i] in gen_ids): #only unique parking lots are generated:\n",
    "        park_area = write_root.createElement(\"parkingArea\")\n",
    "        park_area.setAttribute(\"id\", \"pl%s\"%edge_ids[i])\n",
    "        gen_ids.append(\"pl%s\"%edge_ids[i])\n",
    "        park_area.setAttribute(\"lane\", \"%s_0\"%edge_ids[i])\n",
    "        park_area.setAttribute(\"startPos\", \"0\")\n",
    "        park_area.setAttribute(\"endPos\", \"%f\"%float(lengths[i]))\n",
    "        park_area.setAttribute(\"roadsideCapacity\", \"%d\"%(float(lengths[i])//parking_lot_length))\n",
    "        generated_lots += float(lengths[i])//parking_lot_length\n",
    "        xml.appendChild(park_area)"
   ]
  },
  {
   "cell_type": "code",
   "execution_count": 21,
   "id": "dac1f091",
   "metadata": {},
   "outputs": [],
   "source": [
    "xml_str = write_root.toprettyxml(indent =\"\\t\") \n",
    "with open(save_to, \"w\") as f:\n",
    "    f.write(xml_str)"
   ]
  },
  {
   "cell_type": "markdown",
   "id": "ddd388ee",
   "metadata": {},
   "source": [
    "# **Assigning vehicles to parking lots**\n",
    "\n",
    "For convenience, we will generate `incomplete routes` in case a vehicle does not pass any parking lot. (SUMO can handle this case.)"
   ]
  },
  {
   "cell_type": "code",
   "execution_count": 22,
   "id": "3892d4e7",
   "metadata": {},
   "outputs": [],
   "source": [
    "save_to_route = \"../parking_routes.rou.xml\" #file into save the created parking routes"
   ]
  },
  {
   "cell_type": "code",
   "execution_count": 23,
   "id": "16f072f5",
   "metadata": {},
   "outputs": [],
   "source": [
    "route_doc = minidom.parse('routes.xml') #file where routes are stored without stops at parking lots"
   ]
  },
  {
   "cell_type": "code",
   "execution_count": 24,
   "id": "598b8c14",
   "metadata": {},
   "outputs": [],
   "source": [
    "for veh in route_doc.getElementsByTagName('vehicle'):\n",
    "    route = veh.getElementsByTagName(\"route\")\n",
    "    route = route[0].getAttribute(\"edges\").split(\" \")\n",
    "    route = [\"pl\"+x for x in route]\n",
    "    \n",
    "    i = 0\n",
    "    while i<len(route) and not(route[-i] in gen_ids): i += 1\n",
    "    if i>=len(route):\n",
    "        #no parking along the route\n",
    "        #then we add one:\n",
    "        route = veh.getElementsByTagName(\"route\")\n",
    "        i = np.random.choice(a=range(0, len(gen_ids)), size=1)[0]\n",
    "        route[0].setAttribute(\"edges\", route[0].getAttribute(\"edges\")+\" \"+gen_ids[i].split(\"pl\")[-1])\n",
    "    else:\n",
    "        #last edge with parking lot is used:\n",
    "        i = gen_ids.index(route[-i])\n",
    "    #adding a stop at the selected parking lot:\n",
    "    stop = route_doc.createElement(\"stop\")\n",
    "    stop.setAttribute(\"parkingArea\", gen_ids[i])\n",
    "    stop.setAttribute(\"duration\", \"86400\")\n",
    "    veh.setAttribute(\"reroute\", \"true\")\n",
    "    veh.appendChild(stop)"
   ]
  },
  {
   "cell_type": "code",
   "execution_count": 25,
   "id": "20c0a9e6",
   "metadata": {},
   "outputs": [],
   "source": [
    "xml_str = route_doc.toprettyxml(indent =\"\\t\") \n",
    "with open(save_to_route, \"w\") as f:\n",
    "    f.write(xml_str)"
   ]
  },
  {
   "cell_type": "markdown",
   "id": "5f256eab",
   "metadata": {},
   "source": [
    "## **Generating ParkingAreaRerouters**"
   ]
  },
  {
   "cell_type": "code",
   "execution_count": 27,
   "id": "d705bb60",
   "metadata": {},
   "outputs": [
    {
     "data": {
      "text/plain": [
       "0"
      ]
     },
     "execution_count": 27,
     "metadata": {},
     "output_type": "execute_result"
    }
   ],
   "source": [
    "os.system(\"python3 %s/tools/generateParkingAreaRerouters.py -n ../network.net.xml -a ../parkings.add.xml --max-distance-alternatives 10000 --max-distance-visibility-true 1000 -o ../parking_rerouters.add.xml\"%SUMO_HOME)"
   ]
  }
 ],
 "metadata": {
  "kernelspec": {
   "display_name": "Python 3",
   "language": "python",
   "name": "python3"
  },
  "language_info": {
   "codemirror_mode": {
    "name": "ipython",
    "version": 3
   },
   "file_extension": ".py",
   "mimetype": "text/x-python",
   "name": "python",
   "nbconvert_exporter": "python",
   "pygments_lexer": "ipython3",
   "version": "3.7.3"
  }
 },
 "nbformat": 4,
 "nbformat_minor": 5
}
