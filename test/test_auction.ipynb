{
 "cells": [
  {
   "cell_type": "markdown",
   "id": "0dba5dde",
   "metadata": {},
   "source": [
    "# **Testing the Auction module**"
   ]
  },
  {
   "cell_type": "code",
   "execution_count": 15,
   "id": "84929772",
   "metadata": {},
   "outputs": [
    {
     "data": {
      "text/plain": [
       "<module 'auction' from '../auction.py'>"
      ]
     },
     "execution_count": 15,
     "metadata": {},
     "output_type": "execute_result"
    }
   ],
   "source": [
    "import sys\n",
    "import numpy as np\n",
    "from importlib import reload\n",
    "sys.path.append(\"../\")\n",
    "\n",
    "import auction\n",
    "reload(auction)"
   ]
  },
  {
   "cell_type": "markdown",
   "id": "78127400",
   "metadata": {},
   "source": [
    "## **Functionality testing**"
   ]
  },
  {
   "cell_type": "markdown",
   "id": "3211db95",
   "metadata": {},
   "source": [
    "### Small sample"
   ]
  },
  {
   "cell_type": "code",
   "execution_count": 16,
   "id": "d88f32c8",
   "metadata": {},
   "outputs": [],
   "source": [
    "starting_prices = np.random.normal(300, 15, 10)\n",
    "\n",
    "def preference_function(buyer_id, auction_ids, current_prices):\n",
    "    return np.argmin(current_prices)"
   ]
  },
  {
   "cell_type": "code",
   "execution_count": 17,
   "id": "e70ce045",
   "metadata": {},
   "outputs": [],
   "source": [
    "auctions = [auction.Auctioneer(starting_prices[i], 10, \"auc%d\"%i) for i in range(10)]\n",
    "buyers = [auction.Buyer(auctions, 5000, preference_function, \"buy%d\"%i) for i in range(10)]"
   ]
  },
  {
   "cell_type": "code",
   "execution_count": 18,
   "id": "0f19ae34",
   "metadata": {},
   "outputs": [],
   "source": [
    "result = auction.run_auctions(auctions, buyers)"
   ]
  },
  {
   "cell_type": "code",
   "execution_count": 19,
   "id": "b2ee2924",
   "metadata": {},
   "outputs": [
    {
     "data": {
      "text/plain": [
       "[{'auction_id': 'auc3', 'buyer_id': 'buy2', 'price': 291.0368101001911},\n",
       " {'auction_id': 'auc4', 'buyer_id': 'buy3', 'price': 293.364123579862},\n",
       " {'auction_id': 'auc0', 'buyer_id': 'buy6', 'price': 303.5627206499262},\n",
       " {'auction_id': 'auc1', 'buyer_id': 'buy8', 'price': 305.91692306865014},\n",
       " {'auction_id': 'auc7', 'buyer_id': 'buy7', 'price': 303.6941795235478},\n",
       " {'auction_id': 'auc9', 'buyer_id': 'buy5', 'price': 303.48500705711564},\n",
       " {'auction_id': 'auc2', 'buyer_id': 'buy1', 'price': 337.34809057020846},\n",
       " {'auction_id': 'auc5', 'buyer_id': 'buy4', 'price': 338.1047951980374},\n",
       " {'auction_id': 'auc6', 'buyer_id': 'buy0', 'price': 333.0740805534002},\n",
       " {'auction_id': 'auc8', 'buyer_id': 'buy9', 'price': 339.88755649767035}]"
      ]
     },
     "execution_count": 19,
     "metadata": {},
     "output_type": "execute_result"
    }
   ],
   "source": [
    "result"
   ]
  },
  {
   "cell_type": "markdown",
   "id": "e7ce99ed",
   "metadata": {},
   "source": [
    "### Bigger sample"
   ]
  },
  {
   "cell_type": "code",
   "execution_count": 20,
   "id": "d0c4a116",
   "metadata": {},
   "outputs": [],
   "source": [
    "starting_prices = np.random.normal(300, 15, 400)\n",
    "auctions = [auction.Auctioneer(starting_prices[i], 10, \"auc%d\"%i) for i in range(200)]\n",
    "buyers = [auction.Buyer(auctions, 5000, preference_function, \"buy%d\"%i) for i in range(200)]"
   ]
  },
  {
   "cell_type": "code",
   "execution_count": 21,
   "id": "3bed7b97",
   "metadata": {},
   "outputs": [],
   "source": [
    "result = auction.run_auctions(auctions, buyers)"
   ]
  },
  {
   "cell_type": "code",
   "execution_count": 23,
   "id": "02a0650b",
   "metadata": {},
   "outputs": [],
   "source": [
    "successful_buyers = []\n",
    "for r in result:\n",
    "    if r[\"buyer_id\"] in successful_buyers: raise(ValueError)\n",
    "    successful_buyers.append(r[\"buyer_id\"])"
   ]
  },
  {
   "cell_type": "code",
   "execution_count": 24,
   "id": "23434317",
   "metadata": {},
   "outputs": [
    {
     "data": {
      "text/plain": [
       "Text(0, 0.5, 'occurance')"
      ]
     },
     "execution_count": 24,
     "metadata": {},
     "output_type": "execute_result"
    },
    {
     "data": {
      "image/png": "[encoded data removed]",
      "text/plain": [
       "<Figure size 432x288 with 1 Axes>"
      ]
     },
     "metadata": {
      "needs_background": "light"
     },
     "output_type": "display_data"
    }
   ],
   "source": [
    "import matplotlib.pyplot as plt\n",
    "\n",
    "prices = []\n",
    "for r in result:\n",
    "    prices.append(r[\"price\"])\n",
    "    \n",
    "plt.hist(prices)\n",
    "plt.xlabel(\"price\")\n",
    "plt.ylabel(\"occurance\")"
   ]
  },
  {
   "cell_type": "markdown",
   "id": "62060565",
   "metadata": {},
   "source": [
    "## **Asymmetric test cases**"
   ]
  },
  {
   "cell_type": "markdown",
   "id": "0038f6ae",
   "metadata": {},
   "source": [
    "### #buyers > #items"
   ]
  },
  {
   "cell_type": "code",
   "execution_count": 25,
   "id": "b887bad9",
   "metadata": {},
   "outputs": [],
   "source": [
    "starting_prices = np.random.normal(300, 15, 30)\n",
    "auctions = [auction.Auctioneer(starting_prices[i], 10, \"auc%d\"%i) for i in range(30)]\n",
    "buyers = [auction.Buyer(auctions, 5000, preference_function, \"buy%d\"%i) for i in range(100)]"
   ]
  },
  {
   "cell_type": "code",
   "execution_count": 26,
   "id": "ab18f72f",
   "metadata": {},
   "outputs": [],
   "source": [
    "result = auction.run_auctions(auctions, buyers)"
   ]
  },
  {
   "cell_type": "code",
   "execution_count": 27,
   "id": "93b91fac",
   "metadata": {},
   "outputs": [],
   "source": [
    "successful_buyers = []\n",
    "for r in result:\n",
    "    if r[\"buyer_id\"] in successful_buyers: raise(ValueError)\n",
    "    successful_buyers.append(r[\"buyer_id\"])"
   ]
  },
  {
   "cell_type": "code",
   "execution_count": 28,
   "id": "02375db8",
   "metadata": {},
   "outputs": [
    {
     "data": {
      "text/plain": [
       "Text(0, 0.5, 'occurance')"
      ]
     },
     "execution_count": 28,
     "metadata": {},
     "output_type": "execute_result"
    },
    {
     "data": {
      "image/png": "[encoded data removed]",
      "text/plain": [
       "<Figure size 432x288 with 1 Axes>"
      ]
     },
     "metadata": {
      "needs_background": "light"
     },
     "output_type": "display_data"
    }
   ],
   "source": [
    "import matplotlib.pyplot as plt\n",
    "\n",
    "prices = []\n",
    "for r in result:\n",
    "    prices.append(r[\"price\"])\n",
    "    \n",
    "plt.hist(prices)\n",
    "plt.xlabel(\"price\")\n",
    "plt.ylabel(\"occurance\")"
   ]
  },
  {
   "cell_type": "markdown",
   "id": "21c3457e",
   "metadata": {},
   "source": [
    "### #buyers < #items"
   ]
  },
  {
   "cell_type": "code",
   "execution_count": 29,
   "id": "1bbff51a",
   "metadata": {},
   "outputs": [],
   "source": [
    "starting_prices = np.random.normal(300, 15, 50)\n",
    "auctions = [auction.Auctioneer(starting_prices[i], 10, \"auc%d\"%i) for i in range(50)]\n",
    "buyers = [auction.Buyer(auctions, 5000, preference_function, \"buy%d\"%i) for i in range(30)]"
   ]
  },
  {
   "cell_type": "code",
   "execution_count": 30,
   "id": "9e88d3ee",
   "metadata": {},
   "outputs": [],
   "source": [
    "result = auction.run_auctions(auctions, buyers)"
   ]
  },
  {
   "cell_type": "code",
   "execution_count": 31,
   "id": "7809a37c",
   "metadata": {},
   "outputs": [
    {
     "data": {
      "text/plain": [
       "[{'auction_id': 'auc30', 'buyer_id': 'buy1', 'price': 267.7459025763495},\n",
       " {'auction_id': 'auc33', 'buyer_id': 'buy2', 'price': 269.4847314089553},\n",
       " {'auction_id': 'auc45', 'buyer_id': 'buy0', 'price': 266.46558943847504},\n",
       " {'auction_id': 'auc1', 'buyer_id': 'buy4', 'price': 278.05417057548794},\n",
       " {'auction_id': 'auc13', 'buyer_id': 'buy6', 'price': 279.5124085897559},\n",
       " {'auction_id': 'auc36', 'buyer_id': 'buy5', 'price': 279.36701339231405},\n",
       " {'auction_id': 'auc7', 'buyer_id': 'buy8', 'price': 283.3121758712705},\n",
       " {'auction_id': 'auc12', 'buyer_id': 'buy3', 'price': 280.6159153083878},\n",
       " {'auction_id': 'auc14', 'buyer_id': 'buy9', 'price': 285.72690791918603},\n",
       " {'auction_id': 'auc28', 'buyer_id': 'buy10', 'price': 287.77253004966366},\n",
       " {'auction_id': 'auc29', 'buyer_id': 'buy7', 'price': 283.06824068280184},\n",
       " {'auction_id': 'auc24', 'buyer_id': 'buy11', 'price': 288.01830418163644},\n",
       " {'auction_id': 'auc40', 'buyer_id': 'buy13', 'price': 289.6482675678544},\n",
       " {'auction_id': 'auc43', 'buyer_id': 'buy12', 'price': 289.1263299978682},\n",
       " {'auction_id': 'auc6', 'buyer_id': 'buy14', 'price': 290.6654065405468},\n",
       " {'auction_id': 'auc17', 'buyer_id': 'buy16', 'price': 292.1080321176648},\n",
       " {'auction_id': 'auc19', 'buyer_id': 'buy15', 'price': 291.6499381142448},\n",
       " {'auction_id': 'auc4', 'buyer_id': 'buy17', 'price': 293.20158493582727},\n",
       " {'auction_id': 'auc8', 'buyer_id': 'buy19', 'price': 293.937827490821},\n",
       " {'auction_id': 'auc11', 'buyer_id': 'buy20', 'price': 294.815120996424},\n",
       " {'auction_id': 'auc18', 'buyer_id': 'buy18', 'price': 293.8929612267743},\n",
       " {'auction_id': 'auc21', 'buyer_id': 'buy21', 'price': 295.49834926878833},\n",
       " {'auction_id': 'auc16', 'buyer_id': 'buy22', 'price': 295.8771944097373},\n",
       " {'auction_id': 'auc32', 'buyer_id': 'buy25', 'price': 297.87312856790896},\n",
       " {'auction_id': 'auc39', 'buyer_id': 'buy23', 'price': 297.22873606777597},\n",
       " {'auction_id': 'auc41', 'buyer_id': 'buy26', 'price': 298.71805612903626},\n",
       " {'auction_id': 'auc42', 'buyer_id': 'buy27', 'price': 299.13052650613093},\n",
       " {'auction_id': 'auc49', 'buyer_id': 'buy24', 'price': 297.25609438125645},\n",
       " {'auction_id': 'auc15', 'buyer_id': 'buy29', 'price': 300.4836570662412},\n",
       " {'auction_id': 'auc38', 'buyer_id': 'buy28', 'price': 299.3647236869144}]"
      ]
     },
     "execution_count": 31,
     "metadata": {},
     "output_type": "execute_result"
    }
   ],
   "source": [
    "result"
   ]
  },
  {
   "cell_type": "code",
   "execution_count": 32,
   "id": "41b3cba4",
   "metadata": {},
   "outputs": [
    {
     "data": {
      "text/plain": [
       "Text(0, 0.5, 'occurance')"
      ]
     },
     "execution_count": 32,
     "metadata": {},
     "output_type": "execute_result"
    },
    {
     "data": {
      "image/png": "[encoded data removed]",
      "text/plain": [
       "<Figure size 432x288 with 1 Axes>"
      ]
     },
     "metadata": {
      "needs_background": "light"
     },
     "output_type": "display_data"
    }
   ],
   "source": [
    "import matplotlib.pyplot as plt\n",
    "\n",
    "prices = []\n",
    "for r in result:\n",
    "    prices.append(r[\"price\"])\n",
    "    \n",
    "plt.hist(prices)\n",
    "plt.xlabel(\"price\")\n",
    "plt.ylabel(\"occurance\")"
   ]
  }
 ],
 "metadata": {
  "kernelspec": {
   "display_name": "Python 3",
   "language": "python",
   "name": "python3"
  },
  "language_info": {
   "codemirror_mode": {
    "name": "ipython",
    "version": 3
   },
   "file_extension": ".py",
   "mimetype": "text/x-python",
   "name": "python",
   "nbconvert_exporter": "python",
   "pygments_lexer": "ipython3",
   "version": "3.7.3"
  }
 },
 "nbformat": 4,
 "nbformat_minor": 5
}
