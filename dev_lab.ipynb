{
 "cells": [
  {
   "cell_type": "markdown",
   "id": "e5148cdf",
   "metadata": {},
   "source": [
    "> python3 $SUMO_HOME/tools/visualization/plot_summary.py -i basic_output.xml --xlim 0,1000 -o summary_basic.png -m stopped\n"
   ]
  },
  {
   "cell_type": "markdown",
   "id": "d70692e6",
   "metadata": {},
   "source": [
    "# Simulation setup"
   ]
  },
  {
   "cell_type": "code",
   "execution_count": 1,
   "id": "c1cd7ed3",
   "metadata": {},
   "outputs": [],
   "source": [
    "import os, sys\n",
    "import numpy as np\n",
    "import traci"
   ]
  },
  {
   "cell_type": "code",
   "execution_count": 2,
   "id": "f982bcd7",
   "metadata": {},
   "outputs": [],
   "source": [
    "gui = True #to run either sumo or sumo-gui\n",
    "SUMO_HOME = os.environ[\"SUMO_HOME\"] #locating the simulator\n",
    "default_scenario = \"./basic_simulation.sumocfg\"\n",
    "\n",
    "sys.path.append(SUMO_HOME+\"/tools\")\n",
    "import sumolib"
   ]
  },
  {
   "cell_type": "code",
   "execution_count": 3,
   "id": "b39a84ec",
   "metadata": {},
   "outputs": [],
   "source": [
    "def run_simulation(gui_needed: bool, scenario: str):\n",
    "    '''Runs a SUMO simulation.\n",
    "        -----------------------\n",
    "        parameters:\n",
    "        - gui-needed: if true SUMO is started with GUI\n",
    "        - scenario: path to the .sumocfg file to run'''\n",
    "    \n",
    "    sumo_binary = \"sumo-gui\" if gui_needed else \"sumo\"\n",
    "    sumo_cmd = [sumo_binary, \"-c\", scenario]\n",
    "    #starting SUMO server:\n",
    "    traci.start(sumo_cmd)\n",
    "    \n",
    "    #conducting the simulation:\n",
    "    step = 0\n",
    "    while step < 600:\n",
    "        step += 1\n",
    "        traci.simulationStep()\n",
    "    \n",
    "    traci.close()"
   ]
  },
  {
   "cell_type": "code",
   "execution_count": 4,
   "id": "ecda5376",
   "metadata": {},
   "outputs": [
    {
     "name": "stdout",
     "output_type": "stream",
     "text": [
      " Retrying in 1 seconds\n"
     ]
    }
   ],
   "source": [
    "run_simulation(True, default_scenario)"
   ]
  },
  {
   "cell_type": "markdown",
   "id": "3608bd58",
   "metadata": {},
   "source": [
    "# Parsing and plotting outputs"
   ]
  },
  {
   "cell_type": "code",
   "execution_count": 33,
   "id": "5d4c8db3",
   "metadata": {},
   "outputs": [],
   "source": [
    "output_file = \"outputs/basic_output.xml\""
   ]
  },
  {
   "cell_type": "code",
   "execution_count": 3,
   "id": "c0029c57",
   "metadata": {},
   "outputs": [],
   "source": [
    "def get_stopped_vehicles_from_output(output_file: str):\n",
    "    '''Extracts number of stopped vehicles from a simulation summary output.\n",
    "        ------------------------\n",
    "        parameters:\n",
    "        - output_file: the simulation output to parse\n",
    "        \n",
    "        Returns: time and #stopped vehicle pairs'''\n",
    "    \n",
    "    t, v = [], [] #(time x value) pairs\n",
    "    for time, val in sumolib.xml.parse_fast(output_file, \"step\", (\"time\", \"stopped\")):\n",
    "        t.append(sumolib.miscutils.parseTime(time))\n",
    "        v.append(float(val))\n",
    "    return t,v"
   ]
  },
  {
   "cell_type": "code",
   "execution_count": 4,
   "id": "c8fba89d",
   "metadata": {},
   "outputs": [],
   "source": [
    "import matplotlib.pyplot as plt\n",
    "\n",
    "def plot_stopped_vehicles(time_values, stopped_values, titles):\n",
    "    fig, ax = plt.subplots()\n",
    "    for i in range(len(time_values)):\n",
    "        ax.plot(time_values[i], np.array(stopped_values[i])/max(stopped_values[i])*100, label=titles[i])\n",
    "    ax.set_xlabel(\"timestep\")\n",
    "    ax.set_ylabel(\"% of stopped vehicles\")\n",
    "    ax.set_title(\"Number of stopped vehicles\")\n",
    "    ax.legend()\n",
    "    return fig, ax"
   ]
  },
  {
   "cell_type": "code",
   "execution_count": 18,
   "id": "0b8969ba",
   "metadata": {},
   "outputs": [
    {
     "ename": "NameError",
     "evalue": "name 'get_stopped_vehicles_from_output' is not defined",
     "output_type": "error",
     "traceback": [
      "\u001b[0;31m---------------------------------------------------------------------------\u001b[0m",
      "\u001b[0;31mNameError\u001b[0m                                 Traceback (most recent call last)",
      "\u001b[0;32m<ipython-input-18-67445c01711b>\u001b[0m in \u001b[0;36m<module>\u001b[0;34m\u001b[0m\n\u001b[0;32m----> 1\u001b[0;31m \u001b[0mt\u001b[0m\u001b[0;34m,\u001b[0m\u001b[0mv\u001b[0m \u001b[0;34m=\u001b[0m \u001b[0mget_stopped_vehicles_from_output\u001b[0m\u001b[0;34m(\u001b[0m\u001b[0moutput_file\u001b[0m\u001b[0;34m)\u001b[0m\u001b[0;34m\u001b[0m\u001b[0;34m\u001b[0m\u001b[0m\n\u001b[0m\u001b[1;32m      2\u001b[0m \u001b[0mplot_stopped_vehicles\u001b[0m\u001b[0;34m(\u001b[0m\u001b[0;34m[\u001b[0m\u001b[0mt\u001b[0m\u001b[0;34m]\u001b[0m\u001b[0;34m,\u001b[0m \u001b[0;34m[\u001b[0m\u001b[0mv\u001b[0m\u001b[0;34m]\u001b[0m\u001b[0;34m,\u001b[0m \u001b[0;34m[\u001b[0m\u001b[0;34m\"baseline\"\u001b[0m\u001b[0;34m]\u001b[0m\u001b[0;34m)\u001b[0m\u001b[0;34m\u001b[0m\u001b[0;34m\u001b[0m\u001b[0m\n",
      "\u001b[0;31mNameError\u001b[0m: name 'get_stopped_vehicles_from_output' is not defined"
     ]
    }
   ],
   "source": [
    "t,v = get_stopped_vehicles_from_output(output_file)\n",
    "plot_stopped_vehicles([t], [v], [\"baseline\"])"
   ]
  },
  {
   "cell_type": "markdown",
   "id": "1a0ec392",
   "metadata": {},
   "source": [
    "# Processing routes\n",
    "\n",
    "We have to collect the routes that the vehicles actually use during the original simulation."
   ]
  },
  {
   "cell_type": "code",
   "execution_count": 5,
   "id": "1264437d",
   "metadata": {},
   "outputs": [],
   "source": [
    "def read_movements(filename: str) -> list:\n",
    "    '''Reads the given route file and returns the edges of the routes'''\n",
    "    \n",
    "    movements = []\n",
    "    \n",
    "    for vehicle in sumolib.xml.parse(filename, \"vehicle\"):\n",
    "        route = vehicle.route[0] # access the first (and only) child element with name 'route'\n",
    "        edges = route.edges.split()\n",
    "        '''i = 0\n",
    "        mov_ = []\n",
    "        parking = vehicle.stop[0].parkingArea.split(\"pl\")[-1]\n",
    "        while i<len(edges) and edges[i] != parking:\n",
    "            mov_.append(edges[i])\n",
    "            i += 1\n",
    "        if i==0 and edges[0] == parking:\n",
    "            mov_.append(edges[0])'''\n",
    "        movements.append(edges)\n",
    "        \n",
    "    return movements"
   ]
  },
  {
   "cell_type": "code",
   "execution_count": 6,
   "id": "b3892955",
   "metadata": {},
   "outputs": [],
   "source": [
    "movements = read_movements(\"scenario/parking_routes.rou.xml\")"
   ]
  },
  {
   "cell_type": "markdown",
   "id": "469edb31",
   "metadata": {},
   "source": [
    "# Instructed simulation\n",
    "\n",
    "We have to achieve the following via TraCI:\n",
    "1. make vehicles complete their routes (collected previously), controlled by the rerouter device\n",
    "2. then go to a parking lot"
   ]
  },
  {
   "cell_type": "code",
   "execution_count": 7,
   "id": "f1f68e9d",
   "metadata": {},
   "outputs": [
    {
     "name": "stdout",
     "output_type": "stream",
     "text": [
      " Retrying in 1 seconds\n",
      "Could not connect to TraCI server at localhost:53925 [Errno 111] Connection refused\n",
      " Retrying in 1 seconds\n"
     ]
    }
   ],
   "source": [
    "traci.start([\"sumo-gui\", \"-c\", \"auction_simulation.sumocfg\"])\n",
    "\n",
    "traci.route.add(\"route0\", movements[0])\n",
    "vehicle = traci.vehicle.add(\"veh0\", \"route0\", typeID=\"reroutingType\")\n",
    "\n",
    "step = 0\n",
    "while step < 500:\n",
    "    step += 1\n",
    "    traci.simulationStep()\n",
    "    #if traci.vehicle.isStopped(\"veh0\"):\n",
    "    try:\n",
    "        route_idx = traci.vehicle.getRouteIndex(\"veh0\")\n",
    "        route = traci.vehicle.getRoute(\"veh0\")\n",
    "        if route_idx == len(route)-1:\n",
    "            #traci.vehicle.setR\n",
    "            #traci.route.add(\"route_to_pl344_0\", edges=[\"344\"])\n",
    "            #traci.vehicle.add\n",
    "            traci.vehicle.changeTarget(\"veh0\", \"344\")\n",
    "            traci.vehicle.setParkingAreaStop(\"veh0\", \"pl344\", duration=86400)\n",
    "            #traci.vehicle.rerouteParkingArea(\"veh0\", \"pl344\", duration=86400)\n",
    "    except:\n",
    "        pass\n",
    "        #traci.vehicle.setParkingAreaStop(\"veh0\", \"pl344\", duration=86400)\n",
    "\n",
    "traci.close()"
   ]
  },
  {
   "cell_type": "markdown",
   "id": "2bbc4638",
   "metadata": {},
   "source": [
    "# Connecting to the Auction method"
   ]
  },
  {
   "cell_type": "code",
   "execution_count": 7,
   "id": "73e87276",
   "metadata": {},
   "outputs": [],
   "source": [
    "def get_distance_to_parkings(traci, vehicle_id: str, sumo_parkings_lane_id: list) -> np.array:\n",
    "    '''Collecting distances of parking lots for each vehicles'''\n",
    "    distances = []\n",
    "    for p in sumo_parkings_lane_id:\n",
    "        distances.append(traci.simulation.getDistanceRoad(\n",
    "            traci.vehicle.getRoadID(vehicle_id), 0, p, 0))\n",
    "    return distances"
   ]
  },
  {
   "cell_type": "markdown",
   "id": "81da7b9c",
   "metadata": {},
   "source": [
    "### Reading parking lot capacities:"
   ]
  },
  {
   "cell_type": "code",
   "execution_count": 8,
   "id": "4d7c8205",
   "metadata": {},
   "outputs": [],
   "source": [
    "import xml.etree.ElementTree as ET\n",
    "\n",
    "def read_pl_capacities(filename: str) -> (list,list):\n",
    "    '''Reads an additional file that contains parking lot definitions. Returns the parking lot ids and the corresp. capacities'''\n",
    "    tree = ET.parse(filename)\n",
    "    root = tree.getroot()\n",
    "    p_ids = []\n",
    "    p_capacities = []\n",
    "    for parea in root:\n",
    "        p_ids.append(parea.attrib[\"id\"])\n",
    "        p_capacities.append(parea.attrib[\"roadsideCapacity\"])\n",
    "    return p_ids, p_capacities"
   ]
  },
  {
   "cell_type": "code",
   "execution_count": 9,
   "id": "1f9a9c46",
   "metadata": {},
   "outputs": [],
   "source": [
    "import auction\n",
    "\n",
    "def init_auction_method(parking_capacities, vehicle_ids, starting_prices, preference_function, bid_step = 10, max_price = 1000)-> (list, list):\n",
    "    \"\"\"Initializes the participants of the auction method\n",
    "       -------------\n",
    "       parameters:\n",
    "           - parking_capacities: capacity values of the parking lots (number of auctions),\n",
    "           - vehicle_ids: IDs of vehicles (buyers),\n",
    "           - starting_prices: list of starting prices of the auctions,\n",
    "           - preference_function: the function that calculates which parking lot is preferred.\n",
    "                                   signature: preference_function(buyer_object, current_price_list),\n",
    "           - bid_step: amount of money by which current bids will be increased during auctions,\n",
    "           - max_price: maximum price that the buyers are willing to accept\"\"\"\n",
    "    \n",
    "    auctions = []\n",
    "    buyers = []\n",
    "    \n",
    "    for pcap in parking_capacities:\n",
    "        for i in range(pcap):\n",
    "            auctions.append(auction.Auctioneer(starting_prices[len(auctions)], bid_step, \"auc%d\"%i))\n",
    "            \n",
    "    buyers = [auction.Buyer(auctions, max_price, preference_function, buyer_id=vehicle_ids[i]) for i in range(len(vehicle_ids))]\n",
    "    return auctions, buyers"
   ]
  },
  {
   "cell_type": "code",
   "execution_count": 22,
   "id": "85201597",
   "metadata": {},
   "outputs": [],
   "source": [
    "def min_price(buyer_id, auction_id, bids):\n",
    "    return np.argmin(bids)\n",
    "\n",
    "class MinDistancePreference:\n",
    "    def __init__(self, distance_mtx, parking_capacities):\n",
    "        self.distance_mtx = {}\n",
    "        for x in distance_mtx:\n",
    "            distances = []\n",
    "            for i in range(len(parking_capacities)):\n",
    "                for j in range(parking_capacities[i]):\n",
    "                    distances.append(distance_mtx[x][i])\n",
    "            self.distance_mtx[x] = distances\n",
    "            \n",
    "        self.parking_ranges = []\n",
    "        last = 0\n",
    "        for caps in parking_capacities:\n",
    "            for i in range(caps):\n",
    "                self.parking_ranges.append(last+caps)\n",
    "            last = last+caps\n",
    "            \n",
    "            \n",
    "    def __call__(self, buyer_id, auction_ids, bids):\n",
    "        distance_vector = np.array(self.distance_mtx[buyer_id])\n",
    "        active_indices = [int(auc_id.split(\"auc\")[-1]) for auc_id in auction_ids]\n",
    "        distance_vector = distance_vector[active_indices]\n",
    "        return np.argmin(distance_vector)\n",
    "        \n",
    "        \n",
    "class OptimalCostDistancePreference(MinDistancePreference):        \n",
    "    def __call__(self, buyer_id, auction_ids, bids):\n",
    "        distance_vector = np.array(self.distance_mtx[buyer_id])\n",
    "        active_indices = [int(auc_id.split(\"auc\")[-1]) for auc_id in auction_ids]\n",
    "        distance_vector = distance_vector[active_indices]\n",
    "        #scaling:\n",
    "        bids = np.array(bids) / max(bids)\n",
    "        distance_vector = distance_vector / max(distance_vector)\n",
    "        return np.argmin(bids + distance_vector)\n",
    "    \n",
    "class IndividualPreference:\n",
    "    def __init__(self, buyer_ids, auction_count):\n",
    "        self.preference_lists = {}\n",
    "        for buyer in buyer_ids:\n",
    "            self.preference_lists[buyer] = np.random.permutation(auction_count)\n",
    "            \n",
    "    def __call__(self, buyer_id, auction_ids, bids):\n",
    "        pref_vector = self.preference_lists[buyer_id]\n",
    "        active_indices = [int(auc_id.split(\"auc\")[-1]) for auc_id in auction_ids]\n",
    "        pref_vector = pref_vector[active_indices]\n",
    "        return np.min(pref_vector)"
   ]
  },
  {
   "cell_type": "code",
   "execution_count": 11,
   "id": "3512d0cc",
   "metadata": {},
   "outputs": [],
   "source": [
    "def init_simulation(traci_commands: list, movements: list, parking_lot_file: str):\n",
    "    '''Initializes the simulation, and returns the final distances\n",
    "       ----------------\n",
    "       parameters:\n",
    "        - traci_commands: commands to start TraCI with,\n",
    "        - movements: list of the edges simulated vehicles shall go through,\n",
    "        - parking_lot_file: path to the file defining parkingAreas\n",
    "        \n",
    "       returns:\n",
    "        the distances between vehicles and parking lots, parking lot ids, parking lot capacities, vehicle ids'''\n",
    "    traci.start(traci_commands)\n",
    "    \n",
    "    dep_num = 0\n",
    "    #for i in range(len(movements)):\n",
    "    #    traci.route.add(\"route%d\" % i, movements[i])\n",
    "    #    traci.vehicle.add(\"veh%d\" % i, \"route%d\" % i, typeID=\"reroutingType\")\n",
    "    \n",
    "    while dep_num < len(movements):\n",
    "        traci.simulationStep()\n",
    "        dep_num += traci.simulation.getDepartedNumber()\n",
    "    \n",
    "    p_ids, p_caps = read_pl_capacities(parking_lot_file)\n",
    "    distances = {}\n",
    "    p_edges = [p_id.split(\"pl\")[-1] for p_id in p_ids]\n",
    "    veh_ids = traci.vehicle.getIDList()\n",
    "    for id_ in veh_ids:\n",
    "        distances[id_] = get_distance_to_parkings(traci, id_, p_edges)\n",
    "    \n",
    "    return distances, p_ids, p_caps, veh_ids"
   ]
  },
  {
   "cell_type": "code",
   "execution_count": 12,
   "id": "558d9aad",
   "metadata": {},
   "outputs": [],
   "source": [
    "def simulate_after_auction(traci, parking_mapping, max_step = 600):\n",
    "    step = 1\n",
    "    while step < max_step:\n",
    "        \n",
    "        step += 1\n",
    "        traci.simulationStep()\n",
    "        \n",
    "        '''for i in range(len(movements)):\n",
    "            new_veh = \"veh%d\"%i\n",
    "            if not(new_veh) in vehicles_added:\n",
    "                try:\n",
    "                    vehicle = traci.vehicle.add(\"veh%d\" % i, \"route%d\" % i, typeID=\"reroutingType\")\n",
    "                    vehicle_added.add(new_veh)\n",
    "                except:\n",
    "                    pass'''\n",
    "                \n",
    "        veh_list = traci.vehicle.getIDList()\n",
    "        for v in veh_list:\n",
    "            try:\n",
    "                traci.vehicle.changeTarget(v, parking_mapping[v].split(\"pl\")[-1])\n",
    "                traci.vehicle.setParkingAreaStop(v, parking_mapping[v], duration=86400)\n",
    "            except:\n",
    "                pass"
   ]
  },
  {
   "cell_type": "markdown",
   "id": "adee5dd6",
   "metadata": {},
   "source": [
    "# Auctions and simulation"
   ]
  },
  {
   "cell_type": "code",
   "execution_count": 37,
   "id": "9bd28a43",
   "metadata": {},
   "outputs": [
    {
     "name": "stdout",
     "output_type": "stream",
     "text": [
      " Retrying in 1 seconds\n"
     ]
    }
   ],
   "source": [
    "#sumo_cmd = [\"sumo-gui\", \"-c\", \"auction_simulation.sumocfg\"]\n",
    "sumo_cmd = [\"sumo\", \"-c\", \"auction_simulation.sumocfg\", \"--summary-output\", \"outputs/price_preference.xml\"]\n",
    "distance_mtx, parking_ids, parking_capacities, veh_ids = init_simulation(sumo_cmd, movements, \"scenario/parkings.add.xml\")\n",
    "parking_capacities = [int(pc) for pc in parking_capacities]"
   ]
  },
  {
   "cell_type": "code",
   "execution_count": 32,
   "id": "2b23732f",
   "metadata": {},
   "outputs": [
    {
     "data": {
      "text/plain": [
       "<module 'auction' from '/home/levente/Egyetem/PhD/2_felev/bprof_mi/multiagent_lab/auction.py'>"
      ]
     },
     "execution_count": 32,
     "metadata": {},
     "output_type": "execute_result"
    }
   ],
   "source": [
    "from importlib import reload\n",
    "reload(auction)"
   ]
  },
  {
   "cell_type": "code",
   "execution_count": 38,
   "id": "188913ed",
   "metadata": {},
   "outputs": [],
   "source": [
    "min_dist_pref = MinDistancePreference(distance_mtx, parking_capacities)\n",
    "opt_pref = OptimalCostPreference(distance_mtx, parking_capacities)\n",
    "indiv_pref = IndividualPreference(veh_ids, np.sum(parking_capacities))\n",
    "auctions, buyers = init_auction_method(parking_capacities, veh_ids, np.random.normal(300, 25, np.sum(parking_capacities)), min_price)#min_price)"
   ]
  },
  {
   "cell_type": "code",
   "execution_count": 39,
   "id": "b66129ee",
   "metadata": {},
   "outputs": [
    {
     "name": "stdout",
     "output_type": "stream",
     "text": [
      "18 auctions are won from 228\n",
      "23 auctions are won from 210\n",
      "24 auctions are won from 187\n",
      "29 auctions are won from 163\n",
      "27 auctions are won from 134\n",
      "26 auctions are won from 107\n",
      "23 auctions are won from 81\n",
      "24 auctions are won from 58\n",
      "6 auctions are won from 34\n"
     ]
    }
   ],
   "source": [
    "auction_result = auction.run_auctions(auctions, buyers, verbose=True)"
   ]
  },
  {
   "cell_type": "code",
   "execution_count": 27,
   "id": "9bc93468",
   "metadata": {},
   "outputs": [],
   "source": [
    "def map_auction_to_parking_area(auction_id, parking_capacities, parking_ids):\n",
    "    i, tot = 0, 0\n",
    "    auction_index = int(auction_id.split(\"auc\")[-1])\n",
    "    if auction_index == 0:\n",
    "        return parking_ids[0]\n",
    "    while tot != auction_index:\n",
    "        if parking_capacities[i]+tot >= auction_index:\n",
    "            return parking_ids[i]\n",
    "        else:\n",
    "            tot += parking_capacities[i]\n",
    "            i += 1\n",
    "            \n",
    "def create_auction_result_maps(auction_results, buyers, parking_capacities, parking_ids):\n",
    "    result_map = {}\n",
    "    for i, auc in enumerate(auction_results):\n",
    "        p_area = map_auction_to_parking_area(auc[\"auction_id\"], parking_capacities, parking_ids)\n",
    "        result_map[auc[\"buyer_id\"]] = p_area\n",
    "    return result_map"
   ]
  },
  {
   "cell_type": "code",
   "execution_count": 40,
   "id": "df064703",
   "metadata": {},
   "outputs": [],
   "source": [
    "parking_mapping = create_auction_result_maps(auction_result, buyers, parking_capacities, parking_ids)"
   ]
  },
  {
   "cell_type": "code",
   "execution_count": 41,
   "id": "36eeea41",
   "metadata": {},
   "outputs": [],
   "source": [
    "simulate_after_auction(traci, parking_mapping)\n",
    "traci.close()"
   ]
  },
  {
   "cell_type": "code",
   "execution_count": 44,
   "id": "7cf70a3a",
   "metadata": {},
   "outputs": [
    {
     "data": {
      "text/plain": [
       "(<Figure size 432x288 with 1 Axes>,\n",
       " <AxesSubplot:title={'center':'Number of stopped vehicles'}, xlabel='timestep', ylabel='% of stopped vehicles'>)"
      ]
     },
     "execution_count": 44,
     "metadata": {},
     "output_type": "execute_result"
    },
    {
     "data": {
      "image/png": "[encoded data removed]",
      "text/plain": [
       "<Figure size 432x288 with 1 Axes>"
      ]
     },
     "metadata": {
      "needs_background": "light"
     },
     "output_type": "display_data"
    }
   ],
   "source": [
    "traditional_file = \"outputs/basic_output.xml\"\n",
    "indiv_file = \"outputs/indiv_preference.xml\"\n",
    "opt_file = \"outputs/opt_preference.xml\"\n",
    "price_file = \"outputs/price_preference.xml\"\n",
    "\n",
    "t_t, v_t = get_stopped_vehicles_from_output(traditional_file)\n",
    "t_a_i, v_a_i = get_stopped_vehicles_from_output(indiv_file)\n",
    "t_a_o, v_a_o = get_stopped_vehicles_from_output(opt_file)\n",
    "t_a_p, v_a_p = get_stopped_vehicles_from_output(price_file)\n",
    "\n",
    "plot_stopped_vehicles([t_t, t_a_i, t_a_o, t_a_p],\n",
    "                      [v_t, v_a_i, v_a_o, v_a_p],\n",
    "                      [\"baseline\", \"individual preference\", \"optimal preference\", \"price preference\"])"
   ]
  }
 ],
 "metadata": {
  "kernelspec": {
   "display_name": "Python 3",
   "language": "python",
   "name": "python3"
  },
  "language_info": {
   "codemirror_mode": {
    "name": "ipython",
    "version": 3
   },
   "file_extension": ".py",
   "mimetype": "text/x-python",
   "name": "python",
   "nbconvert_exporter": "python",
   "pygments_lexer": "ipython3",
   "version": "3.7.3"
  },
  "toc-autonumbering": false,
  "toc-showcode": true,
  "toc-showmarkdowntxt": false
 },
 "nbformat": 4,
 "nbformat_minor": 5
}
