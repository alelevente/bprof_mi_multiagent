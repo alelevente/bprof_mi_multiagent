{
 "cells": [
  {
   "cell_type": "markdown",
   "id": "99d395ef",
   "metadata": {},
   "source": [
    "> python3 $SUMO_HOME/tools/visualization/plot_summary.py -i basic_output.xml --xlim 0,1000 -o summary_basic.png -m stopped\n"
   ]
  },
  {
   "cell_type": "markdown",
   "id": "b7de0bac",
   "metadata": {},
   "source": [
    "# Simulation setup"
   ]
  },
  {
   "cell_type": "code",
   "execution_count": 1,
   "id": "ec6cc650",
   "metadata": {},
   "outputs": [],
   "source": [
    "import os, sys\n",
    "import numpy as np\n",
    "import traci"
   ]
  },
  {
   "cell_type": "code",
   "execution_count": 2,
   "id": "a89ae597",
   "metadata": {},
   "outputs": [],
   "source": [
    "gui = True #to run either sumo or sumo-gui\n",
    "SUMO_HOME = os.environ[\"SUMO_HOME\"] #locating the simulator\n",
    "default_scenario = \"./basic_simulation.sumocfg\"\n",
    "\n",
    "sys.path.append(SUMO_HOME+\"/tools\")\n",
    "import sumolib"
   ]
  },
  {
   "cell_type": "code",
   "execution_count": 74,
   "id": "1c743839",
   "metadata": {},
   "outputs": [],
   "source": [
    "def run_simulation(gui_needed: bool, scenario: str):\n",
    "    '''Runs a SUMO simulation.\n",
    "        -----------------------\n",
    "        parameters:\n",
    "        - gui-needed: if true SUMO is started with GUI\n",
    "        - scenario: path to the .sumocfg file to run'''\n",
    "    \n",
    "    sumo_binary = \"sumo-gui\" if gui_needed else \"sumo\"\n",
    "    sumo_cmd = [sumo_binary, \"-c\", scenario]\n",
    "    #starting SUMO server:\n",
    "    traci.start(sumo_cmd)\n",
    "    \n",
    "    #conducting the simulation:\n",
    "    step = 0\n",
    "    while step < 600:\n",
    "        step += 1\n",
    "        traci.simulationStep()\n",
    "    \n",
    "    traci.close()"
   ]
  },
  {
   "cell_type": "code",
   "execution_count": 76,
   "id": "c1b9b0cf",
   "metadata": {},
   "outputs": [
    {
     "name": "stdout",
     "output_type": "stream",
     "text": [
      " Retrying in 1 seconds\n"
     ]
    }
   ],
   "source": [
    "run_simulation(True, default_scenario)"
   ]
  },
  {
   "cell_type": "markdown",
   "id": "6fd9b4de",
   "metadata": {},
   "source": [
    "# Parsing and plotting outputs"
   ]
  },
  {
   "cell_type": "code",
   "execution_count": 9,
   "id": "d3451316",
   "metadata": {},
   "outputs": [],
   "source": [
    "output_file = \"outputs/basic_output.xml\""
   ]
  },
  {
   "cell_type": "code",
   "execution_count": 71,
   "id": "66650fa1",
   "metadata": {},
   "outputs": [],
   "source": [
    "def get_stopped_vehicles_from_output(output_file: str):\n",
    "    '''Extracts number of stopped vehicles from a simulation summary output.\n",
    "        ------------------------\n",
    "        parameters:\n",
    "        - output_file: the simulation output to parse\n",
    "        \n",
    "        Returns: time and #stopped vehicle pairs'''\n",
    "    \n",
    "    t, v = [], [] #(time x value) pairs\n",
    "    for time, val in sumolib.xml.parse_fast(output_file, \"step\", (\"time\", \"stopped\")):\n",
    "        t.append(sumolib.miscutils.parseTime(time))\n",
    "        v.append(float(val))\n",
    "    return t,v"
   ]
  },
  {
   "cell_type": "code",
   "execution_count": 72,
   "id": "e26ba5c1",
   "metadata": {},
   "outputs": [],
   "source": [
    "import matplotlib.pyplot as plt\n",
    "\n",
    "def plot_stopped_vehicles(time_values, stopped_values, titles):\n",
    "    fig, ax = plt.subplots()\n",
    "    for i in range(len(time_values)):\n",
    "        ax.plot(time_values[i], stopped_values[i], label=titles[i])\n",
    "    ax.set_xlabel(\"timestep\")\n",
    "    ax.set_ylabel(\"#stopped vehicles\")\n",
    "    ax.set_title(\"Number of stopped vehicles\")\n",
    "    ax.legend()\n",
    "    return fig, ax"
   ]
  },
  {
   "cell_type": "code",
   "execution_count": 12,
   "id": "9cac4848",
   "metadata": {},
   "outputs": [
    {
     "data": {
      "text/plain": [
       "(<Figure size 432x288 with 1 Axes>,\n",
       " <AxesSubplot:title={'center':'Number of stopped vehicles'}, xlabel='timestep', ylabel='#stopped vehicles'>)"
      ]
     },
     "execution_count": 12,
     "metadata": {},
     "output_type": "execute_result"
    },
    {
     "data": {
      "image/png": "[encoded data removed]",
      "text/plain": [
       "<Figure size 432x288 with 1 Axes>"
      ]
     },
     "metadata": {
      "needs_background": "light"
     },
     "output_type": "display_data"
    }
   ],
   "source": [
    "t,v = get_stopped_vehicles_from_output(output_file)\n",
    "plot_stopped_vehicles([t], [v], [\"baseline\"])"
   ]
  },
  {
   "cell_type": "markdown",
   "id": "c4dbd237",
   "metadata": {},
   "source": [
    "# Processing routes\n",
    "\n",
    "We have to collect the routes that the vehicles actually use during the original simulation."
   ]
  },
  {
   "cell_type": "code",
   "execution_count": 3,
   "id": "3dde83d8",
   "metadata": {},
   "outputs": [],
   "source": [
    "def read_movements(filename: str) -> list:\n",
    "    '''Reads the given route file and returns the edges of the routes'''\n",
    "    \n",
    "    movements = []\n",
    "    \n",
    "    for vehicle in sumolib.xml.parse(filename, \"vehicle\"):\n",
    "        route = vehicle.route[0] # access the first (and only) child element with name 'route'\n",
    "        edges = route.edges.split()\n",
    "        i = 0\n",
    "        mov_ = []\n",
    "        parking = vehicle.stop[0].parkingArea.split(\"pl\")[-1]\n",
    "        while i<len(edges) and edges[i] != parking:\n",
    "            mov_.append(edges[i])\n",
    "            i += 1\n",
    "        if i==0 and edges[0] == parking:\n",
    "            mov_.append(edges[0])\n",
    "        movements.append(mov_)\n",
    "        \n",
    "    return movements"
   ]
  },
  {
   "cell_type": "code",
   "execution_count": 4,
   "id": "973bd055",
   "metadata": {},
   "outputs": [],
   "source": [
    "movements = read_movements(\"scenario/parking_routes.rou.xml\")"
   ]
  },
  {
   "cell_type": "markdown",
   "id": "35cc1f36",
   "metadata": {},
   "source": [
    "# Instructed simulation\n",
    "\n",
    "We have to achieve the following via TraCI:\n",
    "1. make vehicles complete their routes (collected previously), controlled by the rerouter device\n",
    "2. then go to a parking lot"
   ]
  },
  {
   "cell_type": "code",
   "execution_count": 6,
   "id": "206b8be9",
   "metadata": {},
   "outputs": [
    {
     "name": "stdout",
     "output_type": "stream",
     "text": [
      " Retrying in 1 seconds\n"
     ]
    }
   ],
   "source": [
    "traci.start([\"sumo-gui\", \"-c\", \"auction_simulation.sumocfg\"])\n",
    "\n",
    "traci.route.add(\"route0\", movements[0])\n",
    "vehicle = traci.vehicle.add(\"veh0\", \"route0\", typeID=\"reroutingType\")\n",
    "\n",
    "step = 0\n",
    "while step < 500:\n",
    "    step += 1\n",
    "    traci.simulationStep()\n",
    "    #if traci.vehicle.isStopped(\"veh0\"):\n",
    "    try:\n",
    "        route_idx = traci.vehicle.getRouteIndex(\"veh0\")\n",
    "        route = traci.vehicle.getRoute(\"veh0\")\n",
    "        if route_idx == len(route)-1:\n",
    "            #traci.vehicle.setR\n",
    "            #traci.route.add(\"route_to_pl344_0\", edges=[\"344\"])\n",
    "            #traci.vehicle.add\n",
    "            traci.vehicle.changeTarget(\"veh0\", \"344\")\n",
    "            traci.vehicle.setParkingAreaStop(\"veh0\", \"pl344\", duration=86400)\n",
    "            #traci.vehicle.rerouteParkingArea(\"veh0\", \"pl344\", duration=86400)\n",
    "    except:\n",
    "        pass\n",
    "        #traci.vehicle.setParkingAreaStop(\"veh0\", \"pl344\", duration=86400)\n",
    "\n",
    "traci.close()"
   ]
  },
  {
   "cell_type": "markdown",
   "id": "1b62bb91",
   "metadata": {},
   "source": [
    "# Connecting to the Auction method"
   ]
  },
  {
   "cell_type": "code",
   "execution_count": 5,
   "id": "7e93b250",
   "metadata": {},
   "outputs": [],
   "source": [
    "def get_distance_to_parkings(traci, vehicle_id: str, sumo_parkings_lane_id: list) -> np.array:\n",
    "    '''Collecting distances of parking lots for each vehicles'''\n",
    "    distances = []\n",
    "    last_position = traci.vehicle.getRoute(vehicle_id)[-1]\n",
    "    for p in sumo_parkings_lane_id:\n",
    "        distances.append(traci.simulation.getDistanceRoad(last_position, 0, p, 0))\n",
    "    return np.array(distances)"
   ]
  },
  {
   "cell_type": "markdown",
   "id": "74bba781",
   "metadata": {},
   "source": [
    "### Reading parking lot capacities:"
   ]
  },
  {
   "cell_type": "code",
   "execution_count": 6,
   "id": "35148605",
   "metadata": {},
   "outputs": [],
   "source": [
    "import xml.etree.ElementTree as ET\n",
    "\n",
    "def read_pl_capacities(filename: str) -> (list,list):\n",
    "    '''Reads an additional file that contains parking lot definitions. Returns the parking lot ids and the corresp. capacities'''\n",
    "    tree = ET.parse(filename)\n",
    "    root = tree.getroot()\n",
    "    p_ids = []\n",
    "    p_capacities = []\n",
    "    for parea in root:\n",
    "        p_ids.append(parea.attrib[\"id\"])\n",
    "        p_capacities.append(parea.attrib[\"roadsideCapacity\"])\n",
    "    return p_ids, p_capacities"
   ]
  },
  {
   "cell_type": "code",
   "execution_count": 7,
   "id": "c16f2a66",
   "metadata": {},
   "outputs": [],
   "source": [
    "import auction\n",
    "\n",
    "def init_auction_method(parking_capacities, vehicle_numbers, starting_prices, preference_function, bid_step = 10, max_price = 5000)-> (list, list):\n",
    "    \"\"\"Initializes the participants of the auction method\n",
    "       -------------\n",
    "       parameters:\n",
    "           - parking_capacities: capacity values of the parking lots (number of auctions),\n",
    "           - vehicle_numbers: number of vehicles (number of buyers),\n",
    "           - starting_prices: list of starting prices of the auctions,\n",
    "           - preference_function: the function that calculates which parking lot is preferred.\n",
    "                                   signature: preference_function(buyer_object, current_price_list),\n",
    "           - bid_step: amount of money by which current bids will be increased during auctions,\n",
    "           - max_price: maximum price that the buyers are willing to accept\"\"\"\n",
    "    \n",
    "    auctions = []\n",
    "    buyers = []\n",
    "    \n",
    "    for pcap in parking_capacities:\n",
    "        for i in range(pcap):\n",
    "            auctions.append(auction.Auctioneer(starting_prices[len(auctions)], bid_step))\n",
    "            \n",
    "    buyers = [auction.Buyer(auctions, max_price, preference_function) for i in range(vehicle_numbers)]\n",
    "    return auctions, buyers"
   ]
  },
  {
   "cell_type": "code",
   "execution_count": 12,
   "id": "2b91fd93",
   "metadata": {},
   "outputs": [],
   "source": [
    "def min_price(buyer, bids):\n",
    "    return np.argmin(bids)\n",
    "\n",
    "class MinDistancePreference:\n",
    "    def __init__(self, distance_mtx, buyers = None):\n",
    "        self.distance_mtx = distance_mtx\n",
    "        self.buyers = buyers\n",
    "        \n",
    "    def __call__(self, buyer, bids):\n",
    "        np.argmin(self.distance_mtx[self.buyers.index(buyer)])\n",
    "        \n",
    "class OptimalCostPreference:\n",
    "    def __init__(self, distance_mtx, buyers = None):\n",
    "        self.distance_mtx = distance_mtx\n",
    "        self.buyers = buyers\n",
    "        \n",
    "    def __call__(self, buyer, bids):\n",
    "        np.argmin(bids + 2*self.distance_mtx[self.buyers.index(buyer)])"
   ]
  },
  {
   "cell_type": "code",
   "execution_count": 9,
   "id": "2dffd098",
   "metadata": {},
   "outputs": [],
   "source": [
    "def init_simulation(traci_commands: list, movements: list, parking_lot_file: str):\n",
    "    '''Initializes the simulation, and returns the final distances\n",
    "       ----------------\n",
    "       parameters:\n",
    "        - traci_commands: commands to start TraCI with,\n",
    "        - movements: list of the edges simulated vehicles shall go through,\n",
    "        - parking_lot_file: path to the file defining parkingAreas\n",
    "        \n",
    "       returns:\n",
    "        the distances to parking lots when the vehicles are finished their routes'''\n",
    "    traci.start(traci_commands)\n",
    "    \n",
    "    for i in range(len(movements)):\n",
    "        traci.route.add(\"route%d\" % i, movements[i])\n",
    "        vehicle = traci.vehicle.add(\"veh%d\" % i, \"route%d\" % i, typeID=\"reroutingType\")\n",
    "        \n",
    "    traci.simulationStep()\n",
    "    \n",
    "    p_ids, p_caps = read_pl_capacities(parking_lot_file)\n",
    "    distances = []\n",
    "    p_edges = [p_id.split(\"pl\")[-1] for p_id in p_ids]\n",
    "    for i in range(len(movements)):\n",
    "        distances.append(get_distance_to_parkings(traci, \"veh%d\" % i, p_edges))\n",
    "    \n",
    "    return distances, p_ids, p_caps"
   ]
  },
  {
   "cell_type": "code",
   "execution_count": 10,
   "id": "b80ba8d1",
   "metadata": {},
   "outputs": [],
   "source": [
    "def simulate_after_auction(traci, parking_mapping, max_step = 600):\n",
    "    vehicles_added = set(traci.vehicle.getIDList())\n",
    "    step = 1\n",
    "    while step < max_step:\n",
    "        \n",
    "        step += 1\n",
    "        traci.simulationStep()\n",
    "        \n",
    "        for i in range(len(movements)):\n",
    "            new_veh = \"veh%d\"%i\n",
    "            if not(new_veh) in vehicles_added:\n",
    "                try:\n",
    "                    vehicle = traci.vehicle.add(\"veh%d\" % i, \"route%d\" % i, typeID=\"reroutingType\")\n",
    "                    vehicle_added.add(new_veh)\n",
    "                except:\n",
    "                    pass\n",
    "                \n",
    "        veh_list = traci.vehicle.getIDList()\n",
    "        for v in veh_list:\n",
    "            vehicles_added.add(v)\n",
    "            try:\n",
    "                route_idx = traci.vehicle.getRouteIndex(v)\n",
    "                route = traci.vehicle.getRoute(v)\n",
    "                #print(route_idx, route)\n",
    "                if route_idx == len(route)-1:\n",
    "                    traci.vehicle.changeTarget(v, parking_mapping[v].split(\"pl\")[-1])\n",
    "                    traci.vehicle.setParkingAreaStop(v, parking_mapping[v], duration=86400)\n",
    "            except:\n",
    "                pass"
   ]
  },
  {
   "cell_type": "code",
   "execution_count": null,
   "id": "52d56653",
   "metadata": {},
   "outputs": [],
   "source": [
    "#TODO: init sim. -> auction -> create mapping -> simulation -> evaluate results "
   ]
  },
  {
   "cell_type": "markdown",
   "id": "54112ddf",
   "metadata": {},
   "source": [
    "# Auctions and simulation"
   ]
  },
  {
   "cell_type": "code",
   "execution_count": 11,
   "id": "845a62f8",
   "metadata": {},
   "outputs": [],
   "source": [
    "sumo_cmd = [\"sumo-gui\", \"-c\", \"auction_simulation.sumocfg\"]\n",
    "distance_mtx, parking_ids, parking_capacities = init_simulation(sumo_cmd, movements, \"scenario/parkings.add.xml\")\n",
    "parking_capacities = [int(pc) for pc in parking_capacities]"
   ]
  },
  {
   "cell_type": "code",
   "execution_count": 13,
   "id": "fb9ff98c",
   "metadata": {},
   "outputs": [],
   "source": [
    "min_dist_pref = MinDistancePreference(distance_mtx)\n",
    "auctions, buyers = init_auction_method(parking_capacities, 200, 300*np.ones(np.sum(parking_capacities)), min_dist_pref)#min_price)\n",
    "min_dist_pref.buyers = buyers"
   ]
  },
  {
   "cell_type": "code",
   "execution_count": 14,
   "id": "630ee78a",
   "metadata": {},
   "outputs": [
    {
     "ename": "ValueError",
     "evalue": "<auction.Buyer object at 0x7f0a8d57bc88> is not in list",
     "output_type": "error",
     "traceback": [
      "\u001b[0;31m---------------------------------------------------------------------------\u001b[0m",
      "\u001b[0;31mValueError\u001b[0m                                Traceback (most recent call last)",
      "\u001b[0;32m<ipython-input-14-2756c6c6b7f9>\u001b[0m in \u001b[0;36m<module>\u001b[0;34m\u001b[0m\n\u001b[0;32m----> 1\u001b[0;31m \u001b[0mauction_result\u001b[0m \u001b[0;34m=\u001b[0m \u001b[0mauction\u001b[0m\u001b[0;34m.\u001b[0m\u001b[0mrun_auctions\u001b[0m\u001b[0;34m(\u001b[0m\u001b[0mauctions\u001b[0m\u001b[0;34m,\u001b[0m \u001b[0mbuyers\u001b[0m\u001b[0;34m)\u001b[0m\u001b[0;34m\u001b[0m\u001b[0;34m\u001b[0m\u001b[0m\n\u001b[0m",
      "\u001b[0;32m~/Egyetem/PhD/2_felev/bprof_mi/multiagent_lab/auction.py\u001b[0m in \u001b[0;36mrun_auctions\u001b[0;34m(auctions, buyers, run_to_completeness)\u001b[0m\n\u001b[1;32m    135\u001b[0m         \u001b[0mnew_buyers\u001b[0m\u001b[0;34m.\u001b[0m\u001b[0mappend\u001b[0m\u001b[0;34m(\u001b[0m\u001b[0mnew_buyer\u001b[0m\u001b[0;34m)\u001b[0m\u001b[0;34m\u001b[0m\u001b[0;34m\u001b[0m\u001b[0m\n\u001b[1;32m    136\u001b[0m     \u001b[0;32mif\u001b[0m \u001b[0;34m(\u001b[0m\u001b[0mlen\u001b[0m\u001b[0;34m(\u001b[0m\u001b[0mnew_auctions\u001b[0m\u001b[0;34m)\u001b[0m \u001b[0;34m>\u001b[0m \u001b[0;36m0\u001b[0m\u001b[0;34m)\u001b[0m \u001b[0;32mand\u001b[0m \u001b[0;34m(\u001b[0m\u001b[0mlen\u001b[0m\u001b[0;34m(\u001b[0m\u001b[0mnew_buyers\u001b[0m\u001b[0;34m)\u001b[0m \u001b[0;34m>\u001b[0m \u001b[0;36m0\u001b[0m\u001b[0;34m)\u001b[0m\u001b[0;34m:\u001b[0m\u001b[0;34m\u001b[0m\u001b[0;34m\u001b[0m\u001b[0m\n\u001b[0;32m--> 137\u001b[0;31m         \u001b[0mnew_run_results\u001b[0m \u001b[0;34m=\u001b[0m \u001b[0mrun_auctions\u001b[0m\u001b[0;34m(\u001b[0m\u001b[0mnew_auctions\u001b[0m\u001b[0;34m,\u001b[0m \u001b[0mnew_buyers\u001b[0m\u001b[0;34m,\u001b[0m \u001b[0mrun_to_completeness\u001b[0m\u001b[0;34m)\u001b[0m\u001b[0;34m\u001b[0m\u001b[0;34m\u001b[0m\u001b[0m\n\u001b[0m\u001b[1;32m    138\u001b[0m \u001b[0;34m\u001b[0m\u001b[0m\n\u001b[1;32m    139\u001b[0m         \u001b[0;31m#mapping back to original indices:\u001b[0m\u001b[0;34m\u001b[0m\u001b[0;34m\u001b[0m\u001b[0;34m\u001b[0m\u001b[0m\n",
      "\u001b[0;32m~/Egyetem/PhD/2_felev/bprof_mi/multiagent_lab/auction.py\u001b[0m in \u001b[0;36mrun_auctions\u001b[0;34m(auctions, buyers, run_to_completeness)\u001b[0m\n\u001b[1;32m    100\u001b[0m     \u001b[0;32mwhile\u001b[0m \u001b[0m_check_run_conditions\u001b[0m\u001b[0;34m(\u001b[0m\u001b[0mauctions\u001b[0m\u001b[0;34m,\u001b[0m \u001b[0mbuyers\u001b[0m\u001b[0;34m)\u001b[0m\u001b[0;34m:\u001b[0m\u001b[0;34m\u001b[0m\u001b[0;34m\u001b[0m\u001b[0m\n\u001b[1;32m    101\u001b[0m         \u001b[0;32mfor\u001b[0m \u001b[0mauction\u001b[0m \u001b[0;32min\u001b[0m \u001b[0mauctions\u001b[0m\u001b[0;34m:\u001b[0m\u001b[0;34m\u001b[0m\u001b[0;34m\u001b[0m\u001b[0m\n\u001b[0;32m--> 102\u001b[0;31m             \u001b[0mauction\u001b[0m\u001b[0;34m.\u001b[0m\u001b[0mmake_auction_round\u001b[0m\u001b[0;34m(\u001b[0m\u001b[0;34m)\u001b[0m\u001b[0;34m\u001b[0m\u001b[0;34m\u001b[0m\u001b[0m\n\u001b[0m\u001b[1;32m    103\u001b[0m \u001b[0;34m\u001b[0m\u001b[0m\n\u001b[1;32m    104\u001b[0m     \u001b[0;31m#collecting results:\u001b[0m\u001b[0;34m\u001b[0m\u001b[0;34m\u001b[0m\u001b[0;34m\u001b[0m\u001b[0m\n",
      "\u001b[0;32m~/Egyetem/PhD/2_felev/bprof_mi/multiagent_lab/auction.py\u001b[0m in \u001b[0;36mmake_auction_round\u001b[0;34m(self)\u001b[0m\n\u001b[1;32m     54\u001b[0m         \u001b[0mwas_winner\u001b[0m \u001b[0;34m=\u001b[0m \u001b[0;32mFalse\u001b[0m\u001b[0;34m\u001b[0m\u001b[0;34m\u001b[0m\u001b[0m\n\u001b[1;32m     55\u001b[0m         \u001b[0;32mfor\u001b[0m \u001b[0mbuyer\u001b[0m \u001b[0;32min\u001b[0m \u001b[0mself\u001b[0m\u001b[0;34m.\u001b[0m\u001b[0mbuyers\u001b[0m\u001b[0;34m:\u001b[0m\u001b[0;34m\u001b[0m\u001b[0;34m\u001b[0m\u001b[0m\n\u001b[0;32m---> 56\u001b[0;31m             \u001b[0;32mif\u001b[0m \u001b[0mbuyer\u001b[0m\u001b[0;34m.\u001b[0m\u001b[0mask_bid\u001b[0m\u001b[0;34m(\u001b[0m\u001b[0mself\u001b[0m\u001b[0;34m,\u001b[0m \u001b[0mself\u001b[0m\u001b[0;34m.\u001b[0m\u001b[0mcurrent_price\u001b[0m\u001b[0;34m)\u001b[0m\u001b[0;34m:\u001b[0m\u001b[0;34m\u001b[0m\u001b[0;34m\u001b[0m\u001b[0m\n\u001b[0m\u001b[1;32m     57\u001b[0m                 \u001b[0;31m#buyer is willing to give the current bid\u001b[0m\u001b[0;34m\u001b[0m\u001b[0;34m\u001b[0m\u001b[0;34m\u001b[0m\u001b[0m\n\u001b[1;32m     58\u001b[0m                 \u001b[0;32mif\u001b[0m \u001b[0;32mnot\u001b[0m\u001b[0;34m(\u001b[0m\u001b[0mself\u001b[0m\u001b[0;34m.\u001b[0m\u001b[0mwinner\u001b[0m \u001b[0;32mis\u001b[0m \u001b[0;32mNone\u001b[0m\u001b[0;34m)\u001b[0m\u001b[0;34m:\u001b[0m\u001b[0;34m\u001b[0m\u001b[0;34m\u001b[0m\u001b[0m\n",
      "\u001b[0;32m~/Egyetem/PhD/2_felev/bprof_mi/multiagent_lab/auction.py\u001b[0m in \u001b[0;36mask_bid\u001b[0;34m(self, auction, current_bid)\u001b[0m\n\u001b[1;32m     24\u001b[0m         \u001b[0;32mif\u001b[0m \u001b[0mself\u001b[0m\u001b[0;34m.\u001b[0m\u001b[0moverbid\u001b[0m\u001b[0;34m:\u001b[0m\u001b[0;34m\u001b[0m\u001b[0;34m\u001b[0m\u001b[0m\n\u001b[1;32m     25\u001b[0m             \u001b[0;31m#calculating preferences:\u001b[0m\u001b[0;34m\u001b[0m\u001b[0;34m\u001b[0m\u001b[0;34m\u001b[0m\u001b[0m\n\u001b[0;32m---> 26\u001b[0;31m             \u001b[0mcurrent_preference\u001b[0m \u001b[0;34m=\u001b[0m \u001b[0mself\u001b[0m\u001b[0;34m.\u001b[0m\u001b[0mpref_function\u001b[0m\u001b[0;34m(\u001b[0m\u001b[0mself\u001b[0m\u001b[0;34m,\u001b[0m \u001b[0mbids\u001b[0m\u001b[0;34m)\u001b[0m\u001b[0;34m\u001b[0m\u001b[0;34m\u001b[0m\u001b[0m\n\u001b[0m\u001b[1;32m     27\u001b[0m             \u001b[0mself\u001b[0m\u001b[0;34m.\u001b[0m\u001b[0moverbid\u001b[0m \u001b[0;34m=\u001b[0m \u001b[0mcurrent_preference\u001b[0m \u001b[0;34m!=\u001b[0m \u001b[0midx\u001b[0m \u001b[0;31m#buyer is not overbid when he accepts the bid\u001b[0m\u001b[0;34m\u001b[0m\u001b[0;34m\u001b[0m\u001b[0m\n\u001b[1;32m     28\u001b[0m             \u001b[0;32mreturn\u001b[0m \u001b[0mcurrent_preference\u001b[0m \u001b[0;34m==\u001b[0m \u001b[0midx\u001b[0m\u001b[0;34m\u001b[0m\u001b[0;34m\u001b[0m\u001b[0m\n",
      "\u001b[0;32m<ipython-input-12-371fc6a7babc>\u001b[0m in \u001b[0;36m__call__\u001b[0;34m(self, buyer, bids)\u001b[0m\n\u001b[1;32m      8\u001b[0m \u001b[0;34m\u001b[0m\u001b[0m\n\u001b[1;32m      9\u001b[0m     \u001b[0;32mdef\u001b[0m \u001b[0m__call__\u001b[0m\u001b[0;34m(\u001b[0m\u001b[0mself\u001b[0m\u001b[0;34m,\u001b[0m \u001b[0mbuyer\u001b[0m\u001b[0;34m,\u001b[0m \u001b[0mbids\u001b[0m\u001b[0;34m)\u001b[0m\u001b[0;34m:\u001b[0m\u001b[0;34m\u001b[0m\u001b[0;34m\u001b[0m\u001b[0m\n\u001b[0;32m---> 10\u001b[0;31m         \u001b[0mnp\u001b[0m\u001b[0;34m.\u001b[0m\u001b[0margmin\u001b[0m\u001b[0;34m(\u001b[0m\u001b[0mself\u001b[0m\u001b[0;34m.\u001b[0m\u001b[0mdistance_mtx\u001b[0m\u001b[0;34m[\u001b[0m\u001b[0mself\u001b[0m\u001b[0;34m.\u001b[0m\u001b[0mbuyers\u001b[0m\u001b[0;34m.\u001b[0m\u001b[0mindex\u001b[0m\u001b[0;34m(\u001b[0m\u001b[0mbuyer\u001b[0m\u001b[0;34m)\u001b[0m\u001b[0;34m]\u001b[0m\u001b[0;34m)\u001b[0m\u001b[0;34m\u001b[0m\u001b[0;34m\u001b[0m\u001b[0m\n\u001b[0m\u001b[1;32m     11\u001b[0m \u001b[0;34m\u001b[0m\u001b[0m\n\u001b[1;32m     12\u001b[0m \u001b[0;32mclass\u001b[0m \u001b[0mOptimalCostPreference\u001b[0m\u001b[0;34m:\u001b[0m\u001b[0;34m\u001b[0m\u001b[0;34m\u001b[0m\u001b[0m\n",
      "\u001b[0;31mValueError\u001b[0m: <auction.Buyer object at 0x7f0a8d57bc88> is not in list"
     ]
    }
   ],
   "source": [
    "auction_result = auction.run_auctions(auctions, buyers)"
   ]
  },
  {
   "cell_type": "code",
   "execution_count": 15,
   "id": "2b3566f6",
   "metadata": {},
   "outputs": [
    {
     "data": {
      "text/plain": [
       "[<auction.Buyer at 0x7f0a8d6c5630>,\n",
       " <auction.Buyer at 0x7f0a8d5d0160>,\n",
       " <auction.Buyer at 0x7f0a8d5d0198>,\n",
       " <auction.Buyer at 0x7f0a8d5d01d0>,\n",
       " <auction.Buyer at 0x7f0a8d5d0208>,\n",
       " <auction.Buyer at 0x7f0a8d5d0240>,\n",
       " <auction.Buyer at 0x7f0a8d5d0278>,\n",
       " <auction.Buyer at 0x7f0a8d5d02b0>,\n",
       " <auction.Buyer at 0x7f0a8d5d02e8>,\n",
       " <auction.Buyer at 0x7f0a8d5d0320>,\n",
       " <auction.Buyer at 0x7f0a8d5d0358>,\n",
       " <auction.Buyer at 0x7f0a8d5d0390>,\n",
       " <auction.Buyer at 0x7f0a8d5d03c8>,\n",
       " <auction.Buyer at 0x7f0a8d5d0400>,\n",
       " <auction.Buyer at 0x7f0a8d5d0438>,\n",
       " <auction.Buyer at 0x7f0a8d5d0470>,\n",
       " <auction.Buyer at 0x7f0a8d5d04a8>,\n",
       " <auction.Buyer at 0x7f0a8d5d04e0>,\n",
       " <auction.Buyer at 0x7f0a8d5d0518>,\n",
       " <auction.Buyer at 0x7f0a8d5d0550>,\n",
       " <auction.Buyer at 0x7f0a8d5d0588>,\n",
       " <auction.Buyer at 0x7f0a8d5d05c0>,\n",
       " <auction.Buyer at 0x7f0a8d5d05f8>,\n",
       " <auction.Buyer at 0x7f0a8d5d0630>,\n",
       " <auction.Buyer at 0x7f0a8d5d0668>,\n",
       " <auction.Buyer at 0x7f0a8d5d06a0>,\n",
       " <auction.Buyer at 0x7f0a8d5d06d8>,\n",
       " <auction.Buyer at 0x7f0a8d5d0710>,\n",
       " <auction.Buyer at 0x7f0a8d5d0748>,\n",
       " <auction.Buyer at 0x7f0a8d5d0780>,\n",
       " <auction.Buyer at 0x7f0a8d5d07b8>,\n",
       " <auction.Buyer at 0x7f0a8d5d07f0>,\n",
       " <auction.Buyer at 0x7f0a8d5d0828>,\n",
       " <auction.Buyer at 0x7f0a8d5d0860>,\n",
       " <auction.Buyer at 0x7f0a8d5d0898>,\n",
       " <auction.Buyer at 0x7f0a8d5d08d0>,\n",
       " <auction.Buyer at 0x7f0a8d5d0908>,\n",
       " <auction.Buyer at 0x7f0a8d5d0940>,\n",
       " <auction.Buyer at 0x7f0a8d5d0978>,\n",
       " <auction.Buyer at 0x7f0a8d5d09b0>,\n",
       " <auction.Buyer at 0x7f0a8d5d09e8>,\n",
       " <auction.Buyer at 0x7f0a8d5d0a20>,\n",
       " <auction.Buyer at 0x7f0a8d5d0a58>,\n",
       " <auction.Buyer at 0x7f0a8d5d0a90>,\n",
       " <auction.Buyer at 0x7f0a8d5d0ac8>,\n",
       " <auction.Buyer at 0x7f0a8d5d0b00>,\n",
       " <auction.Buyer at 0x7f0a8d5d0b38>,\n",
       " <auction.Buyer at 0x7f0a8d5d0b70>,\n",
       " <auction.Buyer at 0x7f0a8d5d0ba8>,\n",
       " <auction.Buyer at 0x7f0a8d5d0be0>,\n",
       " <auction.Buyer at 0x7f0a8d5d0c18>,\n",
       " <auction.Buyer at 0x7f0a8d5d0c50>,\n",
       " <auction.Buyer at 0x7f0a8d5d0c88>,\n",
       " <auction.Buyer at 0x7f0a8d5d0cc0>,\n",
       " <auction.Buyer at 0x7f0a8d5d0cf8>,\n",
       " <auction.Buyer at 0x7f0a8d5d0d30>,\n",
       " <auction.Buyer at 0x7f0a8d5d0d68>,\n",
       " <auction.Buyer at 0x7f0a8d5d0da0>,\n",
       " <auction.Buyer at 0x7f0a8d5d0dd8>,\n",
       " <auction.Buyer at 0x7f0a8d5d0e10>,\n",
       " <auction.Buyer at 0x7f0a8d5d0e48>,\n",
       " <auction.Buyer at 0x7f0a8d5d0e80>,\n",
       " <auction.Buyer at 0x7f0a8d5d0eb8>,\n",
       " <auction.Buyer at 0x7f0a8d5d0ef0>,\n",
       " <auction.Buyer at 0x7f0a8d5d0f28>,\n",
       " <auction.Buyer at 0x7f0a8d5d0f60>,\n",
       " <auction.Buyer at 0x7f0a8d5d0f98>,\n",
       " <auction.Buyer at 0x7f0a8d5d0fd0>,\n",
       " <auction.Buyer at 0x7f0a8d5d5048>,\n",
       " <auction.Buyer at 0x7f0a8d5d5080>,\n",
       " <auction.Buyer at 0x7f0a8d5d50b8>,\n",
       " <auction.Buyer at 0x7f0a8d5d50f0>,\n",
       " <auction.Buyer at 0x7f0a8d5d5128>,\n",
       " <auction.Buyer at 0x7f0a8d5d5160>,\n",
       " <auction.Buyer at 0x7f0a8d5d5198>,\n",
       " <auction.Buyer at 0x7f0a8d5d51d0>,\n",
       " <auction.Buyer at 0x7f0a8d5d5208>,\n",
       " <auction.Buyer at 0x7f0a8d5d5240>,\n",
       " <auction.Buyer at 0x7f0a8d5d5278>,\n",
       " <auction.Buyer at 0x7f0a8d5d52b0>,\n",
       " <auction.Buyer at 0x7f0a8d5d52e8>,\n",
       " <auction.Buyer at 0x7f0a8d5d5320>,\n",
       " <auction.Buyer at 0x7f0a8d5d5358>,\n",
       " <auction.Buyer at 0x7f0a8d5d5390>,\n",
       " <auction.Buyer at 0x7f0a8d5d53c8>,\n",
       " <auction.Buyer at 0x7f0a8d5d5400>,\n",
       " <auction.Buyer at 0x7f0a8d5d5438>,\n",
       " <auction.Buyer at 0x7f0a8d5d5470>,\n",
       " <auction.Buyer at 0x7f0a8d5d54a8>,\n",
       " <auction.Buyer at 0x7f0a8d5d54e0>,\n",
       " <auction.Buyer at 0x7f0a8d5d5518>,\n",
       " <auction.Buyer at 0x7f0a8d5d5550>,\n",
       " <auction.Buyer at 0x7f0a8d5d5588>,\n",
       " <auction.Buyer at 0x7f0a8d5d55c0>,\n",
       " <auction.Buyer at 0x7f0a8d5d55f8>,\n",
       " <auction.Buyer at 0x7f0a8d5d5630>,\n",
       " <auction.Buyer at 0x7f0a8d5d5668>,\n",
       " <auction.Buyer at 0x7f0a8d5d56a0>,\n",
       " <auction.Buyer at 0x7f0a8d5d56d8>,\n",
       " <auction.Buyer at 0x7f0a8d5d5710>,\n",
       " <auction.Buyer at 0x7f0a8d5d5748>,\n",
       " <auction.Buyer at 0x7f0a8d5d5780>,\n",
       " <auction.Buyer at 0x7f0a8d5d57b8>,\n",
       " <auction.Buyer at 0x7f0a8d5d57f0>,\n",
       " <auction.Buyer at 0x7f0a8d5d5828>,\n",
       " <auction.Buyer at 0x7f0a8d5d5860>,\n",
       " <auction.Buyer at 0x7f0a8d5d5898>,\n",
       " <auction.Buyer at 0x7f0a8d5d58d0>,\n",
       " <auction.Buyer at 0x7f0a8d5d5908>,\n",
       " <auction.Buyer at 0x7f0a8d5d5940>,\n",
       " <auction.Buyer at 0x7f0a8d5d5978>,\n",
       " <auction.Buyer at 0x7f0a8d5d59b0>,\n",
       " <auction.Buyer at 0x7f0a8d5d59e8>,\n",
       " <auction.Buyer at 0x7f0a8d5d5a20>,\n",
       " <auction.Buyer at 0x7f0a8d5d5a58>,\n",
       " <auction.Buyer at 0x7f0a8d5d5a90>,\n",
       " <auction.Buyer at 0x7f0a8d5d5ac8>,\n",
       " <auction.Buyer at 0x7f0a8d5d5b00>,\n",
       " <auction.Buyer at 0x7f0a8d5d5b38>,\n",
       " <auction.Buyer at 0x7f0a8d5d5b70>,\n",
       " <auction.Buyer at 0x7f0a8d5d5ba8>,\n",
       " <auction.Buyer at 0x7f0a8d5d5be0>,\n",
       " <auction.Buyer at 0x7f0a8d5d5c18>,\n",
       " <auction.Buyer at 0x7f0a8d5d5c50>,\n",
       " <auction.Buyer at 0x7f0a8d5d5c88>,\n",
       " <auction.Buyer at 0x7f0a8d5d5cc0>,\n",
       " <auction.Buyer at 0x7f0a8d5d5cf8>,\n",
       " <auction.Buyer at 0x7f0a8d5d5d30>,\n",
       " <auction.Buyer at 0x7f0a8d5d5d68>,\n",
       " <auction.Buyer at 0x7f0a8d5d5da0>,\n",
       " <auction.Buyer at 0x7f0a8d5d5dd8>,\n",
       " <auction.Buyer at 0x7f0a8d5d5e10>,\n",
       " <auction.Buyer at 0x7f0a8d5d5e48>,\n",
       " <auction.Buyer at 0x7f0a8d5d5e80>,\n",
       " <auction.Buyer at 0x7f0a8d5d5eb8>,\n",
       " <auction.Buyer at 0x7f0a8d5d5ef0>,\n",
       " <auction.Buyer at 0x7f0a8d5d5f28>,\n",
       " <auction.Buyer at 0x7f0a8d5d5f60>,\n",
       " <auction.Buyer at 0x7f0a8d5d5f98>,\n",
       " <auction.Buyer at 0x7f0a8d5d5fd0>,\n",
       " <auction.Buyer at 0x7f0a8d5db048>,\n",
       " <auction.Buyer at 0x7f0a8d5db080>,\n",
       " <auction.Buyer at 0x7f0a8d5db0b8>,\n",
       " <auction.Buyer at 0x7f0a8d5db0f0>,\n",
       " <auction.Buyer at 0x7f0a8d5db128>,\n",
       " <auction.Buyer at 0x7f0a8d5db160>,\n",
       " <auction.Buyer at 0x7f0a8d5db198>,\n",
       " <auction.Buyer at 0x7f0a8d5db1d0>,\n",
       " <auction.Buyer at 0x7f0a8d5db208>,\n",
       " <auction.Buyer at 0x7f0a8d5db240>,\n",
       " <auction.Buyer at 0x7f0a8d5db278>,\n",
       " <auction.Buyer at 0x7f0a8d5db2b0>,\n",
       " <auction.Buyer at 0x7f0a8d5db2e8>,\n",
       " <auction.Buyer at 0x7f0a8d5db320>,\n",
       " <auction.Buyer at 0x7f0a8d5db358>,\n",
       " <auction.Buyer at 0x7f0a8d5db390>,\n",
       " <auction.Buyer at 0x7f0a8d5db3c8>,\n",
       " <auction.Buyer at 0x7f0a8d5db400>,\n",
       " <auction.Buyer at 0x7f0a8d5db438>,\n",
       " <auction.Buyer at 0x7f0a8d5db470>,\n",
       " <auction.Buyer at 0x7f0a8d5db4a8>,\n",
       " <auction.Buyer at 0x7f0a8d5db4e0>,\n",
       " <auction.Buyer at 0x7f0a8d5db518>,\n",
       " <auction.Buyer at 0x7f0a8d5db550>,\n",
       " <auction.Buyer at 0x7f0a8d5db588>,\n",
       " <auction.Buyer at 0x7f0a8d5db5c0>,\n",
       " <auction.Buyer at 0x7f0a8d5db5f8>,\n",
       " <auction.Buyer at 0x7f0a8d5db630>,\n",
       " <auction.Buyer at 0x7f0a8d5db668>,\n",
       " <auction.Buyer at 0x7f0a8d5db6a0>,\n",
       " <auction.Buyer at 0x7f0a8d5db6d8>,\n",
       " <auction.Buyer at 0x7f0a8d5db710>,\n",
       " <auction.Buyer at 0x7f0a8d5db748>,\n",
       " <auction.Buyer at 0x7f0a8d5db780>,\n",
       " <auction.Buyer at 0x7f0a8d5db7b8>,\n",
       " <auction.Buyer at 0x7f0a8d5db7f0>,\n",
       " <auction.Buyer at 0x7f0a8d5db828>,\n",
       " <auction.Buyer at 0x7f0a8d5db860>,\n",
       " <auction.Buyer at 0x7f0a8d5db898>,\n",
       " <auction.Buyer at 0x7f0a8d5db8d0>,\n",
       " <auction.Buyer at 0x7f0a8d5db908>,\n",
       " <auction.Buyer at 0x7f0a8d5db940>,\n",
       " <auction.Buyer at 0x7f0a8d5db978>,\n",
       " <auction.Buyer at 0x7f0a8d5db9b0>,\n",
       " <auction.Buyer at 0x7f0a8d5db9e8>,\n",
       " <auction.Buyer at 0x7f0a8d5dba20>,\n",
       " <auction.Buyer at 0x7f0a8d5dba58>,\n",
       " <auction.Buyer at 0x7f0a8d5dba90>,\n",
       " <auction.Buyer at 0x7f0a8d5dbac8>,\n",
       " <auction.Buyer at 0x7f0a8d5dbb00>,\n",
       " <auction.Buyer at 0x7f0a8d5dbb38>,\n",
       " <auction.Buyer at 0x7f0a8d5dbb70>,\n",
       " <auction.Buyer at 0x7f0a8d5dbba8>,\n",
       " <auction.Buyer at 0x7f0a8d5dbbe0>,\n",
       " <auction.Buyer at 0x7f0a8d5dbc18>,\n",
       " <auction.Buyer at 0x7f0a8d5dbc50>,\n",
       " <auction.Buyer at 0x7f0a8d5dbc88>,\n",
       " <auction.Buyer at 0x7f0a8d5dbcc0>,\n",
       " <auction.Buyer at 0x7f0a8d5dbcf8>,\n",
       " <auction.Buyer at 0x7f0a8d5dbd30>]"
      ]
     },
     "execution_count": 15,
     "metadata": {},
     "output_type": "execute_result"
    }
   ],
   "source": [
    "min_dist_pref.buyers"
   ]
  },
  {
   "cell_type": "code",
   "execution_count": 67,
   "id": "421a0cbf",
   "metadata": {},
   "outputs": [],
   "source": [
    "def map_auction_to_parking_area(auction_index, parking_capacities, parking_ids):\n",
    "    i, tot = 0, 0\n",
    "    if auction_index == 0:\n",
    "        return parking_ids[0]\n",
    "    while tot != auction_index:\n",
    "        if parking_capacities[i]+tot >= auction_index:\n",
    "            return parking_ids[i]\n",
    "        else:\n",
    "            tot += parking_capacities[i]\n",
    "            i += 1\n",
    "            \n",
    "def create_auction_result_maps(auction_results, parking_capacities, parking_ids):\n",
    "    result_map = {}\n",
    "    for i, auc in enumerate(auction_results):\n",
    "        p_area = map_auction_to_parking_area(auc[\"auction_index\"], parking_capacities, parking_ids)\n",
    "        result_map[\"veh%d\"%auc[\"buyer_index\"]] = p_area\n",
    "    return result_map"
   ]
  },
  {
   "cell_type": "code",
   "execution_count": 68,
   "id": "4ff0185c",
   "metadata": {},
   "outputs": [],
   "source": [
    "parking_mapping = create_auction_result_maps(auction_result, parking_capacities, parking_ids)"
   ]
  },
  {
   "cell_type": "code",
   "execution_count": 69,
   "id": "cf99a5c1",
   "metadata": {},
   "outputs": [],
   "source": [
    "simulate_after_auction(traci, parking_mapping)\n",
    "traci.close()"
   ]
  },
  {
   "cell_type": "code",
   "execution_count": 77,
   "id": "d9085189",
   "metadata": {},
   "outputs": [
    {
     "data": {
      "text/plain": [
       "(<Figure size 432x288 with 1 Axes>,\n",
       " <AxesSubplot:title={'center':'Number of stopped vehicles'}, xlabel='timestep', ylabel='#stopped vehicles'>)"
      ]
     },
     "execution_count": 77,
     "metadata": {},
     "output_type": "execute_result"
    },
    {
     "data": {
      "image/png": "[encoded data removed]",
      "text/plain": [
       "<Figure size 432x288 with 1 Axes>"
      ]
     },
     "metadata": {
      "needs_background": "light"
     },
     "output_type": "display_data"
    }
   ],
   "source": [
    "traditional_file = \"outputs/basic_output.xml\"\n",
    "auction_file = \"outputs/auction_output.xml\"\n",
    "\n",
    "t_t, v_t = get_stopped_vehicles_from_output(traditional_file)\n",
    "t_a, v_a = get_stopped_vehicles_from_output(auction_file)\n",
    "plot_stopped_vehicles([t_t, t_a], [v_t, v_a], [\"baseline\", \"with auction\"])"
   ]
  }
 ],
 "metadata": {
  "kernelspec": {
   "display_name": "Python 3",
   "language": "python",
   "name": "python3"
  },
  "language_info": {
   "codemirror_mode": {
    "name": "ipython",
    "version": 3
   },
   "file_extension": ".py",
   "mimetype": "text/x-python",
   "name": "python",
   "nbconvert_exporter": "python",
   "pygments_lexer": "ipython3",
   "version": "3.7.3"
  },
  "toc-autonumbering": false,
  "toc-showcode": true,
  "toc-showmarkdowntxt": false
 },
 "nbformat": 4,
 "nbformat_minor": 5
}
