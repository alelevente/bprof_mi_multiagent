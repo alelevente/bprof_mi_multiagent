{
 "cells": [
  {
   "cell_type": "markdown",
   "id": "94a28f3d",
   "metadata": {},
   "source": [
    "# **Testing the Auction module**"
   ]
  },
  {
   "cell_type": "code",
   "execution_count": 33,
   "id": "cb0a7fb4",
   "metadata": {},
   "outputs": [
    {
     "data": {
      "text/plain": [
       "<module 'auction' from '../auction.py'>"
      ]
     },
     "execution_count": 33,
     "metadata": {},
     "output_type": "execute_result"
    }
   ],
   "source": [
    "import sys\n",
    "import numpy as np\n",
    "from importlib import reload\n",
    "sys.path.append(\"../\")\n",
    "\n",
    "import auction\n",
    "reload(auction)"
   ]
  },
  {
   "cell_type": "markdown",
   "id": "98336472",
   "metadata": {},
   "source": [
    "## **Functionality testing**"
   ]
  },
  {
   "cell_type": "markdown",
   "id": "3bea2fd0",
   "metadata": {},
   "source": [
    "### Small sample"
   ]
  },
  {
   "cell_type": "code",
   "execution_count": 38,
   "id": "8eb99a0c",
   "metadata": {},
   "outputs": [],
   "source": [
    "starting_prices = np.random.normal(300, 15, 10)\n",
    "\n",
    "def preference_function(buyer_id, auction_ids, current_prices):\n",
    "    return np.argmin(current_prices)"
   ]
  },
  {
   "cell_type": "code",
   "execution_count": 35,
   "id": "5d3be2fa",
   "metadata": {},
   "outputs": [],
   "source": [
    "auctions = [auction.Auctioneer(starting_prices[i], 10, \"auc%d\"%i) for i in range(10)]\n",
    "buyers = [auction.Buyer(auctions, 5000, preference_function, \"buy%d\"%i) for i in range(10)]"
   ]
  },
  {
   "cell_type": "code",
   "execution_count": 36,
   "id": "b34ba658",
   "metadata": {},
   "outputs": [
    {
     "name": "stdout",
     "output_type": "stream",
     "text": [
      "8 out of 10 auctions are won\n",
      "2 out of 2 auctions are won\n"
     ]
    }
   ],
   "source": [
    "result = auction.run_auctions(auctions, buyers)"
   ]
  },
  {
   "cell_type": "code",
   "execution_count": 37,
   "id": "d9c27bbf",
   "metadata": {},
   "outputs": [
    {
     "data": {
      "text/plain": [
       "[{'auction_id': 'auc0', 'buyer_id': 'buy2', 'price': 313.2114553146565},\n",
       " {'auction_id': 'auc2', 'buyer_id': 'buy9', 'price': 321.1467422720572},\n",
       " {'auction_id': 'auc3', 'buyer_id': 'buy6', 'price': 317.65359818716695},\n",
       " {'auction_id': 'auc4', 'buyer_id': 'buy4', 'price': 313.7055038693609},\n",
       " {'auction_id': 'auc6', 'buyer_id': 'buy3', 'price': 313.23365347999334},\n",
       " {'auction_id': 'auc7', 'buyer_id': 'buy8', 'price': 320.6003527890358},\n",
       " {'auction_id': 'auc8', 'buyer_id': 'buy7', 'price': 318.78539480581},\n",
       " {'auction_id': 'auc9', 'buyer_id': 'buy5', 'price': 315.33836073361385},\n",
       " {'auction_id': 'auc1', 'buyer_id': 'buy0', 'price': 321.51003000616697},\n",
       " {'auction_id': 'auc5', 'buyer_id': 'buy1', 'price': 331.196039204331}]"
      ]
     },
     "execution_count": 37,
     "metadata": {},
     "output_type": "execute_result"
    }
   ],
   "source": [
    "result"
   ]
  },
  {
   "cell_type": "markdown",
   "id": "08b5d3d8",
   "metadata": {},
   "source": [
    "### Bigger sample"
   ]
  },
  {
   "cell_type": "code",
   "execution_count": 39,
   "id": "2e67718d",
   "metadata": {},
   "outputs": [],
   "source": [
    "starting_prices = np.random.normal(300, 15, 400)\n",
    "auctions = [auction.Auctioneer(starting_prices[i], 10, \"auc%d\"%i) for i in range(200)]\n",
    "buyers = [auction.Buyer(auctions, 5000, preference_function, \"buy%d\"%i) for i in range(200)]"
   ]
  },
  {
   "cell_type": "code",
   "execution_count": 40,
   "id": "1dfc063f",
   "metadata": {},
   "outputs": [
    {
     "name": "stdout",
     "output_type": "stream",
     "text": [
      "24 out of 200 auctions are won\n",
      "31 out of 176 auctions are won\n",
      "34 out of 145 auctions are won\n",
      "23 out of 111 auctions are won\n",
      "26 out of 88 auctions are won\n",
      "30 out of 62 auctions are won\n",
      "27 out of 32 auctions are won\n",
      "5 out of 5 auctions are won\n"
     ]
    }
   ],
   "source": [
    "result = auction.run_auctions(auctions, buyers)"
   ]
  },
  {
   "cell_type": "code",
   "execution_count": 46,
   "id": "402844f3",
   "metadata": {},
   "outputs": [],
   "source": [
    "successful_buyers = []\n",
    "for r in result:\n",
    "    if r[\"buyer_id\"] in successful_buyers: raise(ValueError)\n",
    "    successful_buyers.append(r[\"buyer_id\"])"
   ]
  },
  {
   "cell_type": "code",
   "execution_count": 42,
   "id": "3691565f",
   "metadata": {},
   "outputs": [
    {
     "data": {
      "text/plain": [
       "Text(0, 0.5, 'occurance')"
      ]
     },
     "execution_count": 42,
     "metadata": {},
     "output_type": "execute_result"
    },
    {
     "data": {
      "image/png": "[encoded data removed]",
      "text/plain": [
       "<Figure size 432x288 with 1 Axes>"
      ]
     },
     "metadata": {
      "needs_background": "light"
     },
     "output_type": "display_data"
    }
   ],
   "source": [
    "import matplotlib.pyplot as plt\n",
    "\n",
    "prices = []\n",
    "for r in result:\n",
    "    prices.append(r[\"price\"])\n",
    "    \n",
    "plt.hist(prices)\n",
    "plt.xlabel(\"price\")\n",
    "plt.ylabel(\"occurance\")"
   ]
  },
  {
   "cell_type": "markdown",
   "id": "0a009f38",
   "metadata": {},
   "source": [
    "## **Asymmetric test cases**"
   ]
  },
  {
   "cell_type": "markdown",
   "id": "106f5773",
   "metadata": {},
   "source": [
    "### #buyers > #items"
   ]
  },
  {
   "cell_type": "code",
   "execution_count": 25,
   "id": "40322248",
   "metadata": {},
   "outputs": [],
   "source": [
    "starting_prices = np.random.normal(300, 15, 30)\n",
    "auctions = [auction.Auctioneer(starting_prices[i], 10, \"auc%d\"%i) for i in range(30)]\n",
    "buyers = [auction.Buyer(auctions, 5000, preference_function, \"buy%d\"%i) for i in range(100)]"
   ]
  },
  {
   "cell_type": "code",
   "execution_count": 26,
   "id": "774b7c9e",
   "metadata": {},
   "outputs": [],
   "source": [
    "result = auction.run_auctions(auctions, buyers)"
   ]
  },
  {
   "cell_type": "code",
   "execution_count": 27,
   "id": "4c344c90",
   "metadata": {},
   "outputs": [],
   "source": [
    "successful_buyers = []\n",
    "for r in result:\n",
    "    if r[\"buyer_id\"] in successful_buyers: raise(ValueError)\n",
    "    successful_buyers.append(r[\"buyer_id\"])"
   ]
  },
  {
   "cell_type": "code",
   "execution_count": 28,
   "id": "a5bc6845",
   "metadata": {},
   "outputs": [
    {
     "data": {
      "text/plain": [
       "Text(0, 0.5, 'occurance')"
      ]
     },
     "execution_count": 28,
     "metadata": {},
     "output_type": "execute_result"
    },
    {
     "data": {
      "image/png": "[encoded data removed]",
      "text/plain": [
       "<Figure size 432x288 with 1 Axes>"
      ]
     },
     "metadata": {
      "needs_background": "light"
     },
     "output_type": "display_data"
    }
   ],
   "source": [
    "import matplotlib.pyplot as plt\n",
    "\n",
    "prices = []\n",
    "for r in result:\n",
    "    prices.append(r[\"price\"])\n",
    "    \n",
    "plt.hist(prices)\n",
    "plt.xlabel(\"price\")\n",
    "plt.ylabel(\"occurance\")"
   ]
  },
  {
   "cell_type": "markdown",
   "id": "dd5772a4",
   "metadata": {},
   "source": [
    "### #buyers < #items"
   ]
  },
  {
   "cell_type": "code",
   "execution_count": 57,
   "id": "21004223",
   "metadata": {},
   "outputs": [],
   "source": [
    "starting_prices = np.random.normal(300, 15, 228)\n",
    "auctions = [auction.Auctioneer(starting_prices[i], 10, \"auc%d\"%i) for i in range(228)]\n",
    "buyers = [auction.Buyer(auctions, 1000, preference_function, \"buy%d\"%i) for i in range(200)]"
   ]
  },
  {
   "cell_type": "code",
   "execution_count": 58,
   "id": "2f09ee36",
   "metadata": {},
   "outputs": [
    {
     "name": "stdout",
     "output_type": "stream",
     "text": [
      "23 out of 228 auctions are won\n",
      "27 out of 205 auctions are won\n",
      "27 out of 178 auctions are won\n",
      "26 out of 151 auctions are won\n",
      "27 out of 125 auctions are won\n",
      "27 out of 98 auctions are won\n",
      "24 out of 71 auctions are won\n",
      "19 out of 47 auctions are won\n"
     ]
    }
   ],
   "source": [
    "result = auction.run_auctions(auctions, buyers)"
   ]
  },
  {
   "cell_type": "code",
   "execution_count": 63,
   "id": "276a8634",
   "metadata": {},
   "outputs": [],
   "source": [
    "successful_buyers = []\n",
    "term_auctions = []\n",
    "for r in result:\n",
    "    if r[\"buyer_id\"] in successful_buyers: raise(ValueError)\n",
    "    if r[\"auction_id\"] in term_auctions: raise(ValueError)\n",
    "    successful_buyers.append(r[\"buyer_id\"])\n",
    "    term_auctions.append(r[\"auction_id\"])"
   ]
  },
  {
   "cell_type": "code",
   "execution_count": 61,
   "id": "9ee0a2fd",
   "metadata": {},
   "outputs": [
    {
     "data": {
      "text/plain": [
       "[{'auction_id': 'auc14', 'buyer_id': 'buy26', 'price': 281.4494851119183},\n",
       " {'auction_id': 'auc22', 'buyer_id': 'buy29', 'price': 282.0007799706831},\n",
       " {'auction_id': 'auc31', 'buyer_id': 'buy7', 'price': 272.7246624699657},\n",
       " {'auction_id': 'auc42', 'buyer_id': 'buy17', 'price': 278.14236545090097},\n",
       " {'auction_id': 'auc44', 'buyer_id': 'buy9', 'price': 274.8506689491635},\n",
       " {'auction_id': 'auc56', 'buyer_id': 'buy8', 'price': 273.86404884316016},\n",
       " {'auction_id': 'auc59', 'buyer_id': 'buy20', 'price': 279.57739663759827},\n",
       " {'auction_id': 'auc79', 'buyer_id': 'buy11', 'price': 275.65547783489234},\n",
       " {'auction_id': 'auc80', 'buyer_id': 'buy12', 'price': 275.8752869081456},\n",
       " {'auction_id': 'auc92', 'buyer_id': 'buy24', 'price': 281.05171603802546},\n",
       " {'auction_id': 'auc93', 'buyer_id': 'buy13', 'price': 275.9256136910216},\n",
       " {'auction_id': 'auc104', 'buyer_id': 'buy18', 'price': 278.74862610883105},\n",
       " {'auction_id': 'auc107', 'buyer_id': 'buy10', 'price': 275.4624766288468},\n",
       " {'auction_id': 'auc123', 'buyer_id': 'buy16', 'price': 277.865663345005},\n",
       " {'auction_id': 'auc131', 'buyer_id': 'buy15', 'price': 277.0481080987635},\n",
       " {'auction_id': 'auc148', 'buyer_id': 'buy23', 'price': 280.95196444179015},\n",
       " {'auction_id': 'auc157', 'buyer_id': 'buy27', 'price': 281.5670426242549},\n",
       " {'auction_id': 'auc159', 'buyer_id': 'buy19', 'price': 278.94326577516125},\n",
       " {'auction_id': 'auc161', 'buyer_id': 'buy14', 'price': 276.78786646467336},\n",
       " {'auction_id': 'auc162', 'buyer_id': 'buy28', 'price': 281.9862703097332},\n",
       " {'auction_id': 'auc202', 'buyer_id': 'buy22', 'price': 280.8684532364755},\n",
       " {'auction_id': 'auc212', 'buyer_id': 'buy21', 'price': 280.17303069279967},\n",
       " {'auction_id': 'auc215', 'buyer_id': 'buy25', 'price': 281.43315991449174},\n",
       " {'auction_id': 'auc11', 'buyer_id': 'buy32', 'price': 284.63914898982557},\n",
       " {'auction_id': 'auc19', 'buyer_id': 'buy38', 'price': 286.3442178920966},\n",
       " {'auction_id': 'auc26', 'buyer_id': 'buy42', 'price': 287.6305140368678},\n",
       " {'auction_id': 'auc37', 'buyer_id': 'buy40', 'price': 286.8604680565569},\n",
       " {'auction_id': 'auc54', 'buyer_id': 'buy46', 'price': 288.25457507950057},\n",
       " {'auction_id': 'auc66', 'buyer_id': 'buy43', 'price': 287.87074291976046},\n",
       " {'auction_id': 'auc72', 'buyer_id': 'buy1', 'price': 282.5429429287937},\n",
       " {'auction_id': 'auc82', 'buyer_id': 'buy39', 'price': 286.7875098397791},\n",
       " {'auction_id': 'auc86', 'buyer_id': 'buy6', 'price': 283.3273718485046},\n",
       " {'auction_id': 'auc101', 'buyer_id': 'buy34', 'price': 285.3680891990852},\n",
       " {'auction_id': 'auc110', 'buyer_id': 'buy45', 'price': 288.1316951470969},\n",
       " {'auction_id': 'auc139', 'buyer_id': 'buy5', 'price': 283.2434505356762},\n",
       " {'auction_id': 'auc141', 'buyer_id': 'buy3', 'price': 282.8032920919734},\n",
       " {'auction_id': 'auc147', 'buyer_id': 'buy2', 'price': 282.61158295410974},\n",
       " {'auction_id': 'auc150', 'buyer_id': 'buy35', 'price': 285.4204854034931},\n",
       " {'auction_id': 'auc156', 'buyer_id': 'buy48', 'price': 288.9560184863211},\n",
       " {'auction_id': 'auc163', 'buyer_id': 'buy33', 'price': 285.10997324405815},\n",
       " {'auction_id': 'auc169', 'buyer_id': 'buy37', 'price': 286.2912144300699},\n",
       " {'auction_id': 'auc176', 'buyer_id': 'buy49', 'price': 289.2150318804089},\n",
       " {'auction_id': 'auc178', 'buyer_id': 'buy41', 'price': 287.4667011048946},\n",
       " {'auction_id': 'auc181', 'buyer_id': 'buy4', 'price': 282.96235888595874},\n",
       " {'auction_id': 'auc183', 'buyer_id': 'buy47', 'price': 288.88496624541943},\n",
       " {'auction_id': 'auc185', 'buyer_id': 'buy0', 'price': 282.0843190593648},\n",
       " {'auction_id': 'auc189', 'buyer_id': 'buy30', 'price': 283.6775792874635},\n",
       " {'auction_id': 'auc201', 'buyer_id': 'buy31', 'price': 283.93876590255866},\n",
       " {'auction_id': 'auc223', 'buyer_id': 'buy36', 'price': 285.92983512855534},\n",
       " {'auction_id': 'auc226', 'buyer_id': 'buy44', 'price': 288.01639942717946},\n",
       " {'auction_id': 'auc4', 'buyer_id': 'buy66', 'price': 292.2733120447377},\n",
       " {'auction_id': 'auc7', 'buyer_id': 'buy61', 'price': 291.0329264641265},\n",
       " {'auction_id': 'auc9', 'buyer_id': 'buy68', 'price': 292.7506159536878},\n",
       " {'auction_id': 'auc10', 'buyer_id': 'buy54', 'price': 289.9352066243862},\n",
       " {'auction_id': 'auc20', 'buyer_id': 'buy53', 'price': 289.6044657863152},\n",
       " {'auction_id': 'auc29', 'buyer_id': 'buy75', 'price': 293.57100198222656},\n",
       " {'auction_id': 'auc30', 'buyer_id': 'buy74', 'price': 293.52727986533364},\n",
       " {'auction_id': 'auc49', 'buyer_id': 'buy52', 'price': 289.56263533381485},\n",
       " {'auction_id': 'auc75', 'buyer_id': 'buy69', 'price': 292.8747914126962},\n",
       " {'auction_id': 'auc91', 'buyer_id': 'buy64', 'price': 291.6340122853545},\n",
       " {'auction_id': 'auc103', 'buyer_id': 'buy76', 'price': 294.0759288351145},\n",
       " {'auction_id': 'auc109', 'buyer_id': 'buy70', 'price': 293.0135300227341},\n",
       " {'auction_id': 'auc113', 'buyer_id': 'buy55', 'price': 290.0264908824701},\n",
       " {'auction_id': 'auc117', 'buyer_id': 'buy50', 'price': 289.24114366130925},\n",
       " {'auction_id': 'auc118', 'buyer_id': 'buy63', 'price': 291.36181135427364},\n",
       " {'auction_id': 'auc130', 'buyer_id': 'buy59', 'price': 290.4325837890853},\n",
       " {'auction_id': 'auc137', 'buyer_id': 'buy56', 'price': 290.1853816374057},\n",
       " {'auction_id': 'auc138', 'buyer_id': 'buy51', 'price': 289.36917450503694},\n",
       " {'auction_id': 'auc142', 'buyer_id': 'buy62', 'price': 291.11069188934835},\n",
       " {'auction_id': 'auc153', 'buyer_id': 'buy58', 'price': 290.29343548916177},\n",
       " {'auction_id': 'auc158', 'buyer_id': 'buy57', 'price': 290.24216687306745},\n",
       " {'auction_id': 'auc180', 'buyer_id': 'buy73', 'price': 293.4251590394509},\n",
       " {'auction_id': 'auc186', 'buyer_id': 'buy71', 'price': 293.3283530912316},\n",
       " {'auction_id': 'auc192', 'buyer_id': 'buy65', 'price': 291.6574238503573},\n",
       " {'auction_id': 'auc194', 'buyer_id': 'buy72', 'price': 293.3894819581817},\n",
       " {'auction_id': 'auc195', 'buyer_id': 'buy60', 'price': 290.63703902998117},\n",
       " {'auction_id': 'auc218', 'buyer_id': 'buy67', 'price': 292.68612895502},\n",
       " {'auction_id': 'auc1', 'buyer_id': 'buy89', 'price': 295.49496797366174},\n",
       " {'auction_id': 'auc2', 'buyer_id': 'buy86', 'price': 295.2895982272782},\n",
       " {'auction_id': 'auc12', 'buyer_id': 'buy96', 'price': 296.5371105531331},\n",
       " {'auction_id': 'auc16', 'buyer_id': 'buy98', 'price': 296.9762299967692},\n",
       " {'auction_id': 'auc17', 'buyer_id': 'buy83', 'price': 294.9155425226406},\n",
       " {'auction_id': 'auc24', 'buyer_id': 'buy93', 'price': 296.2471904556237},\n",
       " {'auction_id': 'auc27', 'buyer_id': 'buy82', 'price': 294.8529382136104},\n",
       " {'auction_id': 'auc33', 'buyer_id': 'buy84', 'price': 295.00759897971085},\n",
       " {'auction_id': 'auc36', 'buyer_id': 'buy100', 'price': 297.2914498482116},\n",
       " {'auction_id': 'auc38', 'buyer_id': 'buy78', 'price': 294.2893319163229},\n",
       " {'auction_id': 'auc61', 'buyer_id': 'buy95', 'price': 296.4659033739391},\n",
       " {'auction_id': 'auc62', 'buyer_id': 'buy102', 'price': 297.7549711706357},\n",
       " {'auction_id': 'auc74', 'buyer_id': 'buy80', 'price': 294.4011534275681},\n",
       " {'auction_id': 'auc78', 'buyer_id': 'buy77', 'price': 294.1077749910479},\n",
       " {'auction_id': 'auc81', 'buyer_id': 'buy90', 'price': 295.6660480279424},\n",
       " {'auction_id': 'auc83', 'buyer_id': 'buy97', 'price': 296.6352134551217},\n",
       " {'auction_id': 'auc98', 'buyer_id': 'buy101', 'price': 297.47143269099956},\n",
       " {'auction_id': 'auc100', 'buyer_id': 'buy99', 'price': 297.07822260490957},\n",
       " {'auction_id': 'auc112', 'buyer_id': 'buy85', 'price': 295.17545383192663},\n",
       " {'auction_id': 'auc132', 'buyer_id': 'buy94', 'price': 296.2852400830084},\n",
       " {'auction_id': 'auc134', 'buyer_id': 'buy92', 'price': 296.1629738681941},\n",
       " {'auction_id': 'auc196', 'buyer_id': 'buy87', 'price': 295.30703916094274},\n",
       " {'auction_id': 'auc211', 'buyer_id': 'buy79', 'price': 294.3733615179696},\n",
       " {'auction_id': 'auc219', 'buyer_id': 'buy81', 'price': 294.5359017405216},\n",
       " {'auction_id': 'auc221', 'buyer_id': 'buy88', 'price': 295.32475538293255},\n",
       " {'auction_id': 'auc224', 'buyer_id': 'buy91', 'price': 295.72232379945814},\n",
       " {'auction_id': 'auc28', 'buyer_id': 'buy117', 'price': 300.1838783983202},\n",
       " {'auction_id': 'auc39', 'buyer_id': 'buy125', 'price': 301.91628282193386},\n",
       " {'auction_id': 'auc46', 'buyer_id': 'buy106', 'price': 298.7115802470281},\n",
       " {'auction_id': 'auc47', 'buyer_id': 'buy104', 'price': 298.4691358529592},\n",
       " {'auction_id': 'auc52', 'buyer_id': 'buy103', 'price': 297.8094083948836},\n",
       " {'auction_id': 'auc70', 'buyer_id': 'buy126', 'price': 302.1110607564626},\n",
       " {'auction_id': 'auc77', 'buyer_id': 'buy123', 'price': 301.6890345016132},\n",
       " {'auction_id': 'auc88', 'buyer_id': 'buy119', 'price': 300.4812753820883},\n",
       " {'auction_id': 'auc89', 'buyer_id': 'buy124', 'price': 301.8978800222603},\n",
       " {'auction_id': 'auc90', 'buyer_id': 'buy110', 'price': 299.58798182032785},\n",
       " {'auction_id': 'auc105', 'buyer_id': 'buy108', 'price': 299.3142817253297},\n",
       " {'auction_id': 'auc106', 'buyer_id': 'buy115', 'price': 299.78510407296875},\n",
       " {'auction_id': 'auc126', 'buyer_id': 'buy122', 'price': 301.56363195584623},\n",
       " {'auction_id': 'auc127', 'buyer_id': 'buy127', 'price': 302.2061021752142},\n",
       " {'auction_id': 'auc133', 'buyer_id': 'buy109', 'price': 299.5374879155477},\n",
       " {'auction_id': 'auc135', 'buyer_id': 'buy116', 'price': 299.85757954751494},\n",
       " {'auction_id': 'auc143', 'buyer_id': 'buy105', 'price': 298.5539610881179},\n",
       " {'auction_id': 'auc149', 'buyer_id': 'buy114', 'price': 299.7458562848867},\n",
       " {'auction_id': 'auc154', 'buyer_id': 'buy118', 'price': 300.23031609196715},\n",
       " {'auction_id': 'auc164', 'buyer_id': 'buy120', 'price': 300.76958882136233},\n",
       " {'auction_id': 'auc182', 'buyer_id': 'buy129', 'price': 302.5271757809771},\n",
       " {'auction_id': 'auc187', 'buyer_id': 'buy111', 'price': 299.66953747623694},\n",
       " {'auction_id': 'auc191', 'buyer_id': 'buy107', 'price': 299.20848574489673},\n",
       " {'auction_id': 'auc200', 'buyer_id': 'buy113', 'price': 299.7184376809295},\n",
       " {'auction_id': 'auc216', 'buyer_id': 'buy128', 'price': 302.41335063991},\n",
       " {'auction_id': 'auc217', 'buyer_id': 'buy112', 'price': 299.68839413338213},\n",
       " {'auction_id': 'auc222', 'buyer_id': 'buy121', 'price': 301.02099554321427},\n",
       " {'auction_id': 'auc13', 'buyer_id': 'buy138', 'price': 303.8170132445053},\n",
       " {'auction_id': 'auc25', 'buyer_id': 'buy139', 'price': 304.2494961367856},\n",
       " {'auction_id': 'auc34', 'buyer_id': 'buy145', 'price': 305.1294738855134},\n",
       " {'auction_id': 'auc35', 'buyer_id': 'buy132', 'price': 303.018624356301},\n",
       " {'auction_id': 'auc40', 'buyer_id': 'buy155', 'price': 306.6445911418171},\n",
       " {'auction_id': 'auc55', 'buyer_id': 'buy141', 'price': 304.508444196319},\n",
       " {'auction_id': 'auc57', 'buyer_id': 'buy130', 'price': 302.7522120891272},\n",
       " {'auction_id': 'auc71', 'buyer_id': 'buy144', 'price': 304.65095850422404},\n",
       " {'auction_id': 'auc85', 'buyer_id': 'buy136', 'price': 303.43780068547494},\n",
       " {'auction_id': 'auc87', 'buyer_id': 'buy153', 'price': 306.5933951007762},\n",
       " {'auction_id': 'auc96', 'buyer_id': 'buy149', 'price': 305.7392620668501},\n",
       " {'auction_id': 'auc99', 'buyer_id': 'buy150', 'price': 305.962296680826},\n",
       " {'auction_id': 'auc119', 'buyer_id': 'buy152', 'price': 306.30093918167586},\n",
       " {'auction_id': 'auc128', 'buyer_id': 'buy131', 'price': 302.7600681132084},\n",
       " {'auction_id': 'auc146', 'buyer_id': 'buy154', 'price': 306.5949626423056},\n",
       " {'auction_id': 'auc152', 'buyer_id': 'buy143', 'price': 304.61213242210584},\n",
       " {'auction_id': 'auc155', 'buyer_id': 'buy142', 'price': 304.5859600230548},\n",
       " {'auction_id': 'auc160', 'buyer_id': 'buy151', 'price': 306.2610177803466},\n",
       " {'auction_id': 'auc165', 'buyer_id': 'buy137', 'price': 303.62593246210747},\n",
       " {'auction_id': 'auc166', 'buyer_id': 'buy140', 'price': 304.4290481387951},\n",
       " {'auction_id': 'auc167', 'buyer_id': 'buy146', 'price': 305.26486713315273},\n",
       " {'auction_id': 'auc168', 'buyer_id': 'buy134', 'price': 303.1740018522687},\n",
       " {'auction_id': 'auc171', 'buyer_id': 'buy133', 'price': 303.113276449095},\n",
       " {'auction_id': 'auc172', 'buyer_id': 'buy148', 'price': 305.6764685872501},\n",
       " {'auction_id': 'auc173', 'buyer_id': 'buy135', 'price': 303.24215093742464},\n",
       " {'auction_id': 'auc184', 'buyer_id': 'buy147', 'price': 305.42269928556135},\n",
       " {'auction_id': 'auc225', 'buyer_id': 'buy156', 'price': 306.87011828755175},\n",
       " {'auction_id': 'auc0', 'buyer_id': 'buy172', 'price': 309.2549298881679},\n",
       " {'auction_id': 'auc8', 'buyer_id': 'buy158', 'price': 306.9190423083456},\n",
       " {'auction_id': 'auc15', 'buyer_id': 'buy168', 'price': 308.25009186610487},\n",
       " {'auction_id': 'auc41', 'buyer_id': 'buy159', 'price': 306.97492212851404},\n",
       " {'auction_id': 'auc48', 'buyer_id': 'buy170', 'price': 308.765262355256},\n",
       " {'auction_id': 'auc58', 'buyer_id': 'buy179', 'price': 310.5951054500602},\n",
       " {'auction_id': 'auc64', 'buyer_id': 'buy167', 'price': 308.0944801185097},\n",
       " {'auction_id': 'auc65', 'buyer_id': 'buy164', 'price': 307.54218590985573},\n",
       " {'auction_id': 'auc68', 'buyer_id': 'buy163', 'price': 307.5129045736488},\n",
       " {'auction_id': 'auc94', 'buyer_id': 'buy169', 'price': 308.46193792867507},\n",
       " {'auction_id': 'auc114', 'buyer_id': 'buy171', 'price': 308.9958124902234},\n",
       " {'auction_id': 'auc116', 'buyer_id': 'buy175', 'price': 309.5177870997083},\n",
       " {'auction_id': 'auc120', 'buyer_id': 'buy178', 'price': 310.45760265605935},\n",
       " {'auction_id': 'auc125', 'buyer_id': 'buy162', 'price': 307.3719428681504},\n",
       " {'auction_id': 'auc129', 'buyer_id': 'buy165', 'price': 307.7575519730685},\n",
       " {'auction_id': 'auc140', 'buyer_id': 'buy161', 'price': 307.0669683844912},\n",
       " {'auction_id': 'auc151', 'buyer_id': 'buy160', 'price': 307.06695346295766},\n",
       " {'auction_id': 'auc175', 'buyer_id': 'buy177', 'price': 310.32462924252127},\n",
       " {'auction_id': 'auc177', 'buyer_id': 'buy176', 'price': 310.18852024710714},\n",
       " {'auction_id': 'auc199', 'buyer_id': 'buy173', 'price': 309.27833862885126},\n",
       " {'auction_id': 'auc204', 'buyer_id': 'buy174', 'price': 309.5139300774614},\n",
       " {'auction_id': 'auc213', 'buyer_id': 'buy180', 'price': 311.0256635626199},\n",
       " {'auction_id': 'auc214', 'buyer_id': 'buy166', 'price': 307.9556300247092},\n",
       " {'auction_id': 'auc220', 'buyer_id': 'buy157', 'price': 306.8758060520291},\n",
       " {'auction_id': 'auc3', 'buyer_id': 'buy186', 'price': 312.97180893456255},\n",
       " {'auction_id': 'auc5', 'buyer_id': 'buy181', 'price': 311.59627705254286},\n",
       " {'auction_id': 'auc45', 'buyer_id': 'buy193', 'price': 315.61903986606933},\n",
       " {'auction_id': 'auc53', 'buyer_id': 'buy196', 'price': 316.14559850677153},\n",
       " {'auction_id': 'auc63', 'buyer_id': 'buy195', 'price': 316.04996235718556},\n",
       " {'auction_id': 'auc69', 'buyer_id': 'buy199', 'price': 316.4957142275016},\n",
       " {'auction_id': 'auc108', 'buyer_id': 'buy197', 'price': 316.15108313147863},\n",
       " {'auction_id': 'auc122', 'buyer_id': 'buy198', 'price': 316.48946391732574},\n",
       " {'auction_id': 'auc136', 'buyer_id': 'buy183', 'price': 312.44181876931185},\n",
       " {'auction_id': 'auc144', 'buyer_id': 'buy187', 'price': 313.77319377342354},\n",
       " {'auction_id': 'auc170', 'buyer_id': 'buy184', 'price': 312.9199188491062},\n",
       " {'auction_id': 'auc174', 'buyer_id': 'buy190', 'price': 314.72628589538516},\n",
       " {'auction_id': 'auc179', 'buyer_id': 'buy192', 'price': 315.44103234551153},\n",
       " {'auction_id': 'auc190', 'buyer_id': 'buy188', 'price': 313.8157399917218},\n",
       " {'auction_id': 'auc193', 'buyer_id': 'buy182', 'price': 312.09654038541055},\n",
       " {'auction_id': 'auc206', 'buyer_id': 'buy194', 'price': 315.9851456878587},\n",
       " {'auction_id': 'auc207', 'buyer_id': 'buy185', 'price': 312.93383184185456},\n",
       " {'auction_id': 'auc210', 'buyer_id': 'buy191', 'price': 315.41693842241773},\n",
       " {'auction_id': 'auc227', 'buyer_id': 'buy189', 'price': 314.1994598714631}]"
      ]
     },
     "execution_count": 61,
     "metadata": {},
     "output_type": "execute_result"
    }
   ],
   "source": [
    "result"
   ]
  },
  {
   "cell_type": "code",
   "execution_count": 32,
   "id": "3657c513",
   "metadata": {},
   "outputs": [
    {
     "data": {
      "text/plain": [
       "Text(0, 0.5, 'occurance')"
      ]
     },
     "execution_count": 32,
     "metadata": {},
     "output_type": "execute_result"
    },
    {
     "data": {
      "image/png": "[encoded data removed]",
      "text/plain": [
       "<Figure size 432x288 with 1 Axes>"
      ]
     },
     "metadata": {
      "needs_background": "light"
     },
     "output_type": "display_data"
    }
   ],
   "source": [
    "import matplotlib.pyplot as plt\n",
    "\n",
    "prices = []\n",
    "for r in result:\n",
    "    prices.append(r[\"price\"])\n",
    "    \n",
    "plt.hist(prices)\n",
    "plt.xlabel(\"price\")\n",
    "plt.ylabel(\"occurance\")"
   ]
  }
 ],
 "metadata": {
  "kernelspec": {
   "display_name": "Python 3",
   "language": "python",
   "name": "python3"
  },
  "language_info": {
   "codemirror_mode": {
    "name": "ipython",
    "version": 3
   },
   "file_extension": ".py",
   "mimetype": "text/x-python",
   "name": "python",
   "nbconvert_exporter": "python",
   "pygments_lexer": "ipython3",
   "version": "3.7.3"
  }
 },
 "nbformat": 4,
 "nbformat_minor": 5
}
