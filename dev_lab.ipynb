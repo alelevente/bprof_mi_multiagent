{
 "cells": [
  {
   "cell_type": "markdown",
   "id": "ea5b45a5",
   "metadata": {},
   "source": [
    "> python3 $SUMO_HOME/tools/visualization/plot_summary.py -i basic_output.xml --xlim 0,1000 -o summary_basic.png -m stopped\n"
   ]
  },
  {
   "cell_type": "markdown",
   "id": "fcf3a159",
   "metadata": {},
   "source": [
    "# Simulation setup"
   ]
  },
  {
   "cell_type": "code",
   "execution_count": 15,
   "id": "60b862c0",
   "metadata": {},
   "outputs": [],
   "source": [
    "import os, sys\n",
    "import numpy as np\n",
    "import traci"
   ]
  },
  {
   "cell_type": "code",
   "execution_count": 3,
   "id": "02487cc7",
   "metadata": {},
   "outputs": [],
   "source": [
    "gui = True #to run either sumo or sumo-gui\n",
    "SUMO_HOME = os.environ[\"SUMO_HOME\"] #locating the simulator\n",
    "default_scenario = \"./basic_simulation.sumocfg\"\n",
    "\n",
    "sys.path.append(SUMO_HOME+\"/tools\")\n",
    "import sumolib"
   ]
  },
  {
   "cell_type": "code",
   "execution_count": 7,
   "id": "749f2242",
   "metadata": {},
   "outputs": [],
   "source": [
    "def run_simulation(gui_needed: bool, scenario: str):\n",
    "    '''Runs a SUMO simulation.\n",
    "        -----------------------\n",
    "        parameters:\n",
    "        - gui-needed: if true SUMO is started with GUI\n",
    "        - scenario: path to the .sumocfg file to run'''\n",
    "    \n",
    "    sumo_binary = \"sumo-gui\" if gui_needed else \"sumo\"\n",
    "    sumo_cmd = [sumo_binary, \"-c\", scenario]\n",
    "    #starting SUMO server:\n",
    "    traci.start(sumo_cmd)\n",
    "    \n",
    "    #conducting the simulation:\n",
    "    step = 0\n",
    "    while step < 600:\n",
    "        step += 1\n",
    "        traci.simulationStep()\n",
    "    \n",
    "    traci.close()"
   ]
  },
  {
   "cell_type": "code",
   "execution_count": 8,
   "id": "4d97e083",
   "metadata": {},
   "outputs": [
    {
     "name": "stdout",
     "output_type": "stream",
     "text": [
      " Retrying in 1 seconds\n"
     ]
    }
   ],
   "source": [
    "run_simulation(True, default_scenario)"
   ]
  },
  {
   "cell_type": "markdown",
   "id": "102aa5c2",
   "metadata": {},
   "source": [
    "# Parsing and plotting outputs"
   ]
  },
  {
   "cell_type": "code",
   "execution_count": 9,
   "id": "8269b367",
   "metadata": {},
   "outputs": [],
   "source": [
    "output_file = \"outputs/basic_output.xml\""
   ]
  },
  {
   "cell_type": "code",
   "execution_count": 10,
   "id": "56fafe68",
   "metadata": {},
   "outputs": [],
   "source": [
    "def get_stopped_vehicles_from_output(output_file: str):\n",
    "    '''Extracts number of stopped vehicles from a simulation summary output.\n",
    "        ------------------------\n",
    "        parameters:\n",
    "        - output_file: the simulation output to parse\n",
    "        \n",
    "        Returns: time and #stopped vehicle pairs'''\n",
    "    \n",
    "    t, v = [], [] #(time x value) pairs\n",
    "    for time, val in sumolib.xml.parse_fast(output_file, \"step\", (\"time\", \"stopped\")):\n",
    "        t.append(sumolib.miscutils.parseTime(time))\n",
    "        v.append(float(val))\n",
    "    return t,v"
   ]
  },
  {
   "cell_type": "code",
   "execution_count": 11,
   "id": "af15d482",
   "metadata": {},
   "outputs": [],
   "source": [
    "import matplotlib.pyplot as plt\n",
    "\n",
    "def plot_stopped_vehicles(time_values, stopped_values, titles):\n",
    "    fig, ax = plt.subplots()\n",
    "    for i in range(len(time_values)):\n",
    "        ax.plot(time_values[i], stopped_values[i], label=titles[i])\n",
    "    ax.set_xlabel(\"timestep\")\n",
    "    ax.set_ylabel(\"#stopped vehicles\")\n",
    "    ax.set_title(\"Number of stopped vehicles\")\n",
    "    ax.legend()\n",
    "    return fig, ax"
   ]
  },
  {
   "cell_type": "code",
   "execution_count": 12,
   "id": "58061692",
   "metadata": {},
   "outputs": [
    {
     "data": {
      "text/plain": [
       "(<Figure size 432x288 with 1 Axes>,\n",
       " <AxesSubplot:title={'center':'Number of stopped vehicles'}, xlabel='timestep', ylabel='#stopped vehicles'>)"
      ]
     },
     "execution_count": 12,
     "metadata": {},
     "output_type": "execute_result"
    },
    {
     "data": {
      "image/png": "[encoded data removed]",
      "text/plain": [
       "<Figure size 432x288 with 1 Axes>"
      ]
     },
     "metadata": {
      "needs_background": "light"
     },
     "output_type": "display_data"
    }
   ],
   "source": [
    "t,v = get_stopped_vehicles_from_output(output_file)\n",
    "plot_stopped_vehicles([t], [v], [\"baseline\"])"
   ]
  },
  {
   "cell_type": "markdown",
   "id": "0d380cbb",
   "metadata": {},
   "source": [
    "# Processing routes\n",
    "\n",
    "We have to collect the routes that the vehicles actually use during the original simulation."
   ]
  },
  {
   "cell_type": "code",
   "execution_count": null,
   "id": "23be4f0c",
   "metadata": {},
   "outputs": [],
   "source": [
    "def read_movements(filename: str) -> list:\n",
    "    '''Reads the given route file and returns the edges of the routes'''\n",
    "    \n",
    "    movements = []\n",
    "    \n",
    "    for vehicle in sumolib.xml.parse(filename, \"vehicle\"):\n",
    "        route = vehicle.route[0] # access the first (and only) child element with name 'route'\n",
    "        edges = route.edges.split()\n",
    "        i = 0\n",
    "        mov_ = []\n",
    "        parking = vehicle.stop[0].parkingArea.split(\"pl\")[-1]\n",
    "        while i<len(edges) and edges[i] != parking:\n",
    "            mov_.append(edges[i])\n",
    "            i += 1\n",
    "        movements.append(mov_)\n",
    "        \n",
    "    return movements"
   ]
  },
  {
   "cell_type": "code",
   "execution_count": 4,
   "id": "d080902f",
   "metadata": {},
   "outputs": [],
   "source": [
    "movements = read_movements(\"scenario/parking_routes.rou.xml\")"
   ]
  },
  {
   "cell_type": "markdown",
   "id": "53fa8d19",
   "metadata": {},
   "source": [
    "# Instructed simulation\n",
    "\n",
    "We have to achieve the following via TraCI:\n",
    "1. make vehicles complete their routes (collected previously), controlled by the rerouter device\n",
    "2. then go to a parking lot"
   ]
  },
  {
   "cell_type": "code",
   "execution_count": 6,
   "id": "351fd601",
   "metadata": {},
   "outputs": [
    {
     "name": "stdout",
     "output_type": "stream",
     "text": [
      " Retrying in 1 seconds\n"
     ]
    }
   ],
   "source": [
    "traci.start([\"sumo-gui\", \"-c\", \"auction_simulation.sumocfg\"])\n",
    "\n",
    "traci.route.add(\"route0\", movements[0])\n",
    "vehicle = traci.vehicle.add(\"veh0\", \"route0\", typeID=\"reroutingType\")\n",
    "\n",
    "step = 0\n",
    "while step < 500:\n",
    "    step += 1\n",
    "    traci.simulationStep()\n",
    "    #if traci.vehicle.isStopped(\"veh0\"):\n",
    "    try:\n",
    "        route_idx = traci.vehicle.getRouteIndex(\"veh0\")\n",
    "        route = traci.vehicle.getRoute(\"veh0\")\n",
    "        if route_idx == len(route)-1:\n",
    "            #traci.vehicle.setR\n",
    "            #traci.route.add(\"route_to_pl344_0\", edges=[\"344\"])\n",
    "            #traci.vehicle.add\n",
    "            traci.vehicle.changeTarget(\"veh0\", \"344\")\n",
    "            traci.vehicle.setParkingAreaStop(\"veh0\", \"pl344\", duration=86400)\n",
    "            #traci.vehicle.rerouteParkingArea(\"veh0\", \"pl344\", duration=86400)\n",
    "    except:\n",
    "        pass\n",
    "        #traci.vehicle.setParkingAreaStop(\"veh0\", \"pl344\", duration=86400)\n",
    "\n",
    "traci.close()"
   ]
  },
  {
   "cell_type": "markdown",
   "id": "5f0d8381",
   "metadata": {},
   "source": [
    "# Connecting to the Auction method"
   ]
  },
  {
   "cell_type": "code",
   "execution_count": 16,
   "id": "7cdc9327",
   "metadata": {},
   "outputs": [],
   "source": [
    "def get_distance_to_parkings(traci, vehicle_id: str, sumo_parkings_lane_id: list) -> np.array:\n",
    "    '''Collecting distances of parking lots for each vehicles'''\n",
    "    distances = []\n",
    "    last_position = traci.vehicle.getRoute(vehicle_id)[-1]\n",
    "    for p in sumo_parkings_lane_id:\n",
    "        distances.append(traci.simulation.getDistanceRoad(last_position, 0, p, 0))\n",
    "    return np.array(distances)"
   ]
  },
  {
   "cell_type": "markdown",
   "id": "1f1f8343",
   "metadata": {},
   "source": [
    "### Reading parking lot capacities:"
   ]
  },
  {
   "cell_type": "code",
   "execution_count": 18,
   "id": "0653e196",
   "metadata": {},
   "outputs": [],
   "source": [
    "import xml.etree.ElementTree as ET\n",
    "\n",
    "def read_pl_capacities(filename: str) -> (list,list):\n",
    "    '''Reads an additional file that contains parking lot definitions. Returns the parking lot ids and the corresp. capacities'''\n",
    "    tree = ET.parse('scenario/parkings.add.xml')\n",
    "    root = tree.getroot()\n",
    "    p_ids = []\n",
    "    p_capacities = []\n",
    "    for parea in root:\n",
    "        p_ids.append(parea.attrib[\"id\"])\n",
    "        p_capacities.append(parea.attrib[\"roadsideCapacity\"])\n",
    "    return p_ids, p_capacities"
   ]
  },
  {
   "cell_type": "code",
   "execution_count": null,
   "id": "6865052c",
   "metadata": {},
   "outputs": [],
   "source": [
    "import auction\n",
    "\n",
    "def init_auction_method(parking_capacities, vehicle_numbers, starting_prices, preference_function, bid_step = 10, max_price = 5000)-> list, list:\n",
    "    \"\"\"Initializes the participants of the auction method\n",
    "       -------------\n",
    "       parameters:\n",
    "           - parking_capacities: capacity values of the parking lots (number of auctions),\n",
    "           - vehicle_numbers: number of vehicles (number of buyers),\n",
    "           - starting_prices: list of starting prices of the auctions,\n",
    "           - preference_function: the function that calculates which parking lot is preferred.\n",
    "                                   signature: preference_function(buyer_object, current_price_list),\n",
    "           - bid_step: amount of money by which current bids will be increased during auctions,\n",
    "           - max_price: maximum price that the buyers are willing to accept\"\"\"\n",
    "    \n",
    "    auctions = []\n",
    "    buyers = []\n",
    "    \n",
    "    for pcap in parking_capacities:\n",
    "        for i in range(pcap):\n",
    "            auctions.append(auction.Auctioneer(starting_prices[len(auctions)], bid_step))\n",
    "            \n",
    "    buyers = [auction.Buyer(auctions, max_price, preference_function) for i in range(vehicle_numbers)]\n",
    "    return auctions, buyers"
   ]
  },
  {
   "cell_type": "code",
   "execution_count": 19,
   "id": "a8491426",
   "metadata": {},
   "outputs": [],
   "source": [
    "def min_price(buyer, bids):\n",
    "    return np.argmin(bids)\n",
    "\n",
    "class min_distance_preference:\n",
    "    def __init__(self, distance_mtx, buyers):\n",
    "        self.distance_mtx = distance_mtx\n",
    "        self.buyers = buyers\n",
    "        \n",
    "    def __call__(self, buyer, bids):\n",
    "        np.argmin(self.distance_mtx[self.buyers.index(buyer)])\n",
    "        \n",
    "class min_distance_preference:\n",
    "    def __init__(self, distance_mtx, buyers):\n",
    "        self.distance_mtx = distance_mtx\n",
    "        self.buyers = buyers\n",
    "        \n",
    "    def __call__(self, buyer, bids):\n",
    "        np.argmin(bids + 2*self.distance_mtx[self.buyers.index(buyer)])"
   ]
  },
  {
   "cell_type": "code",
   "execution_count": 20,
   "id": "1ae7ec9e",
   "metadata": {},
   "outputs": [],
   "source": [
    "def init_simulation(traci_commands: list, movements: list, parking_lot_file: str):\n",
    "    '''Initializes the simulation, and returns the final distances\n",
    "       ----------------\n",
    "       parameters:\n",
    "        - traci_commands: commands to start TraCI with,\n",
    "        - movements: list of the edges simulated vehicles shall go through,\n",
    "        - parking_lot_file: path to the file defining parkingAreas\n",
    "        \n",
    "       returns:\n",
    "        the distances to parking lots when the vehicles are finished their routes'''\n",
    "    traci.start(traci_commands)\n",
    "    \n",
    "    for i in range(len(movements)):\n",
    "        traci.route.add(\"route%d\" % i, movements[i])\n",
    "        vehicle = traci.vehicle.add(\"veh%d\" % i, \"route%d\" % i, typeID=\"reroutingType\")\n",
    "        \n",
    "    traci.simulationStep()\n",
    "    \n",
    "    p_ids, p_caps = read_pl_capacities(parking_lot_file)\n",
    "    distances = []\n",
    "    for i in range(len(movements)):\n",
    "        distances.append(get_distance_to_parkings(traci, \"veh%d\" % i, p_ids.split(\"pl\")[-1]))\n",
    "    \n",
    "    return distances"
   ]
  },
  {
   "cell_type": "code",
   "execution_count": null,
   "id": "f2d67063",
   "metadata": {},
   "outputs": [],
   "source": [
    "def simulate_after_auction(traci, parking_mapping, max_step = 600):\n",
    "    veh_list = traci.vehicle.getIDList()\n",
    "    \n",
    "    step = 1\n",
    "    while step < max_step:\n",
    "        step += 1\n",
    "        traci.simulationStep()\n",
    "        for veh in veh_list:\n",
    "            try:\n",
    "                route_idx = traci.vehicle.getRouteIndex(veh)\n",
    "                route = traci.vehicle.getRoute(veh)\n",
    "                if route_idx == len(route)-1:\n",
    "                    traci.vehicle.changeTarget(veh, parking_mapping[veh].split(\"pl\")[-1])\n",
    "                    traci.vehicle.setParkingAreaStop(veh, parking_mapping[veh], duration=86400)\n",
    "            except:\n",
    "                pass"
   ]
  },
  {
   "cell_type": "code",
   "execution_count": null,
   "id": "b564cd21",
   "metadata": {},
   "outputs": [],
   "source": [
    "#TODO: init sim. -> auction -> create mapping -> simulation -> evaluate results "
   ]
  }
 ],
 "metadata": {
  "kernelspec": {
   "display_name": "Python 3",
   "language": "python",
   "name": "python3"
  },
  "language_info": {
   "codemirror_mode": {
    "name": "ipython",
    "version": 3
   },
   "file_extension": ".py",
   "mimetype": "text/x-python",
   "name": "python",
   "nbconvert_exporter": "python",
   "pygments_lexer": "ipython3",
   "version": "3.7.3"
  }
 },
 "nbformat": 4,
 "nbformat_minor": 5
}
