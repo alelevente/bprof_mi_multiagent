{
 "cells": [
  {
   "cell_type": "markdown",
   "id": "499c6955",
   "metadata": {},
   "source": [
    "# **Többágenses rendszerek vizsgálata**"
   ]
  },
  {
   "cell_type": "markdown",
   "id": "83ab4a16",
   "metadata": {},
   "source": [
    "## **Bevezetés**\n",
    "\n",
    "A gyakorlati problémák megoldásakor célszerű a probléma egyes részeit külön-külön is autonóm intelligens ágensparadigmával modellezni. Például egy okosotthonban lehet egy ágens (lásd Amazon Alexa), mely megérti a \"Főzz nekem egy kávét!\" emberi mondatot, illetve egy másik ágens (egy intelligens kávéfőző), amely tudja, hogyha ez az utasítás reggel hangzik el, akkor a kávét finomra darálva, cukor nélkül, kevés tejjel és nagyon gyorsan kell elkészítenie.\n",
    "\n",
    "Így tehát a problémamegoldás folyamatában több intelligens ágens is a rendelkezésre állhat. Ezen ágensek valószínűleg mást érzékelnek a környezetből (pl. mert máshol tartózkodnak, vagy másféle érzékelőkkel vannak ellátva), ezért működésük során némileg másképpen \"gondolkodnak\", így másféle beavatkozásokat is fognak végrehajtani.\n",
    "\n",
    "Ezen beavatkozások természetesen megváltoztatják a környezetet, viszont az koránt sem biztos, hogy ami az egyik ágens szempontjából racionális cselekvés volt, az a teljes (az ún. több ágenses) rendszer szempontjából is annak tekinthető-e. Sajnos ez általánosan nem jelenthető ki, ezért különféle módszereket kell kidolgoznunk arra, hogyha egy adott környzetben egy problémát több ágens modellezésével szeretnénk megoldani.\n",
    "\n",
    "Egy konkrét példaként említhetjük a jövő önvezető gépjárműveit, melyeket önmagunkban is intelligens ágensként kezelünk. Annak érdekében, hogy egy város forgalmát csökkenthessük, szeretnénk, ha az önvezető autók a lehető leghamarabb leparkolnának. Természetesen az autók mozgó fizikai entitások is, így be kell tartaniuk a közlekedési szabályokat, illetve csak olyan parkolóban állhatnak meg, amelyet egy másik jármű még nem foglalt el. Ez nyilvánvalóan teremt a gépkocsik között egyfajta versengést is. Mivel az önvezető autókat feltételezésünk szerint ellátták V2I (vehicle-to-infrastructure) kommunikációs modullal, az autók kooperálhatnak is, azaz megbeszélhetik, hogy melyikük hová parkoljon le.\n",
    "\n",
    "Tömören összefoglalva tehát a laborban megoldandó többágenses feladat a következőképpen írható le:\n",
    "- **Környezet:** egy város úthálózata\n",
    "- **Ágensek:** önvezető autók\n",
    "- **Feladat:** minden autó a lehető leggyorsabban parkoljon le\n",
    "- az ágenseink alapvetően versengőek, de kommunikáció segítségével tárgyalni tudnak a közös cél elérésének érdekében\n",
    "\n",
    "### **A szoftverkörnyezet**\n",
    "\n",
    "A laborgyakorlat során a környezet modellezéséhez egy ún. mikroszkopikus forgalomszimulátort fogunk használni. A mikroszkopikus jelentése itt az, hogy a szimulátor képes egyedi autók szintjén modellezni a forgalmat. Ez a szimulátor a nyílt forráskódú [Eclipse SUMO](https://www.eclipse.org/sumo/) lesz (SUMO = Simulation of Urban MObility).\n",
    "\n",
    "![python_sumo_connection](pictures/python-traci-sumo.drawio.png \"Kapcsolat a JupyterLab (Python) és az Eclipse SUMO (szimulátor) között a TraCI segítségével.\")\n",
    "\n",
    "A szerverként futtatható szimulátorhoz egy interfészen, a [TraCI-n](https://sumo.dlr.de/daily/pydoc/traci.main.html) (Traffic Control Interface) keresztül fogunk csatlakozni ebből a Jupyter Notebookból. A TraCI-n keresztül lehetőségünk van a szimulátor működését is befolyásolni. Mivel a laboratóriumi foglalkozás kereteibe nem fér bele a SUMO és a TraCI mélyebb megismerése, elkészítettünk egy segédkönyvtárat (`helper.py`), amely már tartalmazza a megoldáshoz legszükségesebb függvényeket.\n",
    "\n",
    "**Végezze el ennek a könyvtárnak az importálását!**"
   ]
  },
  {
   "cell_type": "code",
   "execution_count": null,
   "id": "ab001870",
   "metadata": {},
   "outputs": [],
   "source": [
    "import helper"
   ]
  },
  {
   "cell_type": "markdown",
   "id": "cef6105c",
   "metadata": {},
   "source": [
    "## **Parkolás koordináció nélkül**\n",
    "\n",
    "Első lépésként vizsgáljuk meg mi történik abban az esetben, ha az ágenseink nem kooperálnak! Ez gyakorlatilag a klasszikus parkolóhely-keresés lesz: addig fognak a szimulált gépkocsik parkolóról parkolóra vándorolni, amíg nem találnak egy üres helyet."
   ]
  },
  {
   "cell_type": "markdown",
   "id": "0f9192c8",
   "metadata": {},
   "source": [
    "### <a name=\"simulation\"> **Szimuláció** </a>\n",
    "\n",
    "\n",
    "A vizsgálathoz el fogjuk indítani az Eclipse SUMO-t. A SUMO-nak grafikus, és konzolos felülete is van. A laboron az érdekesség kedvéért a grafikus felületet fogjuk használni. Minden szimulációhoz szükséges az, hogy a grafikus felületen elindítsuk a szimulációt (persze lehetőségünk van arra is, hogy megállítsuk a szimulációt, illetve, hogy lépésenként futtassuk azt).\n",
    "\n",
    "A szimulációban egy kisváros térképét látjuk 30 utcával. Az utcákon 200 autó indul útnak, hogy parkolóhelyet találjon magának. A városban 228 parkolóhely található, tehát az autók elméletileg találnak maguknak parkolóhelyet.\n",
    "\n",
    "![SUMO-GUI](pictures/sumo_gui.drawio.png \"A SUMO-GUI felülete\")\n",
    "\n",
    "**Az alábbi cellát futtatva indítsa el a SUMO-t! Ismerkedjen meg a grafikus felülettel, a szimuláció lelassítása mellett figyelje meg, hogy mi történik a szimuláció során!**\n",
    "(A szimuláció lefutása után zárja be a SUMO-GUI ablakát!)"
   ]
  },
  {
   "cell_type": "code",
   "execution_count": null,
   "id": "a18f5710",
   "metadata": {},
   "outputs": [],
   "source": [
    "baseline_scenario = \"basic_simulation.sumocfg\"\n",
    "helper.run_basic_simulation(gui_needed = True, scenario = baseline_scenario)"
   ]
  },
  {
   "cell_type": "markdown",
   "id": "790db2d1",
   "metadata": {},
   "source": [
    "### **Értékelés**\n",
    "\n",
    "Az alábbi függvényhívások beolvassák, és grafikusan ábrázolják azt, hogy egy adott szimulációs lépésben az autók mekkora arányba parkoltak már le. **Futtassa le a következő cellát!**"
   ]
  },
  {
   "cell_type": "code",
   "execution_count": null,
   "id": "277a30f9",
   "metadata": {},
   "outputs": [],
   "source": [
    "#beolvasandó eredményfájl\n",
    "uncoordinated_output = \"outputs/basic_output.xml\"\n",
    "\n",
    "#eredményfájl beolvasása (idő, érték) változópárokba:\n",
    "t_uncoordinated, v_uncoordinated = helper.get_stopped_vehicles_from_output(uncoordinated_output)\n",
    "#eredmények megjelenítése:\n",
    "helper.plot_stopped_vehicles([t_uncoordinated], [v_uncoordinated], [\"uncoordinated\"]);"
   ]
  },
  {
   "cell_type": "markdown",
   "id": "a1fc1bc8",
   "metadata": {},
   "source": [
    "**Válaszoljon a következő kérdésekre!** (Szükség esetén futtassa le újra a [szimulációt](#simulation).)\n",
    " > Kb. hanyadik `timestep`-re parkolt le az összes gépjármű?\n",
    " \n",
    " <az ön válaszának helye>\n",
    " \n",
    " > Nagyjából a 150. `timestamp`-ig meredeken emelkedik a leparkolt járművek aránya, utána viszont a görbe ellaposodik. Mi lehet ennek az oka?\n",
    " \n",
    " <az ön válaszának helye>\n",
    " \n",
    " > Empirikusan tehát mit mondhatunk, mekkora parkolóhelyfoglaltságnál kezd nehézzé válni egy szabad parkoló megtalálása? (jelen esetben a parkolóhelyek száma közel azonos a gépjárművek számával)\n",
    " \n",
    " <az ön válaszának helye>"
   ]
  },
  {
   "cell_type": "markdown",
   "id": "f5841044",
   "metadata": {},
   "source": [
    "---\n",
    "\n",
    "## **Parkolás koordinációval**\n",
    "\n",
    "Amint láthatjuk, az önvezető autóink, azaz az ágenseink képesek megoldani a feladatot anélkül, hogy bármilyen kooperatív megoldást alkalmaznának. Viszont az is látszik, hogy az utolsó néhány jármű leparkolása kifejezetten sokáig tart. (Az első 150 lépésben sikeresen leparkol az autók 90%-a, viszont az utolsó 10%-nak még majdnem 300 lépést kell megtennie, hogy parkolót találjon.)\n",
    "\n",
    "Vezessünk most be egy koordinációs mechanizmust a parkolóhelyek kiosztásához!"
   ]
  },
  {
   "cell_type": "markdown",
   "id": "94fb3133",
   "metadata": {},
   "source": [
    "### **Az árverési eljárás**\n",
    "\n",
    "Gyakori feladat, hogy szűkös erőforrásokat (például parkolóhelyeket, vagy termékeket) kell elosztani versengő ágensek (például önvezető autók, vagy kereskedők) között. Ennek az elosztásnak egy többezer éves formája az árverés.\n",
    "\n",
    "Természetesen az eladók (vagy a parkolóhely fenntartója) előírhatnak egy *minimális összeget*, ami alatt nem hajlandóak eladni az árut (a parkolóhelyet). Ez a *kikiáltási ár*.\n",
    "\n",
    "Továbbá az árverés lehetővé teszi azt, hogy az egyes termékeket (parkolóhelyeket) minden vevő (önvezető autó) *egyénileg értékelje*. (Például értékesebb lehet egy közelebbi parkolóhely, vagy lehet, hogy van egy kedvenc parkolóhelyünk.) Így mohó módon, egy *monoton preferenciafüggvény* szerint számíthatjuk ki, hogy melyik az a parkolóhely, amiért licitálni érdemes.\n",
    "\n",
    "Az árverési eljárás, amelyet alkalmazni fogunk, az rendelkezik egy nagyon előnyös tulajdonsággal. Méghozzá azzal, hogy az egyénileg mohó licitálással **az optimális megoldáshoz konvergál** (feltéve hogy kizárólag az árat vesszük figyelembe)."
   ]
  },
  {
   "cell_type": "markdown",
   "id": "f3489583",
   "metadata": {},
   "source": [
    "#### **Az árverések lefutása**\n",
    "\n",
    "1. A parkolóhelyek kiosztásához több árverés fog indulni (mind a 228 parkolóhelyért egy-egy).\n",
    "2. Az eladók ezután ciklikusan végigkérdezik a vásárlókat arról, hogy hajlandóak-e megadni az aktuális árat.\n",
    "3. Erre a vásárlók kiszámolják, hogy megadhatják-e ezt az összeget:\n",
    "  - Természetesen egy felső értékhatárig (jelenleg 1000 Ft-ig) hajlandóak megadni ezt az összeget.\n",
    "  - További feltétel, hogy ne álljanak nyerésre más árverésen (kizárólag 1 parkolóhelyet foglalhatnak le).\n",
    "  - Feladat az is, hogy a lehető legjobb parkolóhelyért licitáljanak, ezért kiszámolják a preferenciafüggvény minimumát. (egyéni optimális megoldásra törekvés)\n",
    "  - Végül igennel vagy nemmel felelnek a kérdező eladónak.\n",
    "4. Az eladó megkapja a választ:\n",
    "  - Ha egy vásárló hajlandó megadni az aktuális tétet, akkor az eladó azt egy kis összeggel (jelenleg 10 Ft-tal) megemeli.\n",
    "5. Az eljárás folytatódik a 2. lépéssel, egészen addig, amíg le nem zárul az árverés (jelenleg 100 eredménytelen ciklusig tart ez). Ha valamely autó utoljára licitált az árverésen, akkor ő lesz az adott árverés nyertese\n",
    "\n",
    "Amennyiben részleteiben is érdekli Önt az árverési algoritmus, nézze meg az `auction.py` állományt!"
   ]
  },
  {
   "cell_type": "markdown",
   "id": "abd0f8f9",
   "metadata": {},
   "source": [
    "#### **Az eljárás előkészítése**\n",
    "\n",
    "Ahogyan arról már szó volt, az árverési eljáráshoz szükséges egy minimális, ún. kikiáltási ár definiálása. **Definiáljon kikiáltási árat a 228 parkolóhelyhez!** (akár a [`numpy.random` eloszlásfüggvényeit](https://numpy.org/doc/1.16/reference/routines.random.html) is alkalmazhatja)\n",
    "\n",
    "<span style=\"color:red\">Figyelem, a kikiáltási ár legyen alacsonyabb, mint a maximálisan megadható ár (jelenleg 1000 Ft)! </span>"
   ]
  },
  {
   "cell_type": "code",
   "execution_count": null,
   "id": "8054a98b",
   "metadata": {},
   "outputs": [],
   "source": [
    "import numpy as np\n",
    "\n",
    "starting_prices = [] # <- töltse fel ezt a listát megfelelő kikiáltási árakkal"
   ]
  },
  {
   "cell_type": "markdown",
   "id": "4ce9634b",
   "metadata": {},
   "source": [
    "Ahhoz, hogy minden gépjármű bekerüljön a szimulált úthálózatba, néhány lépésen keresztül futtatni kell a szimulációt. Ez szükséges ahhoz, hogy bizonyos paramétereket (pl. a parkolóhelyekhez mért távolságot) le tudjuk kérdezni a szimulátortól.\n",
    "\n",
    "A következő cella futtatásakor ismét meg fog nyílni a SUMO-GUI. **Indítsa el a szimulációt,** és hagyja futni addig, amíg ezek az előkészítő lépések be nem fejeződnek. **A szimuláció az előkészítő lépések befejezésével meg fog állni, viszont ne zárja be a SUMO-GUI ablakát!**"
   ]
  },
  {
   "cell_type": "code",
   "execution_count": null,
   "id": "d8a12886",
   "metadata": {},
   "outputs": [],
   "source": [
    "import helper\n",
    "\n",
    "#inputfájlok:\n",
    "instrumented_scenario = \"auction_simulation.sumocfg\"\n",
    "movements_file = \"scenario/parking_routes.rou.xml\"\n",
    "parking_lot_definition = \"scenario/parkings.add.xml\"\n",
    "#outputfájl:\n",
    "output_file = \"outputs/with_auctions.xml\"\n",
    "\n",
    "################ előkészítő lépések ################\n",
    "#Eredeti mozgások beolvasása:\n",
    "movements = helper.read_movements(movements_file)\n",
    "#Parkolóhelyek beolvasása:\n",
    "parking_capacities = helper.read_parking_lots(parking_lot_definition)\n",
    "\n",
    "#szimuláció előkészítése:\n",
    "distance_mtx, vehicle_ids, parking_lot_occups = helper.init_controlled_simulation(\n",
    "    gui_needed = True,\n",
    "    scenario = instrumented_scenario,\n",
    "    movements = movements,\n",
    "    parkings = parking_capacities,\n",
    "    output_file = output_file)\n",
    "\n",
    "#esetleg elfoglalt parkolóhelyek levonása, parkolóhelyek kikiáltási árainak beállítása:\n",
    "assigned_parking_prices = {}\n",
    "i = 0\n",
    "for parking_id in parking_capacities:\n",
    "    parking_capacities[parking_id] = parking_capacities[parking_id]-parking_lot_occups[parking_id]\n",
    "    assigned_parking_prices[parking_id] = starting_prices[i]\n",
    "    i += 1"
   ]
  },
  {
   "cell_type": "markdown",
   "id": "c4336946",
   "metadata": {},
   "source": [
    "#### **Preferenciafüggvény definiálása**\n",
    "\n",
    "A következő feladata egy megfelelő preferenciafüggvény definiálása lesz. A vevők (lásd `auction.Buyer`) minden egyes kérdésnél kiértékelik a preferenciafüggvényt, azaz meghívják a `parking_lot_preference.MixedCostDistancePreference` *funktort*.\n",
    "\n",
    "Ez a következő számítást végzi el minden egyes $i$ parkolóhelyre, melynek aktuális ára $p_i$, és a vásárló autótól mért távolsága $d_i$. A $p_{max}$ és $d_{max}$ változók rendre a legdrágább, illetve a legtávolabbi parkolóhelyet jelölik:\n",
    "\n",
    "> $\\Pi_i = \\alpha \\frac{p_i}{p_{max}} + (1-\\alpha) \\frac{d_i}{d_{max}}. $\n",
    "\n",
    "Az Ön feladata, hogy az $\\alpha$ súlytényezőt beállítsa. Figyelje meg a következő lehetőségeket:\n",
    "1. $\\alpha = 1.0$ esetén az árverési metódus csak az árat fogja figyelembe venni.\n",
    "2. $\\alpha = 0.5$ esetén egyforma súllyal számít az ár és a távolság egy parkolóhelyre való licit szempontjából.\n",
    "3. Nagyon kicsi $\\alpha$ esetén az árverésen szinte kizárólag a távolság alapján fog dönteni egy jármű."
   ]
  },
  {
   "cell_type": "code",
   "execution_count": null,
   "id": "eb5157f0",
   "metadata": {},
   "outputs": [],
   "source": [
    "import parking_lot_preferences\n",
    "\n",
    "α =  #<--- állítsa be megfelelően az értékét!\n",
    "\n",
    "preference_function = parking_lot_preferences.MixedCostDistancePreference(distance_mtx,\n",
    "                                                                         alpha=α)"
   ]
  },
  {
   "cell_type": "markdown",
   "id": "4e01cbbe",
   "metadata": {},
   "source": [
    "### **Szimuláció**\n",
    "\n",
    "Most már minden adott ahhoz, hogy kipróbáljuk az árveréseken alapuló parkolóhely-kiosztó eljárásunkat. **Ehhez először végezzük el az árverések kiszámítását az alábbi cella futtatásával. Figyelem, a cella futtatása néhány percig is eltarthat!**"
   ]
  },
  {
   "cell_type": "code",
   "execution_count": null,
   "id": "58ca9bfb",
   "metadata": {},
   "outputs": [],
   "source": [
    "#árverések és vevők létrehozása:\n",
    "auctions, buyers = helper.init_auction_method(parking_capacities, vehicle_ids,\n",
    "                                       assigned_parking_prices,\n",
    "                                       preference_function)\n",
    "#árverések futtatása:\n",
    "auction_result = helper.run_auctions(auctions, buyers, verbose=True)"
   ]
  },
  {
   "cell_type": "markdown",
   "id": "124f5f1f",
   "metadata": {},
   "source": [
    "Az elosztás eredménye alapján pedig nézzük meg, mi történik a szimulációban. **Futtassa le az alábbi cellát, és nézze meg, hogy mi történik a SUMO-GUI-ban!**"
   ]
  },
  {
   "cell_type": "code",
   "execution_count": null,
   "id": "0668b362",
   "metadata": {},
   "outputs": [],
   "source": [
    "#gépkocsik-parkolóhelyek összerendelése az árverések eredménye alapján:\n",
    "parking_mapping = helper.auction_results_to_parking_mapping(auction_result)\n",
    "#a szimuláció végigfuttatása:\n",
    "helper.simulate_after_auction(parking_mapping)"
   ]
  },
  {
   "cell_type": "markdown",
   "id": "a8af06e4",
   "metadata": {},
   "source": [
    "### **Értékelés, összehasonlítás**"
   ]
  },
  {
   "cell_type": "markdown",
   "id": "baf181a5",
   "metadata": {},
   "source": [
    "**Futtassa le a következő cellát az eredmények értékeléséhez!**"
   ]
  },
  {
   "cell_type": "code",
   "execution_count": null,
   "id": "2320c22c",
   "metadata": {},
   "outputs": [],
   "source": [
    "#beolvasandó eredményfájl\n",
    "uncoordinated_output = \"outputs/basic_output.xml\"\n",
    "coordinated_output = \"outputs/with_auctions.xml\"\n",
    "\n",
    "#eredményfájl beolvasása (idő, érték) változópárokba:\n",
    "t_uncoordinated, v_uncoordinated = helper.get_stopped_vehicles_from_output(uncoordinated_output)\n",
    "t_coordinated, v_coordinated = helper.get_stopped_vehicles_from_output(coordinated_output)\n",
    "#eredmények megjelenítése:\n",
    "helper.plot_stopped_vehicles([t_uncoordinated, t_coordinated],\n",
    "                             [v_uncoordinated, v_coordinated],\n",
    "                             [\"uncoordinated\", \"coordinated\"]);"
   ]
  },
  {
   "cell_type": "markdown",
   "id": "1e9097e1",
   "metadata": {},
   "source": [
    "A görbe elején látható tüskét a szimulációs eljárás okozta: a SUMO néhány autót a kérésünk ellenére is leparkoltatott, ezeket a helyeket fel kellett szabadítanunk.\n",
    "\n",
    "Persze jogosan merül fel a kérdés, hogy a parkolóárak hogyan változtak a folyamat során. Feltételezhetjük, hogy az árverési eljárás nélkül az Ön által definiált kikiáltási árat fizették volna a gépkocsik a parkolásért. Lássuk, hogyan viszonyulnak ehhez a parkolási költségek az árverések után! **Futtassa le a következő cellát az eredmények megjelenítéséhez!**"
   ]
  },
  {
   "cell_type": "code",
   "execution_count": null,
   "id": "4eeb27da",
   "metadata": {},
   "outputs": [],
   "source": [
    "helper.print_price_differences(starting_prices, auction_result)"
   ]
  },
  {
   "cell_type": "markdown",
   "id": "2c82d315",
   "metadata": {},
   "source": [
    "**A kapott eredmények alapján válaszoljon a következő kérdésekre!**\n",
    "\n",
    "> Kb. hány szimulációs lépés kellett ahhoz, hogy minden gépjármű leparkoljon?\n",
    "\n",
    "<az ön válaszának helye>\n",
    "\n",
    "> Kb. mennyivel gyorsabban érte el így a rendszer a megoldást?\n",
    "\n",
    "<az ön válaszának helye>\n",
    "\n",
    "> Jelentős-e a parkolási díjak változása?\n",
    "\n",
    "<az ön válaszának helye>"
   ]
  },
  {
   "cell_type": "markdown",
   "id": "6b6b2a3b",
   "metadata": {},
   "source": [
    "---\n",
    "\n",
    "## **Ellenőrző kérdések**\n",
    "\n",
    "> 1. Igaz-e az általában, hogyha minden ágens lokálisan optimális megoldást talál, akkor a többágenses rendszer megoldása is optimális?\n",
    "\n",
    "<az ön válaszának helye>\n",
    "\n",
    "> 2. Lehetséges-e az, hogy versengő ágensek kooperálnak?\n",
    "\n",
    "<az ön válaszának helye>\n",
    "\n",
    "> 3. Az árverések során versengenek egymással a gépjárművek?\n",
    "\n",
    "<az ön válaszának helye>\n",
    "\n",
    "> 4. Mi biztosítja mégis a kooperációt?\n",
    "\n",
    "<az ön válaszának helye>"
   ]
  },
  {
   "cell_type": "markdown",
   "id": "223583c3",
   "metadata": {},
   "source": [
    "---\n",
    "## **Adminisztratív adatok**\n",
    "\n",
    "A mérést végző hallgatók:\n",
    "\n",
    "|        neve        | neptunkódja |\n",
    "|:------------------:|:-----------:|\n",
    "|       hallgató1    |   NEPTUN    |\n",
    "|       hallgató2    |   MEPTUN    |\n",
    "\n",
    "Jelen `.ipynb` kiterjesztésű anyagot a laborvezetőknek történő bemutatás után csomagolják össze `.zip`-be, majd töltsék fel a [HF-portálra](http://hf.mit.bme.hu)!"
   ]
  }
 ],
 "metadata": {
  "kernelspec": {
   "display_name": "Python 3 (ipykernel)",
   "language": "python",
   "name": "python3"
  },
  "language_info": {
   "codemirror_mode": {
    "name": "ipython",
    "version": 3
   },
   "file_extension": ".py",
   "mimetype": "text/x-python",
   "name": "python",
   "nbconvert_exporter": "python",
   "pygments_lexer": "ipython3",
   "version": "3.9.17"
  }
 },
 "nbformat": 4,
 "nbformat_minor": 5
}
