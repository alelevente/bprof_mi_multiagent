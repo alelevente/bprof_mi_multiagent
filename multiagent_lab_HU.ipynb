{
 "cells": [
  {
   "cell_type": "markdown",
   "id": "3f8fd95b",
   "metadata": {},
   "source": [
    "# **Többágenses rendszerek vizsgálata**"
   ]
  },
  {
   "cell_type": "markdown",
   "id": "c0082216",
   "metadata": {},
   "source": [
    "## **Bevezetés**\n",
    "\n",
    "A gyakorlati problémák során gyakran előfordul, hogy a megoldáshoz több intelligens ágens is a rendelkezésre áll. Ezen ágensek valószínűleg mást érzékelnek a környezetből (pl. mert máshol tartózkodnak, vagy másféle érzékelőkkel vannak ellátva), ezért működésük során némileg másképpen \"gondolkodnak\", így másféle beavatkozásokat is fognak végrehajtani.\n",
    "\n",
    "Ezen beavatkozások természetesen megváltoztatják a környezetet, viszont az koránt sem biztos, hogy ami az egyik ágens szempontjából racionális cselekvés volt, az a teljes rendszer szempontjából is annak tekinthető-e. Sajnos ez általánosan nem jelenthető ki, ezért különféle módszereket kell kidolgoznunk arra, hogyha egy adott környzetben egy problémát több ágenssel szeretnénk megoldani.\n",
    "\n",
    "Egy konkrét példaként említhetjük a jövő önvezető gépjárműveit, melyeket önmagunkban is intelligens ágensként kezelünk. Annak érdekében, hogy egy város forgalmát csökkenthessük, szeretnénk, ha az önvezető autók a lehető leghamarabb leparkolnának. Természetesen az autók mozgó fizikai entitások is, így be kell tartaniuk a közlekedési szabályokat, illetve csak olyan parkolóban állhatnak meg, amelyet egy másik jármű még nem foglalt el. Ez nyilvánvalóan teremt a gépkocsik között egyfajta versengést is. Mivel az önvezető autókat feltételezésünk szerint ellátták V2I (vehicle-to-infrastructure) kommunikációs modullal, az autók kooperálhatnak is, azaz megbeszélhetik, hogy melyikük hová parkoljon le.\n",
    "\n",
    "Tömören összefoglalva tehát a laborban megoldandó többágenses feladat a következőképpen írható le:\n",
    "- **Környezet:** egy város úthálózata\n",
    "- **Ágensek:** önvezető autók\n",
    "- **Feladat:** minden autó a lehető leggyorsabban parkoljon le\n",
    "- az ágenseink alapvetően versengőek, de kommunikáció segítségével kooperálni tudnak a közös cél elérésének érdekében\n",
    "\n",
    "### **A szoftverkörnyezet**\n",
    "\n",
    "A laborgyakorlat során a környezet modellezéséhez egy ún. mikroszkopikus forgalomszimulátort fogunk használni. A mikroszkopikus jelentése itt az, hogy a szimulátor képes autók szintjén modellezni a forgalmat. Ez a szimulátor a nyílt forráskódú [Eclipse SUMO](https://www.eclipse.org/sumo/) lesz (SUMO = Simulation of Urban MObility).\n",
    "\n",
    "A szerverként futtatható szimulátorhoz egy interfészen, a [TraCI-n](https://sumo.dlr.de/daily/pydoc/traci.main.html) (Traffic Control Interface) keresztül fogunk csatlakozni ebből a Jupyter Notebookból. A TraCI-n keresztül lehetőségünk van a szimulátor működését is befolyásolni. Mivel a laboratóriumi foglalkozás kereteibe nem fér bele a SUMO és a TraCI mélyebb megismerése, elkészítettünk egy segédkönyvtárat (`helper.py`), amely már tartalmazza a megoldáshoz legszükségesebb függvényeket.\n",
    "\n",
    "**Végezze el ennek a könyvtárnak az importálását!**"
   ]
  },
  {
   "cell_type": "code",
   "execution_count": 1,
   "id": "2fff44cb",
   "metadata": {},
   "outputs": [],
   "source": [
    "import helper"
   ]
  },
  {
   "cell_type": "markdown",
   "id": "2cd95ca4",
   "metadata": {},
   "source": [
    "## **Parkolás koordináció nélkül**\n",
    "\n",
    "Első lépésként vizsgáljuk meg mi történik abban az esetben, ha az ágenseink nem kooperálnak! Ez gyakorlatilag a klasszikus parkolóhely-keresés lesz: addig fognak a szimulált gépkocsik parkolóról parkolóra vándorolni, amíg nem találnak egy üres helyet."
   ]
  },
  {
   "cell_type": "markdown",
   "id": "16c3e8f4",
   "metadata": {},
   "source": [
    "### **Szimuláció**\n",
    "\n",
    "A vizsgálathoz el fogjuk indítani az Eclipse SUMO-t. A SUMO-nak grafikus, és konzolos felülete is van. A laboron az érdekesség kedvéért a grafikus felületet fogjuk használni. Minden szimulációhoz szükséges az, hogy a grafikus felületen elindítsuk a szimulációt (persze lehetőségünk van arra is, hogy megállítsuk a szimulációt, illetve, hogy lépésenként futtassuk azt).\n",
    "\n",
    "**Az alábbi cellát futtatva indítsa el a SUMO-t! Ismerkedjen meg a grafikus felülettel, a szimuláció lelassítása mellett figyelje meg, hogy mi történik a szimuláció során!**\n",
    "(A szimuláció lefutása után zárja be a SUMO-GUI ablakát!)"
   ]
  },
  {
   "cell_type": "code",
   "execution_count": 2,
   "id": "d705617b",
   "metadata": {},
   "outputs": [
    {
     "name": "stdout",
     "output_type": "stream",
     "text": [
      " Retrying in 1 seconds\n"
     ]
    }
   ],
   "source": [
    "baseline_scenario = \"basic_simulation.sumocfg\"\n",
    "helper.run_basic_simulation(gui_needed = True, scenario = baseline_scenario)"
   ]
  },
  {
   "cell_type": "markdown",
   "id": "cfbfa3fb",
   "metadata": {},
   "source": [
    "### **Értékelés**"
   ]
  },
  {
   "cell_type": "code",
   "execution_count": null,
   "id": "dfc1d5b4",
   "metadata": {},
   "outputs": [],
   "source": []
  },
  {
   "cell_type": "markdown",
   "id": "17fdcc9b",
   "metadata": {},
   "source": [
    "---\n",
    "\n",
    "## **Parkolás koordinációval**"
   ]
  },
  {
   "cell_type": "markdown",
   "id": "ba0c7bc1",
   "metadata": {},
   "source": [
    "### **Aukciós eljárás**"
   ]
  },
  {
   "cell_type": "markdown",
   "id": "5cc011b4",
   "metadata": {},
   "source": [
    "### **Szimuláció**"
   ]
  },
  {
   "cell_type": "markdown",
   "id": "003f5d8e",
   "metadata": {},
   "source": [
    "### **Értékelés, összehasonlítás**"
   ]
  },
  {
   "cell_type": "markdown",
   "id": "d59d4ef1",
   "metadata": {},
   "source": [
    "---\n",
    "\n",
    "## **Ellenőrző kérdések**\n",
    "\n",
    "> 1. Igaz-e az, hogyha minden ágens lokálisan optimális megoldást talál, akkor a többágenses rendszer megoldása is optimális?\n",
    "\n",
    "<az ön válaszának helye>\n",
    "\n",
    "> 2. Lehetséges-e az, hogy versengő ágensek kooperálnak?\n",
    "\n",
    "<az ön válaszának helye>"
   ]
  }
 ],
 "metadata": {
  "kernelspec": {
   "display_name": "Python 3",
   "language": "python",
   "name": "python3"
  },
  "language_info": {
   "codemirror_mode": {
    "name": "ipython",
    "version": 3
   },
   "file_extension": ".py",
   "mimetype": "text/x-python",
   "name": "python",
   "nbconvert_exporter": "python",
   "pygments_lexer": "ipython3",
   "version": "3.7.3"
  }
 },
 "nbformat": 4,
 "nbformat_minor": 5
}
