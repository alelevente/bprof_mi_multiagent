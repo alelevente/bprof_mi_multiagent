{
 "cells": [
  {
   "cell_type": "markdown",
   "id": "1aa0ee45",
   "metadata": {},
   "source": [
    "> python3 $SUMO_HOME/tools/visualization/plot_summary.py -i basic_output.xml --xlim 0,1000 -o summary_basic.png -m stopped\n"
   ]
  },
  {
   "cell_type": "markdown",
   "id": "15e4ebc4",
   "metadata": {},
   "source": [
    "# Simulation setup"
   ]
  },
  {
   "cell_type": "code",
   "execution_count": 1,
   "id": "2ce1191f",
   "metadata": {},
   "outputs": [],
   "source": [
    "import os, sys\n",
    "import traci"
   ]
  },
  {
   "cell_type": "code",
   "execution_count": 6,
   "id": "3809b5ce",
   "metadata": {},
   "outputs": [],
   "source": [
    "gui = True #to run either sumo or sumo-gui\n",
    "SUMO_HOME = os.environ[\"SUMO_HOME\"] #locating the simulator\n",
    "default_scenario = \"./basic_simulation.sumocfg\"\n",
    "\n",
    "sys.path.append(SUMO_HOME+\"/tools\")\n",
    "import sumolib\n",
    "\n",
    "def run_simulation(gui_needed: bool, scenario: str):\n",
    "    '''Runs a SUMO simulation.\n",
    "        -----------------------\n",
    "        parameters:\n",
    "        - gui-needed: if true SUMO is started with GUI\n",
    "        - scenario: path to the .sumocfg file to run'''\n",
    "    \n",
    "    sumo_binary = \"sumo-gui\" if gui_needed else \"sumo\"\n",
    "    sumo_cmd = [sumo_binary, \"-c\", scenario]\n",
    "    #starting SUMO server:\n",
    "    traci.start(sumo_cmd)\n",
    "    \n",
    "    #conducting the simulation:\n",
    "    step = 0\n",
    "    while step < 1000:\n",
    "        step += 1\n",
    "        traci.simulationStep()\n",
    "    \n",
    "    traci.close()"
   ]
  },
  {
   "cell_type": "code",
   "execution_count": 5,
   "id": "0df0b0e5",
   "metadata": {},
   "outputs": [
    {
     "name": "stdout",
     "output_type": "stream",
     "text": [
      " Retrying in 1 seconds\n"
     ]
    }
   ],
   "source": [
    "run_simulation(False, default_scenario)"
   ]
  },
  {
   "cell_type": "markdown",
   "id": "91f2c074",
   "metadata": {},
   "source": [
    "# Parsing and plotting outputs"
   ]
  },
  {
   "cell_type": "code",
   "execution_count": 7,
   "id": "f2e0d13b",
   "metadata": {},
   "outputs": [],
   "source": [
    "output_file = \"outputs/basic_output.xml\""
   ]
  },
  {
   "cell_type": "code",
   "execution_count": 13,
   "id": "20568958",
   "metadata": {},
   "outputs": [],
   "source": [
    "def get_stopped_vehicles_from_output(output_file: str):\n",
    "    '''Extracts number of stopped vehicles from a simulation summary output.\n",
    "        ------------------------\n",
    "        parameters:\n",
    "        - output_file: the simulation output to parse\n",
    "        \n",
    "        Returns: time and #stopped vehicle pairs'''\n",
    "    \n",
    "    t, v = [], [] #(time x value) pairs\n",
    "    for time, val in sumolib.xml.parse_fast(output_file, \"step\", (\"time\", \"stopped\")):\n",
    "        t.append(sumolib.miscutils.parseTime(time))\n",
    "        v.append(float(val))\n",
    "    return t,v"
   ]
  },
  {
   "cell_type": "code",
   "execution_count": 26,
   "id": "285ecaeb",
   "metadata": {},
   "outputs": [],
   "source": [
    "import matplotlib.pyplot as plt\n",
    "\n",
    "def plot_stopped_vehicles(time_values, stopped_values, titles):\n",
    "    fig, ax = plt.subplots()\n",
    "    for i in range(len(time_values)):\n",
    "        ax.plot(time_values[i], stopped_values[i], label=titles[i])\n",
    "    ax.set_xlabel(\"timestep\")\n",
    "    ax.set_ylabel(\"#stopped vehicles\")\n",
    "    ax.set_title(\"Number of stopped vehicles\")\n",
    "    ax.legend()\n",
    "    return fig, ax"
   ]
  },
  {
   "cell_type": "code",
   "execution_count": 27,
   "id": "15b1bf8d",
   "metadata": {},
   "outputs": [
    {
     "data": {
      "text/plain": [
       "(<Figure size 432x288 with 1 Axes>,\n",
       " <AxesSubplot:title={'center':'Number of stopped vehicles'}, xlabel='timestep', ylabel='#stopped vehicles'>)"
      ]
     },
     "execution_count": 27,
     "metadata": {},
     "output_type": "execute_result"
    },
    {
     "data": {
      "image/png": "[encoded data removed]",
      "text/plain": [
       "<Figure size 432x288 with 1 Axes>"
      ]
     },
     "metadata": {
      "needs_background": "light"
     },
     "output_type": "display_data"
    }
   ],
   "source": [
    "t,v = get_stopped_vehicles_from_output(output_file)\n",
    "plot_stopped_vehicles([t], [v], [\"baseline\"])"
   ]
  }
 ],
 "metadata": {
  "kernelspec": {
   "display_name": "Python 3",
   "language": "python",
   "name": "python3"
  },
  "language_info": {
   "codemirror_mode": {
    "name": "ipython",
    "version": 3
   },
   "file_extension": ".py",
   "mimetype": "text/x-python",
   "name": "python",
   "nbconvert_exporter": "python",
   "pygments_lexer": "ipython3",
   "version": "3.7.3"
  }
 },
 "nbformat": 4,
 "nbformat_minor": 5
}
