{
 "cells": [
  {
   "cell_type": "markdown",
   "id": "6224bf14",
   "metadata": {},
   "source": [
    "# **Testing the Auction module**"
   ]
  },
  {
   "cell_type": "code",
   "execution_count": 1,
   "id": "b52d3bf5",
   "metadata": {},
   "outputs": [
    {
     "data": {
      "text/plain": [
       "<module 'auction' from '../auction.py'>"
      ]
     },
     "execution_count": 1,
     "metadata": {},
     "output_type": "execute_result"
    }
   ],
   "source": [
    "import sys\n",
    "import numpy as np\n",
    "from importlib import reload\n",
    "sys.path.append(\"../\")\n",
    "\n",
    "import auction\n",
    "reload(auction)"
   ]
  },
  {
   "cell_type": "markdown",
   "id": "859a70f2",
   "metadata": {},
   "source": [
    "## **Functionality testing**"
   ]
  },
  {
   "cell_type": "markdown",
   "id": "8bff26c3",
   "metadata": {},
   "source": [
    "### Small sample"
   ]
  },
  {
   "cell_type": "code",
   "execution_count": 2,
   "id": "a6fb5919",
   "metadata": {},
   "outputs": [],
   "source": [
    "starting_prices = np.random.normal(300, 15, 10)\n",
    "\n",
    "def preference_function(current_prices):\n",
    "    return np.argmin(current_prices)"
   ]
  },
  {
   "cell_type": "code",
   "execution_count": 3,
   "id": "2c6369b9",
   "metadata": {},
   "outputs": [],
   "source": [
    "auctions = [auction.Auctioneer(starting_prices[i], 10) for i in range(10)]\n",
    "buyers = [auction.Buyer(auctions, 5000, preference_function) for i in range(10)]"
   ]
  },
  {
   "cell_type": "code",
   "execution_count": 4,
   "id": "c51169d2",
   "metadata": {},
   "outputs": [],
   "source": [
    "result = auction.run_auctions(auctions, buyers)"
   ]
  },
  {
   "cell_type": "code",
   "execution_count": 5,
   "id": "1ccb6683",
   "metadata": {},
   "outputs": [
    {
     "data": {
      "text/plain": [
       "[{'auction_index': 3, 'buyer_index': 0, 'price': 288.19484249432185},\n",
       " {'auction_index': 6, 'buyer_index': 3, 'price': 295.1345708337224},\n",
       " {'auction_index': 7, 'buyer_index': 1, 'price': 293.3901193554589},\n",
       " {'auction_index': 8, 'buyer_index': 2, 'price': 293.9645977642444},\n",
       " {'auction_index': 0, 'buyer_index': 5, 'price': 324.20861169585567},\n",
       " {'auction_index': 1, 'buyer_index': 7, 'price': 327.3585616624283},\n",
       " {'auction_index': 2, 'buyer_index': 6, 'price': 324.6185294370245},\n",
       " {'auction_index': 5, 'buyer_index': 9, 'price': 321.0911481540824},\n",
       " {'auction_index': 9, 'buyer_index': 4, 'price': 323.3523159401985},\n",
       " {'auction_index': 4, 'buyer_index': 8, 'price': 329.21913712993387}]"
      ]
     },
     "execution_count": 5,
     "metadata": {},
     "output_type": "execute_result"
    }
   ],
   "source": [
    "result"
   ]
  },
  {
   "cell_type": "markdown",
   "id": "f5dbfb18",
   "metadata": {},
   "source": [
    "### Bigger sample"
   ]
  },
  {
   "cell_type": "code",
   "execution_count": 6,
   "id": "6071f6a5",
   "metadata": {},
   "outputs": [],
   "source": [
    "starting_prices = np.random.normal(300, 15, 400)\n",
    "auctions = [auction.Auctioneer(starting_prices[i], 10) for i in range(200)]\n",
    "buyers = [auction.Buyer(auctions, 5000, preference_function) for i in range(200)]"
   ]
  },
  {
   "cell_type": "code",
   "execution_count": 7,
   "id": "da5fae4a",
   "metadata": {},
   "outputs": [],
   "source": [
    "result = auction.run_auctions(auctions, buyers)"
   ]
  },
  {
   "cell_type": "code",
   "execution_count": 8,
   "id": "a88a93a1",
   "metadata": {},
   "outputs": [],
   "source": [
    "successful_buyers = []\n",
    "for r in result:\n",
    "    if r[\"buyer_index\"] in successful_buyers: raise(ValueError)\n",
    "    successful_buyers.append(r[\"buyer_index\"])"
   ]
  },
  {
   "cell_type": "code",
   "execution_count": 9,
   "id": "325cbb37",
   "metadata": {},
   "outputs": [
    {
     "data": {
      "text/plain": [
       "Text(0, 0.5, 'occurance')"
      ]
     },
     "execution_count": 9,
     "metadata": {},
     "output_type": "execute_result"
    },
    {
     "data": {
      "image/png": "[encoded data removed]",
      "text/plain": [
       "<Figure size 432x288 with 1 Axes>"
      ]
     },
     "metadata": {
      "needs_background": "light"
     },
     "output_type": "display_data"
    }
   ],
   "source": [
    "import matplotlib.pyplot as plt\n",
    "\n",
    "prices = []\n",
    "for r in result:\n",
    "    prices.append(r[\"price\"])\n",
    "    \n",
    "plt.hist(prices)\n",
    "plt.xlabel(\"price\")\n",
    "plt.ylabel(\"occurance\")"
   ]
  },
  {
   "cell_type": "markdown",
   "id": "6b3c9b0f",
   "metadata": {},
   "source": [
    "## **Asymmetric test cases**"
   ]
  },
  {
   "cell_type": "markdown",
   "id": "26301e4a",
   "metadata": {},
   "source": [
    "### #buyers > #items"
   ]
  },
  {
   "cell_type": "code",
   "execution_count": 10,
   "id": "9db9d9a4",
   "metadata": {},
   "outputs": [],
   "source": [
    "starting_prices = np.random.normal(300, 15, 30)\n",
    "auctions = [auction.Auctioneer(starting_prices[i], 10) for i in range(30)]\n",
    "buyers = [auction.Buyer(auctions, 5000, preference_function) for i in range(100)]"
   ]
  },
  {
   "cell_type": "code",
   "execution_count": 11,
   "id": "aa783d84",
   "metadata": {},
   "outputs": [],
   "source": [
    "result = auction.run_auctions(auctions, buyers)"
   ]
  },
  {
   "cell_type": "code",
   "execution_count": 12,
   "id": "3dedb5d8",
   "metadata": {},
   "outputs": [],
   "source": [
    "successful_buyers = []\n",
    "for r in result:\n",
    "    if r[\"buyer_index\"] in successful_buyers: raise(ValueError)\n",
    "    successful_buyers.append(r[\"buyer_index\"])"
   ]
  },
  {
   "cell_type": "code",
   "execution_count": 13,
   "id": "48c0bd09",
   "metadata": {},
   "outputs": [
    {
     "data": {
      "text/plain": [
       "Text(0, 0.5, 'occurance')"
      ]
     },
     "execution_count": 13,
     "metadata": {},
     "output_type": "execute_result"
    },
    {
     "data": {
      "image/png": "[encoded data removed]",
      "text/plain": [
       "<Figure size 432x288 with 1 Axes>"
      ]
     },
     "metadata": {
      "needs_background": "light"
     },
     "output_type": "display_data"
    }
   ],
   "source": [
    "import matplotlib.pyplot as plt\n",
    "\n",
    "prices = []\n",
    "for r in result:\n",
    "    prices.append(r[\"price\"])\n",
    "    \n",
    "plt.hist(prices)\n",
    "plt.xlabel(\"price\")\n",
    "plt.ylabel(\"occurance\")"
   ]
  },
  {
   "cell_type": "markdown",
   "id": "8b7c786e",
   "metadata": {},
   "source": [
    "### #buyers < #items"
   ]
  },
  {
   "cell_type": "code",
   "execution_count": 14,
   "id": "96be797a",
   "metadata": {},
   "outputs": [],
   "source": [
    "starting_prices = np.random.normal(300, 15, 50)\n",
    "auctions = [auction.Auctioneer(starting_prices[i], 10) for i in range(50)]\n",
    "buyers = [auction.Buyer(auctions, 5000, preference_function) for i in range(30)]"
   ]
  },
  {
   "cell_type": "code",
   "execution_count": 15,
   "id": "2e7525f3",
   "metadata": {},
   "outputs": [],
   "source": [
    "result = auction.run_auctions(auctions, buyers)"
   ]
  },
  {
   "cell_type": "code",
   "execution_count": 16,
   "id": "b313a6ce",
   "metadata": {},
   "outputs": [
    {
     "data": {
      "text/plain": [
       "[{'auction_index': 16, 'buyer_index': 5, 'price': 278.6778282282365},\n",
       " {'auction_index': 28, 'buyer_index': 6, 'price': 279.6402762602332},\n",
       " {'auction_index': 37, 'buyer_index': 3, 'price': 277.4387319052458},\n",
       " {'auction_index': 40, 'buyer_index': 4, 'price': 278.6089951129178},\n",
       " {'auction_index': 9, 'buyer_index': 2, 'price': 281.01349209807785},\n",
       " {'auction_index': 10, 'buyer_index': 7, 'price': 283.77689140437906},\n",
       " {'auction_index': 11, 'buyer_index': 0, 'price': 279.6802137171264},\n",
       " {'auction_index': 26, 'buyer_index': 1, 'price': 280.53736097412974},\n",
       " {'auction_index': 4, 'buyer_index': 8, 'price': 285.25350777208223},\n",
       " {'auction_index': 6, 'buyer_index': 10, 'price': 288.16378573769146},\n",
       " {'auction_index': 29, 'buyer_index': 11, 'price': 289.1787862884123},\n",
       " {'auction_index': 36, 'buyer_index': 9, 'price': 286.57912366235485},\n",
       " {'auction_index': 47, 'buyer_index': 12, 'price': 291.17499914784946},\n",
       " {'auction_index': 2, 'buyer_index': 14, 'price': 292.6400369532929},\n",
       " {'auction_index': 32, 'buyer_index': 13, 'price': 292.608188737046},\n",
       " {'auction_index': 46, 'buyer_index': 15, 'price': 293.57741264604783},\n",
       " {'auction_index': 7, 'buyer_index': 17, 'price': 294.3610529727232},\n",
       " {'auction_index': 15, 'buyer_index': 16, 'price': 293.99373485524944},\n",
       " {'auction_index': 3, 'buyer_index': 18, 'price': 295.0512258298403},\n",
       " {'auction_index': 5, 'buyer_index': 19, 'price': 295.1540445354116},\n",
       " {'auction_index': 20, 'buyer_index': 21, 'price': 295.8230737585915},\n",
       " {'auction_index': 23, 'buyer_index': 22, 'price': 295.92297275707875},\n",
       " {'auction_index': 45, 'buyer_index': 23, 'price': 297.28454088085465},\n",
       " {'auction_index': 48, 'buyer_index': 20, 'price': 295.5577833687349},\n",
       " {'auction_index': 24, 'buyer_index': 25, 'price': 298.97404920939175},\n",
       " {'auction_index': 42, 'buyer_index': 24, 'price': 298.879538172352},\n",
       " {'auction_index': 18, 'buyer_index': 27, 'price': 299.6513525506511},\n",
       " {'auction_index': 21, 'buyer_index': 26, 'price': 299.1554759253775},\n",
       " {'auction_index': 41, 'buyer_index': 28, 'price': 299.70074842808526},\n",
       " {'auction_index': 8, 'buyer_index': 29, 'price': 299.82161590792606}]"
      ]
     },
     "execution_count": 16,
     "metadata": {},
     "output_type": "execute_result"
    }
   ],
   "source": [
    "result"
   ]
  },
  {
   "cell_type": "code",
   "execution_count": 17,
   "id": "c33e7ba9",
   "metadata": {},
   "outputs": [
    {
     "data": {
      "text/plain": [
       "Text(0, 0.5, 'occurance')"
      ]
     },
     "execution_count": 17,
     "metadata": {},
     "output_type": "execute_result"
    },
    {
     "data": {
      "image/png": "[encoded data removed]",
      "text/plain": [
       "<Figure size 432x288 with 1 Axes>"
      ]
     },
     "metadata": {
      "needs_background": "light"
     },
     "output_type": "display_data"
    }
   ],
   "source": [
    "import matplotlib.pyplot as plt\n",
    "\n",
    "prices = []\n",
    "for r in result:\n",
    "    prices.append(r[\"price\"])\n",
    "    \n",
    "plt.hist(prices)\n",
    "plt.xlabel(\"price\")\n",
    "plt.ylabel(\"occurance\")"
   ]
  }
 ],
 "metadata": {
  "kernelspec": {
   "display_name": "Python 3",
   "language": "python",
   "name": "python3"
  },
  "language_info": {
   "codemirror_mode": {
    "name": "ipython",
    "version": 3
   },
   "file_extension": ".py",
   "mimetype": "text/x-python",
   "name": "python",
   "nbconvert_exporter": "python",
   "pygments_lexer": "ipython3",
   "version": "3.7.3"
  }
 },
 "nbformat": 4,
 "nbformat_minor": 5
}
